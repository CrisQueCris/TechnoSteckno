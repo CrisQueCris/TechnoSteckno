{
 "cells": [
  {
   "cell_type": "markdown",
   "id": "98046c12-aa28-406a-8320-54a6f779ccea",
   "metadata": {},
   "source": [
    "Scaling and Clustering of the spotify library:"
   ]
  },
  {
   "cell_type": "code",
   "execution_count": 1,
   "id": "fe980b92-6c95-470b-89cd-ad26fccddc9c",
   "metadata": {},
   "outputs": [],
   "source": [
    "import numpy as np\n",
    "import pandas as pd\n",
    "import pickle\n",
    "from sklearn import datasets # sklearn comes with some toy datasets to practise\n",
    "from sklearn.preprocessing import StandardScaler\n",
    "from sklearn.cluster import KMeans\n",
    "from matplotlib import pyplot\n",
    "from sklearn.metrics import silhouette_score"
   ]
  },
  {
   "cell_type": "code",
   "execution_count": 6,
   "id": "88c04a16-1e70-4983-8315-cc29502c32aa",
   "metadata": {},
   "outputs": [],
   "source": [
    "sp_library = pd.read_csv('library_spotify/df_features_library.csv')"
   ]
  },
  {
   "cell_type": "code",
   "execution_count": 7,
   "id": "e041786a-4085-47b7-9ad8-ae83d0d3c058",
   "metadata": {},
   "outputs": [
    {
     "data": {
      "text/plain": [
       "Index(['Unnamed: 0', 'danceability', 'energy', 'key', 'loudness', 'mode',\n",
       "       'speechiness', 'acousticness', 'instrumentalness', 'liveness',\n",
       "       'valence', 'tempo', 'type', 'id', 'uri', 'track_href', 'analysis_url',\n",
       "       'duration_ms', 'time_signature'],\n",
       "      dtype='object')"
      ]
     },
     "execution_count": 7,
     "metadata": {},
     "output_type": "execute_result"
    }
   ],
   "source": [
    "sp_library.columns"
   ]
  },
  {
   "cell_type": "markdown",
   "id": "ac171634-b096-4528-a044-ff2455eb1f8f",
   "metadata": {},
   "source": [
    "Columns for clustering:\n",
    "'danceability'\n",
    "'energy'\n",
    "'loudness'\n",
    "'speechiness'  # detects the presence of spoken words in a track\n",
    "'acousticness'\n",
    "'instrumentalness'\n",
    "'liveness'  # Detects the presence of an audience in the recording\n",
    "'valence'  # A measure from 0.0 to 1.0 describing the musical positiveness conveyed by a track\n",
    "'tempo'\n",
    "\n",
    "\n",
    "Add later when data exists:\n",
    "'time_signature'\n",
    "'popularity'"
   ]
  },
  {
   "cell_type": "code",
   "execution_count": 14,
   "id": "3b7a3283-2807-43f7-b969-32e4484b6e17",
   "metadata": {},
   "outputs": [],
   "source": [
    "X = sp_library[['danceability',\n",
    "                'energy',\n",
    "                'loudness',\n",
    "                'speechiness',\n",
    "                'acousticness',\n",
    "               'instrumentalness',\n",
    "               'liveness', \n",
    "                'valence',  \n",
    "                'tempo']]"
   ]
  },
  {
   "cell_type": "code",
   "execution_count": 16,
   "id": "02cf0cef-04f5-4194-9d33-e52c610bf5a3",
   "metadata": {},
   "outputs": [
    {
     "data": {
      "text/html": [
       "<div>\n",
       "<style scoped>\n",
       "    .dataframe tbody tr th:only-of-type {\n",
       "        vertical-align: middle;\n",
       "    }\n",
       "\n",
       "    .dataframe tbody tr th {\n",
       "        vertical-align: top;\n",
       "    }\n",
       "\n",
       "    .dataframe thead th {\n",
       "        text-align: right;\n",
       "    }\n",
       "</style>\n",
       "<table border=\"1\" class=\"dataframe\">\n",
       "  <thead>\n",
       "    <tr style=\"text-align: right;\">\n",
       "      <th></th>\n",
       "      <th>danceability</th>\n",
       "      <th>energy</th>\n",
       "      <th>loudness</th>\n",
       "      <th>speechiness</th>\n",
       "      <th>acousticness</th>\n",
       "      <th>instrumentalness</th>\n",
       "      <th>liveness</th>\n",
       "      <th>valence</th>\n",
       "      <th>tempo</th>\n",
       "    </tr>\n",
       "  </thead>\n",
       "  <tbody>\n",
       "    <tr>\n",
       "      <th>0</th>\n",
       "      <td>0.613</td>\n",
       "      <td>0.764</td>\n",
       "      <td>-6.509</td>\n",
       "      <td>0.1360</td>\n",
       "      <td>0.0527</td>\n",
       "      <td>0.000000</td>\n",
       "      <td>0.1970</td>\n",
       "      <td>0.417</td>\n",
       "      <td>160.015</td>\n",
       "    </tr>\n",
       "    <tr>\n",
       "      <th>1</th>\n",
       "      <td>0.687</td>\n",
       "      <td>0.845</td>\n",
       "      <td>-4.370</td>\n",
       "      <td>0.0576</td>\n",
       "      <td>0.1000</td>\n",
       "      <td>0.000000</td>\n",
       "      <td>0.0452</td>\n",
       "      <td>0.809</td>\n",
       "      <td>87.972</td>\n",
       "    </tr>\n",
       "    <tr>\n",
       "      <th>2</th>\n",
       "      <td>0.818</td>\n",
       "      <td>0.803</td>\n",
       "      <td>-4.282</td>\n",
       "      <td>0.0797</td>\n",
       "      <td>0.0340</td>\n",
       "      <td>0.000000</td>\n",
       "      <td>0.1530</td>\n",
       "      <td>0.632</td>\n",
       "      <td>106.970</td>\n",
       "    </tr>\n",
       "    <tr>\n",
       "      <th>3</th>\n",
       "      <td>0.624</td>\n",
       "      <td>0.876</td>\n",
       "      <td>-3.374</td>\n",
       "      <td>0.1000</td>\n",
       "      <td>0.0735</td>\n",
       "      <td>0.000000</td>\n",
       "      <td>0.3270</td>\n",
       "      <td>0.781</td>\n",
       "      <td>99.943</td>\n",
       "    </tr>\n",
       "    <tr>\n",
       "      <th>4</th>\n",
       "      <td>0.614</td>\n",
       "      <td>0.379</td>\n",
       "      <td>-10.480</td>\n",
       "      <td>0.0476</td>\n",
       "      <td>0.6070</td>\n",
       "      <td>0.000464</td>\n",
       "      <td>0.0986</td>\n",
       "      <td>0.201</td>\n",
       "      <td>107.989</td>\n",
       "    </tr>\n",
       "  </tbody>\n",
       "</table>\n",
       "</div>"
      ],
      "text/plain": [
       "   danceability  energy  loudness  speechiness  acousticness  \\\n",
       "0         0.613   0.764    -6.509       0.1360        0.0527   \n",
       "1         0.687   0.845    -4.370       0.0576        0.1000   \n",
       "2         0.818   0.803    -4.282       0.0797        0.0340   \n",
       "3         0.624   0.876    -3.374       0.1000        0.0735   \n",
       "4         0.614   0.379   -10.480       0.0476        0.6070   \n",
       "\n",
       "   instrumentalness  liveness  valence    tempo  \n",
       "0          0.000000    0.1970    0.417  160.015  \n",
       "1          0.000000    0.0452    0.809   87.972  \n",
       "2          0.000000    0.1530    0.632  106.970  \n",
       "3          0.000000    0.3270    0.781   99.943  \n",
       "4          0.000464    0.0986    0.201  107.989  "
      ]
     },
     "metadata": {},
     "output_type": "display_data"
    },
    {
     "name": "stdout",
     "output_type": "stream",
     "text": [
      "\n"
     ]
    },
    {
     "data": {
      "text/html": [
       "<div>\n",
       "<style scoped>\n",
       "    .dataframe tbody tr th:only-of-type {\n",
       "        vertical-align: middle;\n",
       "    }\n",
       "\n",
       "    .dataframe tbody tr th {\n",
       "        vertical-align: top;\n",
       "    }\n",
       "\n",
       "    .dataframe thead th {\n",
       "        text-align: right;\n",
       "    }\n",
       "</style>\n",
       "<table border=\"1\" class=\"dataframe\">\n",
       "  <thead>\n",
       "    <tr style=\"text-align: right;\">\n",
       "      <th></th>\n",
       "      <th>danceability</th>\n",
       "      <th>energy</th>\n",
       "      <th>loudness</th>\n",
       "      <th>speechiness</th>\n",
       "      <th>acousticness</th>\n",
       "      <th>instrumentalness</th>\n",
       "      <th>liveness</th>\n",
       "      <th>valence</th>\n",
       "      <th>tempo</th>\n",
       "    </tr>\n",
       "  </thead>\n",
       "  <tbody>\n",
       "    <tr>\n",
       "      <th>0</th>\n",
       "      <td>-0.305405</td>\n",
       "      <td>0.519172</td>\n",
       "      <td>-0.257141</td>\n",
       "      <td>1.693129</td>\n",
       "      <td>-0.582002</td>\n",
       "      <td>-0.102163</td>\n",
       "      <td>0.497233</td>\n",
       "      <td>-0.806870</td>\n",
       "      <td>1.635437</td>\n",
       "    </tr>\n",
       "    <tr>\n",
       "      <th>1</th>\n",
       "      <td>0.335365</td>\n",
       "      <td>1.036811</td>\n",
       "      <td>0.785559</td>\n",
       "      <td>-0.105046</td>\n",
       "      <td>-0.343670</td>\n",
       "      <td>-0.102163</td>\n",
       "      <td>-1.129701</td>\n",
       "      <td>1.073476</td>\n",
       "      <td>-0.905224</td>\n",
       "    </tr>\n",
       "    <tr>\n",
       "      <th>2</th>\n",
       "      <td>1.469701</td>\n",
       "      <td>0.768406</td>\n",
       "      <td>0.828457</td>\n",
       "      <td>0.401837</td>\n",
       "      <td>-0.676226</td>\n",
       "      <td>-0.102163</td>\n",
       "      <td>0.025658</td>\n",
       "      <td>0.224442</td>\n",
       "      <td>-0.235243</td>\n",
       "    </tr>\n",
       "    <tr>\n",
       "      <th>3</th>\n",
       "      <td>-0.210155</td>\n",
       "      <td>1.234919</td>\n",
       "      <td>1.271080</td>\n",
       "      <td>0.867436</td>\n",
       "      <td>-0.477196</td>\n",
       "      <td>-0.102163</td>\n",
       "      <td>1.890523</td>\n",
       "      <td>0.939165</td>\n",
       "      <td>-0.483056</td>\n",
       "    </tr>\n",
       "    <tr>\n",
       "      <th>4</th>\n",
       "      <td>-0.296746</td>\n",
       "      <td>-1.941208</td>\n",
       "      <td>-2.192887</td>\n",
       "      <td>-0.334406</td>\n",
       "      <td>2.210968</td>\n",
       "      <td>-0.096083</td>\n",
       "      <td>-0.557380</td>\n",
       "      <td>-1.842979</td>\n",
       "      <td>-0.199307</td>\n",
       "    </tr>\n",
       "  </tbody>\n",
       "</table>\n",
       "</div>"
      ],
      "text/plain": [
       "   danceability    energy  loudness  speechiness  acousticness  \\\n",
       "0     -0.305405  0.519172 -0.257141     1.693129     -0.582002   \n",
       "1      0.335365  1.036811  0.785559    -0.105046     -0.343670   \n",
       "2      1.469701  0.768406  0.828457     0.401837     -0.676226   \n",
       "3     -0.210155  1.234919  1.271080     0.867436     -0.477196   \n",
       "4     -0.296746 -1.941208 -2.192887    -0.334406      2.210968   \n",
       "\n",
       "   instrumentalness  liveness   valence     tempo  \n",
       "0         -0.102163  0.497233 -0.806870  1.635437  \n",
       "1         -0.102163 -1.129701  1.073476 -0.905224  \n",
       "2         -0.102163  0.025658  0.224442 -0.235243  \n",
       "3         -0.102163  1.890523  0.939165 -0.483056  \n",
       "4         -0.096083 -0.557380 -1.842979 -0.199307  "
      ]
     },
     "metadata": {},
     "output_type": "display_data"
    }
   ],
   "source": [
    "scaler = StandardScaler()\n",
    "scaler.fit(X)\n",
    "X_scaled = scaler.transform(X)\n",
    "X_scaled_df = pd.DataFrame(X_scaled, columns = X.columns)\n",
    "display(X.head())\n",
    "print()\n",
    "display(X_scaled_df.head())"
   ]
  },
  {
   "cell_type": "code",
   "execution_count": 17,
   "id": "c903577c-d0bc-4724-b598-e927340814f3",
   "metadata": {},
   "outputs": [
    {
     "data": {
      "text/plain": [
       "KMeans(n_clusters=3, random_state=1234)"
      ]
     },
     "execution_count": 17,
     "metadata": {},
     "output_type": "execute_result"
    }
   ],
   "source": [
    "kmeans = KMeans(n_clusters=3, random_state=1234)\n",
    "kmeans.fit(X_scaled_df)"
   ]
  },
  {
   "cell_type": "code",
   "execution_count": 18,
   "id": "6c725f02-f5ec-4d9b-97e4-b8ef0c0cb1a0",
   "metadata": {},
   "outputs": [
    {
     "data": {
      "text/plain": [
       "array([1, 1, 1, 1, 0, 0, 0, 2, 0, 0, 1, 1, 1, 1, 1, 1, 1, 1, 1, 1, 1, 0,\n",
       "       1, 1, 0, 0, 1, 1, 1, 0, 1, 1, 1, 1, 1, 1, 1, 1, 0, 0, 1, 1, 1, 1,\n",
       "       1, 1, 1, 1, 1, 1, 1, 1, 0, 0, 0, 0, 0, 1, 0, 1, 0, 0, 1, 1, 0, 1,\n",
       "       1, 1, 1, 1, 1, 0, 1, 1, 0, 0, 1, 1, 0, 1, 1, 1, 1, 1, 1, 1, 1, 0,\n",
       "       0, 0, 1, 1, 1, 1, 1, 1, 1, 1, 1, 0])"
      ]
     },
     "execution_count": 18,
     "metadata": {},
     "output_type": "execute_result"
    }
   ],
   "source": [
    "kmeans.labels_"
   ]
  },
  {
   "cell_type": "code",
   "execution_count": 19,
   "id": "e0c181ed-a73a-4221-9207-78171ca5c3fe",
   "metadata": {},
   "outputs": [
    {
     "data": {
      "image/png": "[encoded data removed]",
      "text/plain": [
       "<Figure size 432x288 with 1 Axes>"
      ]
     },
     "metadata": {
      "needs_background": "light"
     },
     "output_type": "display_data"
    }
   ],
   "source": [
    "# assign a cluster to each example\n",
    "labels = kmeans.predict(X_scaled_df)\n",
    "# retrieve unique clusters\n",
    "clusters = np.unique(labels)\n",
    "# create scatter plot for samples from each cluster\n",
    "for cluster in clusters:\n",
    "    # get row indexes for samples with this cluster\n",
    "    row_ix = np.where(labels == cluster)\n",
    "    # create scatter of these samples\n",
    "    pyplot.scatter(X.to_numpy()[row_ix, 1], X.to_numpy()[row_ix, 2])\n",
    "    # show the plot\n",
    "pyplot.show()"
   ]
  },
  {
   "cell_type": "code",
   "execution_count": 20,
   "id": "857e05af-e1a5-416d-a58b-e0c638772797",
   "metadata": {},
   "outputs": [
    {
     "data": {
      "text/plain": [
       "0    28\n",
       "1    71\n",
       "2     1\n",
       "dtype: int64"
      ]
     },
     "execution_count": 20,
     "metadata": {},
     "output_type": "execute_result"
    }
   ],
   "source": [
    "clusters = kmeans.predict(X_scaled_df)\n",
    "#clusters\n",
    "pd.Series(clusters).value_counts().sort_index()"
   ]
  },
  {
   "cell_type": "code",
   "execution_count": 21,
   "id": "2ef03d4d-b205-4ae9-b5ba-400c242c4a20",
   "metadata": {},
   "outputs": [
    {
     "name": "stderr",
     "output_type": "stream",
     "text": [
      "C:\\Users\\Lenovo\\AppData\\Local\\Temp\\ipykernel_10588\\3390344749.py:2: SettingWithCopyWarning: \n",
      "A value is trying to be set on a copy of a slice from a DataFrame.\n",
      "Try using .loc[row_indexer,col_indexer] = value instead\n",
      "\n",
      "See the caveats in the documentation: https://pandas.pydata.org/pandas-docs/stable/user_guide/indexing.html#returning-a-view-versus-a-copy\n",
      "  X[\"cluster\"] = clusters\n"
     ]
    },
    {
     "data": {
      "text/html": [
       "<div>\n",
       "<style scoped>\n",
       "    .dataframe tbody tr th:only-of-type {\n",
       "        vertical-align: middle;\n",
       "    }\n",
       "\n",
       "    .dataframe tbody tr th {\n",
       "        vertical-align: top;\n",
       "    }\n",
       "\n",
       "    .dataframe thead th {\n",
       "        text-align: right;\n",
       "    }\n",
       "</style>\n",
       "<table border=\"1\" class=\"dataframe\">\n",
       "  <thead>\n",
       "    <tr style=\"text-align: right;\">\n",
       "      <th></th>\n",
       "      <th>danceability</th>\n",
       "      <th>energy</th>\n",
       "      <th>loudness</th>\n",
       "      <th>speechiness</th>\n",
       "      <th>acousticness</th>\n",
       "      <th>instrumentalness</th>\n",
       "      <th>liveness</th>\n",
       "      <th>valence</th>\n",
       "      <th>tempo</th>\n",
       "      <th>cluster</th>\n",
       "    </tr>\n",
       "  </thead>\n",
       "  <tbody>\n",
       "    <tr>\n",
       "      <th>0</th>\n",
       "      <td>0.613</td>\n",
       "      <td>0.764</td>\n",
       "      <td>-6.509</td>\n",
       "      <td>0.1360</td>\n",
       "      <td>0.05270</td>\n",
       "      <td>0.000000</td>\n",
       "      <td>0.1970</td>\n",
       "      <td>0.417</td>\n",
       "      <td>160.015</td>\n",
       "      <td>1</td>\n",
       "    </tr>\n",
       "    <tr>\n",
       "      <th>1</th>\n",
       "      <td>0.687</td>\n",
       "      <td>0.845</td>\n",
       "      <td>-4.370</td>\n",
       "      <td>0.0576</td>\n",
       "      <td>0.10000</td>\n",
       "      <td>0.000000</td>\n",
       "      <td>0.0452</td>\n",
       "      <td>0.809</td>\n",
       "      <td>87.972</td>\n",
       "      <td>1</td>\n",
       "    </tr>\n",
       "    <tr>\n",
       "      <th>2</th>\n",
       "      <td>0.818</td>\n",
       "      <td>0.803</td>\n",
       "      <td>-4.282</td>\n",
       "      <td>0.0797</td>\n",
       "      <td>0.03400</td>\n",
       "      <td>0.000000</td>\n",
       "      <td>0.1530</td>\n",
       "      <td>0.632</td>\n",
       "      <td>106.970</td>\n",
       "      <td>1</td>\n",
       "    </tr>\n",
       "    <tr>\n",
       "      <th>3</th>\n",
       "      <td>0.624</td>\n",
       "      <td>0.876</td>\n",
       "      <td>-3.374</td>\n",
       "      <td>0.1000</td>\n",
       "      <td>0.07350</td>\n",
       "      <td>0.000000</td>\n",
       "      <td>0.3270</td>\n",
       "      <td>0.781</td>\n",
       "      <td>99.943</td>\n",
       "      <td>1</td>\n",
       "    </tr>\n",
       "    <tr>\n",
       "      <th>4</th>\n",
       "      <td>0.614</td>\n",
       "      <td>0.379</td>\n",
       "      <td>-10.480</td>\n",
       "      <td>0.0476</td>\n",
       "      <td>0.60700</td>\n",
       "      <td>0.000464</td>\n",
       "      <td>0.0986</td>\n",
       "      <td>0.201</td>\n",
       "      <td>107.989</td>\n",
       "      <td>0</td>\n",
       "    </tr>\n",
       "    <tr>\n",
       "      <th>...</th>\n",
       "      <td>...</td>\n",
       "      <td>...</td>\n",
       "      <td>...</td>\n",
       "      <td>...</td>\n",
       "      <td>...</td>\n",
       "      <td>...</td>\n",
       "      <td>...</td>\n",
       "      <td>...</td>\n",
       "      <td>...</td>\n",
       "      <td>...</td>\n",
       "    </tr>\n",
       "    <tr>\n",
       "      <th>95</th>\n",
       "      <td>0.706</td>\n",
       "      <td>0.751</td>\n",
       "      <td>-6.323</td>\n",
       "      <td>0.0708</td>\n",
       "      <td>0.17300</td>\n",
       "      <td>0.000000</td>\n",
       "      <td>0.1680</td>\n",
       "      <td>0.195</td>\n",
       "      <td>91.031</td>\n",
       "      <td>1</td>\n",
       "    </tr>\n",
       "    <tr>\n",
       "      <th>96</th>\n",
       "      <td>0.751</td>\n",
       "      <td>0.783</td>\n",
       "      <td>-3.724</td>\n",
       "      <td>0.0859</td>\n",
       "      <td>0.00379</td>\n",
       "      <td>0.000000</td>\n",
       "      <td>0.0360</td>\n",
       "      <td>0.816</td>\n",
       "      <td>119.975</td>\n",
       "      <td>1</td>\n",
       "    </tr>\n",
       "    <tr>\n",
       "      <th>97</th>\n",
       "      <td>0.743</td>\n",
       "      <td>0.766</td>\n",
       "      <td>-6.375</td>\n",
       "      <td>0.0265</td>\n",
       "      <td>0.08730</td>\n",
       "      <td>0.000000</td>\n",
       "      <td>0.5090</td>\n",
       "      <td>0.610</td>\n",
       "      <td>127.960</td>\n",
       "      <td>1</td>\n",
       "    </tr>\n",
       "    <tr>\n",
       "      <th>98</th>\n",
       "      <td>0.672</td>\n",
       "      <td>0.738</td>\n",
       "      <td>-7.045</td>\n",
       "      <td>0.0506</td>\n",
       "      <td>0.01780</td>\n",
       "      <td>0.000068</td>\n",
       "      <td>0.0927</td>\n",
       "      <td>0.392</td>\n",
       "      <td>107.938</td>\n",
       "      <td>1</td>\n",
       "    </tr>\n",
       "    <tr>\n",
       "      <th>99</th>\n",
       "      <td>0.836</td>\n",
       "      <td>0.509</td>\n",
       "      <td>-13.668</td>\n",
       "      <td>0.0548</td>\n",
       "      <td>0.46700</td>\n",
       "      <td>0.000004</td>\n",
       "      <td>0.0436</td>\n",
       "      <td>0.949</td>\n",
       "      <td>138.714</td>\n",
       "      <td>0</td>\n",
       "    </tr>\n",
       "  </tbody>\n",
       "</table>\n",
       "<p>100 rows × 10 columns</p>\n",
       "</div>"
      ],
      "text/plain": [
       "    danceability  energy  loudness  speechiness  acousticness  \\\n",
       "0          0.613   0.764    -6.509       0.1360       0.05270   \n",
       "1          0.687   0.845    -4.370       0.0576       0.10000   \n",
       "2          0.818   0.803    -4.282       0.0797       0.03400   \n",
       "3          0.624   0.876    -3.374       0.1000       0.07350   \n",
       "4          0.614   0.379   -10.480       0.0476       0.60700   \n",
       "..           ...     ...       ...          ...           ...   \n",
       "95         0.706   0.751    -6.323       0.0708       0.17300   \n",
       "96         0.751   0.783    -3.724       0.0859       0.00379   \n",
       "97         0.743   0.766    -6.375       0.0265       0.08730   \n",
       "98         0.672   0.738    -7.045       0.0506       0.01780   \n",
       "99         0.836   0.509   -13.668       0.0548       0.46700   \n",
       "\n",
       "    instrumentalness  liveness  valence    tempo  cluster  \n",
       "0           0.000000    0.1970    0.417  160.015        1  \n",
       "1           0.000000    0.0452    0.809   87.972        1  \n",
       "2           0.000000    0.1530    0.632  106.970        1  \n",
       "3           0.000000    0.3270    0.781   99.943        1  \n",
       "4           0.000464    0.0986    0.201  107.989        0  \n",
       "..               ...       ...      ...      ...      ...  \n",
       "95          0.000000    0.1680    0.195   91.031        1  \n",
       "96          0.000000    0.0360    0.816  119.975        1  \n",
       "97          0.000000    0.5090    0.610  127.960        1  \n",
       "98          0.000068    0.0927    0.392  107.938        1  \n",
       "99          0.000004    0.0436    0.949  138.714        0  \n",
       "\n",
       "[100 rows x 10 columns]"
      ]
     },
     "execution_count": 21,
     "metadata": {},
     "output_type": "execute_result"
    }
   ],
   "source": [
    "#X_df = pd.DataFrame(X)\n",
    "X[\"cluster\"] = clusters\n",
    "X"
   ]
  },
  {
   "cell_type": "code",
   "execution_count": 22,
   "id": "0c859d7c-13a6-4fd1-a791-79438c3281bc",
   "metadata": {},
   "outputs": [
    {
     "data": {
      "text/html": [
       "<div>\n",
       "<style scoped>\n",
       "    .dataframe tbody tr th:only-of-type {\n",
       "        vertical-align: middle;\n",
       "    }\n",
       "\n",
       "    .dataframe tbody tr th {\n",
       "        vertical-align: top;\n",
       "    }\n",
       "\n",
       "    .dataframe thead th {\n",
       "        text-align: right;\n",
       "    }\n",
       "</style>\n",
       "<table border=\"1\" class=\"dataframe\">\n",
       "  <thead>\n",
       "    <tr style=\"text-align: right;\">\n",
       "      <th></th>\n",
       "      <th>danceability</th>\n",
       "      <th>energy</th>\n",
       "      <th>loudness</th>\n",
       "      <th>speechiness</th>\n",
       "      <th>acousticness</th>\n",
       "      <th>instrumentalness</th>\n",
       "      <th>liveness</th>\n",
       "      <th>valence</th>\n",
       "      <th>tempo</th>\n",
       "      <th>cluster</th>\n",
       "    </tr>\n",
       "  </thead>\n",
       "  <tbody>\n",
       "    <tr>\n",
       "      <th>7</th>\n",
       "      <td>0.415</td>\n",
       "      <td>0.538</td>\n",
       "      <td>-12.71</td>\n",
       "      <td>0.0368</td>\n",
       "      <td>0.4</td>\n",
       "      <td>0.767</td>\n",
       "      <td>0.0674</td>\n",
       "      <td>0.449</td>\n",
       "      <td>95.121</td>\n",
       "      <td>2</td>\n",
       "    </tr>\n",
       "  </tbody>\n",
       "</table>\n",
       "</div>"
      ],
      "text/plain": [
       "   danceability  energy  loudness  speechiness  acousticness  \\\n",
       "7         0.415   0.538    -12.71       0.0368           0.4   \n",
       "\n",
       "   instrumentalness  liveness  valence   tempo  cluster  \n",
       "7             0.767    0.0674    0.449  95.121        2  "
      ]
     },
     "execution_count": 22,
     "metadata": {},
     "output_type": "execute_result"
    }
   ],
   "source": [
    "X[X['cluster'] == 2].sample()"
   ]
  },
  {
   "cell_type": "code",
   "execution_count": 23,
   "id": "7c55f6c9-ff75-4583-84c8-c76aea99e253",
   "metadata": {},
   "outputs": [
    {
     "name": "stdout",
     "output_type": "stream",
     "text": [
      "Training a K-Means model with 2 clusters! \n",
      "\n",
      "Training a K-Means model with 3 clusters! \n",
      "\n",
      "Training a K-Means model with 4 clusters! \n",
      "\n",
      "Training a K-Means model with 5 clusters! \n",
      "\n",
      "Training a K-Means model with 6 clusters! \n",
      "\n",
      "Training a K-Means model with 7 clusters! \n",
      "\n",
      "Training a K-Means model with 8 clusters! \n",
      "\n",
      "Training a K-Means model with 9 clusters! \n",
      "\n",
      "Training a K-Means model with 10 clusters! \n",
      "\n",
      "Training a K-Means model with 11 clusters! \n",
      "\n",
      "Training a K-Means model with 12 clusters! \n",
      "\n",
      "Training a K-Means model with 13 clusters! \n",
      "\n",
      "Training a K-Means model with 14 clusters! \n",
      "\n",
      "Training a K-Means model with 15 clusters! \n",
      "\n",
      "Training a K-Means model with 16 clusters! \n",
      "\n",
      "Training a K-Means model with 17 clusters! \n",
      "\n",
      "Training a K-Means model with 18 clusters! \n",
      "\n",
      "Training a K-Means model with 19 clusters! \n",
      "\n",
      "Training a K-Means model with 20 clusters! \n",
      "\n"
     ]
    },
    {
     "data": {
      "text/plain": [
       "Text(0.5, 1.0, 'Elbow Method showing the optimal k')"
      ]
     },
     "execution_count": 23,
     "metadata": {},
     "output_type": "execute_result"
    },
    {
     "data": {
      "image/png": "[encoded data removed]",
      "text/plain": [
       "<Figure size 1152x576 with 1 Axes>"
      ]
     },
     "metadata": {
      "needs_background": "light"
     },
     "output_type": "display_data"
    }
   ],
   "source": [
    "K = range(2, 21)\n",
    "inertia = []\n",
    "\n",
    "for k in K:\n",
    "    print(\"Training a K-Means model with {} clusters! \".format(k))\n",
    "    print()\n",
    "    kmeans = KMeans(n_clusters=k,\n",
    "                    random_state=1234)\n",
    "    kmeans.fit(X_scaled_df)\n",
    "    inertia.append(kmeans.inertia_)\n",
    "\n",
    "import numpy as np\n",
    "import matplotlib.pyplot as plt\n",
    "%matplotlib inline\n",
    "\n",
    "plt.figure(figsize=(16,8))\n",
    "plt.plot(K, inertia, 'bx-')\n",
    "plt.xlabel('k')\n",
    "plt.ylabel('inertia')\n",
    "plt.xticks(np.arange(min(K), max(K)+1, 1.0))\n",
    "plt.title('Elbow Method showing the optimal k')"
   ]
  },
  {
   "cell_type": "code",
   "execution_count": 26,
   "id": "df3716b4-7cc9-4aa4-b335-5162e74cc5c3",
   "metadata": {},
   "outputs": [
    {
     "data": {
      "text/plain": [
       "Text(0.5, 1.0, 'Silhouette Method showing the optimal k')"
      ]
     },
     "execution_count": 26,
     "metadata": {},
     "output_type": "execute_result"
    },
    {
     "data": {
      "image/png": "[encoded data removed]",
      "text/plain": [
       "<Figure size 1152x576 with 1 Axes>"
      ]
     },
     "metadata": {
      "needs_background": "light"
     },
     "output_type": "display_data"
    }
   ],
   "source": [
    "K = range(2, 20)\n",
    "silhouette = []\n",
    "\n",
    "for k in K:\n",
    "    kmeans = KMeans(n_clusters=k,\n",
    "                    random_state=1234)\n",
    "    kmeans.fit(X_scaled_df)\n",
    "    \n",
    "     \n",
    "    silhouette.append(silhouette_score(X_scaled_df, kmeans.predict(X_scaled_df)))\n",
    "\n",
    "\n",
    "plt.figure(figsize=(16,8))\n",
    "plt.plot(K, silhouette, 'bx-')\n",
    "plt.xlabel('k')\n",
    "plt.ylabel('silhouette score')\n",
    "plt.xticks(np.arange(min(K), max(K)+1, 1.0))\n",
    "plt.title('Silhouette Method showing the optimal k')"
   ]
  },
  {
   "cell_type": "code",
   "execution_count": 25,
   "id": "5b5c79e4-0448-41f5-b0c2-e175612a507b",
   "metadata": {},
   "outputs": [
    {
     "ename": "ModuleNotFoundError",
     "evalue": "No module named 'yellowbrick'",
     "output_type": "error",
     "traceback": [
      "\u001b[1;31m---------------------------------------------------------------------------\u001b[0m",
      "\u001b[1;31mModuleNotFoundError\u001b[0m                       Traceback (most recent call last)",
      "Input \u001b[1;32mIn [25]\u001b[0m, in \u001b[0;36m<cell line: 1>\u001b[1;34m()\u001b[0m\n\u001b[1;32m----> 1\u001b[0m \u001b[38;5;28;01mfrom\u001b[39;00m \u001b[38;5;21;01myellowbrick\u001b[39;00m\u001b[38;5;21;01m.\u001b[39;00m\u001b[38;5;21;01mcluster\u001b[39;00m \u001b[38;5;28;01mimport\u001b[39;00m SilhouetteVisualizer\n\u001b[0;32m      2\u001b[0m model \u001b[38;5;241m=\u001b[39m KMeans(\u001b[38;5;241m3\u001b[39m, random_state\u001b[38;5;241m=\u001b[39m\u001b[38;5;241m42\u001b[39m)\n\u001b[0;32m      3\u001b[0m visualizer \u001b[38;5;241m=\u001b[39m SilhouetteVisualizer(model, colors\u001b[38;5;241m=\u001b[39m\u001b[38;5;124m'\u001b[39m\u001b[38;5;124myellowbrick\u001b[39m\u001b[38;5;124m'\u001b[39m)\n",
      "\u001b[1;31mModuleNotFoundError\u001b[0m: No module named 'yellowbrick'"
     ]
    }
   ],
   "source": [
    "from yellowbrick.cluster import SilhouetteVisualizer\n",
    "model = KMeans(3, random_state=42)\n",
    "visualizer = SilhouetteVisualizer(model, colors='yellowbrick')\n",
    "visualizer.fit(X_scaled_df)        # Fit the data to the visualizer\n",
    "visualizer.show()        # Finalize and render the figure"
   ]
  }
 ],
 "metadata": {
  "kernelspec": {
   "display_name": "Python 3 (ipykernel)",
   "language": "python",
   "name": "python3"
  },
  "language_info": {
   "codemirror_mode": {
    "name": "ipython",
    "version": 3
   },
   "file_extension": ".py",
   "mimetype": "text/x-python",
   "name": "python",
   "nbconvert_exporter": "python",
   "pygments_lexer": "ipython3",
   "version": "3.9.7"
  }
 },
 "nbformat": 4,
 "nbformat_minor": 5
}
