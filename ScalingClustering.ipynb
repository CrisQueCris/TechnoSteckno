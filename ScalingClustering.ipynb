{
 "cells": [
  {
   "cell_type": "markdown",
   "id": "98046c12-aa28-406a-8320-54a6f779ccea",
   "metadata": {},
   "source": [
    "Scaling and Clustering of the spotify library:"
   ]
  },
  {
   "cell_type": "code",
   "execution_count": 1,
   "id": "fe980b92-6c95-470b-89cd-ad26fccddc9c",
   "metadata": {
    "tags": []
   },
   "outputs": [],
   "source": [
    "import scalingclustering\n",
    "from scalingclustering import load_playlist_pkl, kmeans_missing,\\\n",
    "yellowbricking, plot_clusters, apply_scaler, apply_kmeans, predict_kmeans, elbowing, silhouetting, save_pkl, load_pkl\n",
    "import pandas as pd\n",
    "import datetime\n",
    "import seaborn as sns\n",
    "import numpy as np\n",
    "from sklearn.cluster import KMeans\n"
   ]
  },
  {
   "cell_type": "code",
   "execution_count": 2,
   "id": "88c04a16-1e70-4983-8315-cc29502c32aa",
   "metadata": {},
   "outputs": [],
   "source": [
    "\n",
    "sp_library = load_playlist_pkl(path = 'Playlists')"
   ]
  },
  {
   "cell_type": "code",
   "execution_count": 3,
   "id": "ec40b00b-c116-455f-8f09-2dc14cc0123a",
   "metadata": {},
   "outputs": [
    {
     "data": {
      "text/plain": [
       "(35447, 19)"
      ]
     },
     "execution_count": 3,
     "metadata": {},
     "output_type": "execute_result"
    }
   ],
   "source": [
    "sp_library.shape"
   ]
  },
  {
   "cell_type": "code",
   "execution_count": 4,
   "id": "befe35e3-6e21-4512-bb3d-c09dfadd3390",
   "metadata": {},
   "outputs": [],
   "source": [
    "pl_dict = {}\n",
    "i = 0\n",
    "for index in sp_library['playlistID'].value_counts().index:\n",
    "    pl_dict[index] = i\n",
    "    i += 1"
   ]
  },
  {
   "cell_type": "code",
   "execution_count": 5,
   "id": "41b151b1-f591-4e38-9484-cb6c4dbc5a26",
   "metadata": {},
   "outputs": [],
   "source": [
    "for pl_id in sp_library['playlistID']:\n",
    "    sp_library['playlistnr'] = pl_dict[pl_id]\n",
    "   "
   ]
  },
  {
   "cell_type": "code",
   "execution_count": 6,
   "id": "0a7b6f5f-192a-4a65-b1ff-a9f75466608a",
   "metadata": {},
   "outputs": [],
   "source": [
    "sp_library['Year'] = pd.to_datetime(sp_library['ReleaseYear'], errors = 'coerce', format='%Y-%m-%d')\n",
    "sp_library['Year'] = pd.DatetimeIndex(sp_library['Year']).year"
   ]
  },
  {
   "cell_type": "markdown",
   "id": "ac171634-b096-4528-a044-ff2455eb1f8f",
   "metadata": {},
   "source": [
    "Columns for clustering:\n",
    "'danceability'\n",
    "'energy'\n",
    "'loudness'\n",
    "'speechiness'  # detects the presence of spoken words in a track\n",
    "'acousticness'\n",
    "'instrumentalness'\n",
    "'liveness'  # Detects the presence of an audience in the recording\n",
    "'valence'  # A measure from 0.0 to 1.0 describing the musical positiveness conveyed by a track\n",
    "'tempo'\n",
    "\n",
    "\n",
    "Add later when data exists:\n",
    "'time_signature'\n",
    "'popularity'"
   ]
  },
  {
   "cell_type": "code",
   "execution_count": 7,
   "id": "3b7a3283-2807-43f7-b969-32e4484b6e17",
   "metadata": {},
   "outputs": [],
   "source": [
    "X = sp_library[['danceability',\n",
    "                'energy',\n",
    "                'loudness',\n",
    "                'speechiness',\n",
    "                'acousticness',\n",
    "               'instrumentalness',\n",
    "               'liveness', \n",
    "                'valence',  \n",
    "                'tempo',\n",
    "                'Year',\n",
    "                'Popularity']]"
   ]
  },
  {
   "cell_type": "code",
   "execution_count": 8,
   "id": "94b413da-9268-4d47-8525-2ee24f55e78b",
   "metadata": {},
   "outputs": [
    {
     "data": {
      "text/html": [
       "<div>\n",
       "<style scoped>\n",
       "    .dataframe tbody tr th:only-of-type {\n",
       "        vertical-align: middle;\n",
       "    }\n",
       "\n",
       "    .dataframe tbody tr th {\n",
       "        vertical-align: top;\n",
       "    }\n",
       "\n",
       "    .dataframe thead th {\n",
       "        text-align: right;\n",
       "    }\n",
       "</style>\n",
       "<table border=\"1\" class=\"dataframe\">\n",
       "  <thead>\n",
       "    <tr style=\"text-align: right;\">\n",
       "      <th></th>\n",
       "      <th>danceability</th>\n",
       "      <th>energy</th>\n",
       "      <th>loudness</th>\n",
       "      <th>speechiness</th>\n",
       "      <th>acousticness</th>\n",
       "      <th>instrumentalness</th>\n",
       "      <th>liveness</th>\n",
       "      <th>valence</th>\n",
       "      <th>tempo</th>\n",
       "      <th>Year</th>\n",
       "      <th>Popularity</th>\n",
       "    </tr>\n",
       "  </thead>\n",
       "  <tbody>\n",
       "    <tr>\n",
       "      <th>0</th>\n",
       "      <td>0.774</td>\n",
       "      <td>0.838</td>\n",
       "      <td>-3.914</td>\n",
       "      <td>0.114</td>\n",
       "      <td>0.0249</td>\n",
       "      <td>0.025</td>\n",
       "      <td>0.242</td>\n",
       "      <td>0.924</td>\n",
       "      <td>143.04</td>\n",
       "      <td>2003.0</td>\n",
       "      <td>80.0</td>\n",
       "    </tr>\n",
       "    <tr>\n",
       "      <th>1</th>\n",
       "      <td>0.779</td>\n",
       "      <td>0.64</td>\n",
       "      <td>-8.415</td>\n",
       "      <td>0.159</td>\n",
       "      <td>0.000155</td>\n",
       "      <td>0.00077</td>\n",
       "      <td>0.101</td>\n",
       "      <td>0.498</td>\n",
       "      <td>99.019</td>\n",
       "      <td>2005.0</td>\n",
       "      <td>76.0</td>\n",
       "    </tr>\n",
       "    <tr>\n",
       "      <th>2</th>\n",
       "      <td>0.851</td>\n",
       "      <td>0.806</td>\n",
       "      <td>-4.62</td>\n",
       "      <td>0.0787</td>\n",
       "      <td>0.118</td>\n",
       "      <td>0.000002</td>\n",
       "      <td>0.121</td>\n",
       "      <td>0.787</td>\n",
       "      <td>118.999</td>\n",
       "      <td>2008.0</td>\n",
       "      <td>77.0</td>\n",
       "    </tr>\n",
       "    <tr>\n",
       "      <th>3</th>\n",
       "      <td>0.664</td>\n",
       "      <td>0.758</td>\n",
       "      <td>-6.583</td>\n",
       "      <td>0.21</td>\n",
       "      <td>0.00238</td>\n",
       "      <td>0</td>\n",
       "      <td>0.0598</td>\n",
       "      <td>0.701</td>\n",
       "      <td>99.259</td>\n",
       "      <td>2003.0</td>\n",
       "      <td>72.0</td>\n",
       "    </tr>\n",
       "    <tr>\n",
       "      <th>4</th>\n",
       "      <td>0.624</td>\n",
       "      <td>0.767</td>\n",
       "      <td>-4.204</td>\n",
       "      <td>0.207</td>\n",
       "      <td>0.00703</td>\n",
       "      <td>0</td>\n",
       "      <td>0.298</td>\n",
       "      <td>0.335</td>\n",
       "      <td>167.724</td>\n",
       "      <td>2022.0</td>\n",
       "      <td>49.0</td>\n",
       "    </tr>\n",
       "  </tbody>\n",
       "</table>\n",
       "</div>"
      ],
      "text/plain": [
       "  danceability energy loudness speechiness acousticness instrumentalness  \\\n",
       "0        0.774  0.838   -3.914       0.114       0.0249            0.025   \n",
       "1        0.779   0.64   -8.415       0.159     0.000155          0.00077   \n",
       "2        0.851  0.806    -4.62      0.0787        0.118         0.000002   \n",
       "3        0.664  0.758   -6.583        0.21      0.00238                0   \n",
       "4        0.624  0.767   -4.204       0.207      0.00703                0   \n",
       "\n",
       "  liveness valence    tempo    Year  Popularity  \n",
       "0    0.242   0.924   143.04  2003.0        80.0  \n",
       "1    0.101   0.498   99.019  2005.0        76.0  \n",
       "2    0.121   0.787  118.999  2008.0        77.0  \n",
       "3   0.0598   0.701   99.259  2003.0        72.0  \n",
       "4    0.298   0.335  167.724  2022.0        49.0  "
      ]
     },
     "metadata": {},
     "output_type": "display_data"
    },
    {
     "data": {
      "text/html": [
       "<div>\n",
       "<style scoped>\n",
       "    .dataframe tbody tr th:only-of-type {\n",
       "        vertical-align: middle;\n",
       "    }\n",
       "\n",
       "    .dataframe tbody tr th {\n",
       "        vertical-align: top;\n",
       "    }\n",
       "\n",
       "    .dataframe thead th {\n",
       "        text-align: right;\n",
       "    }\n",
       "</style>\n",
       "<table border=\"1\" class=\"dataframe\">\n",
       "  <thead>\n",
       "    <tr style=\"text-align: right;\">\n",
       "      <th></th>\n",
       "      <th>danceability</th>\n",
       "      <th>energy</th>\n",
       "      <th>loudness</th>\n",
       "      <th>speechiness</th>\n",
       "      <th>acousticness</th>\n",
       "      <th>instrumentalness</th>\n",
       "      <th>liveness</th>\n",
       "      <th>valence</th>\n",
       "      <th>tempo</th>\n",
       "      <th>Year</th>\n",
       "      <th>Popularity</th>\n",
       "    </tr>\n",
       "  </thead>\n",
       "  <tbody>\n",
       "    <tr>\n",
       "      <th>0</th>\n",
       "      <td>0.977705</td>\n",
       "      <td>0.877985</td>\n",
       "      <td>0.960875</td>\n",
       "      <td>0.527019</td>\n",
       "      <td>-0.843147</td>\n",
       "      <td>-0.506739</td>\n",
       "      <td>0.460942</td>\n",
       "      <td>1.468882</td>\n",
       "      <td>0.782292</td>\n",
       "      <td>-0.209106</td>\n",
       "      <td>1.607474</td>\n",
       "    </tr>\n",
       "    <tr>\n",
       "      <th>1</th>\n",
       "      <td>1.007994</td>\n",
       "      <td>0.042933</td>\n",
       "      <td>0.095479</td>\n",
       "      <td>1.123122</td>\n",
       "      <td>-0.924391</td>\n",
       "      <td>-0.577051</td>\n",
       "      <td>-0.516581</td>\n",
       "      <td>-0.119653</td>\n",
       "      <td>-0.740495</td>\n",
       "      <td>-0.092146</td>\n",
       "      <td>1.442880</td>\n",
       "    </tr>\n",
       "    <tr>\n",
       "      <th>2</th>\n",
       "      <td>1.444156</td>\n",
       "      <td>0.743027</td>\n",
       "      <td>0.825134</td>\n",
       "      <td>0.059410</td>\n",
       "      <td>-0.537477</td>\n",
       "      <td>-0.579280</td>\n",
       "      <td>-0.377925</td>\n",
       "      <td>0.958015</td>\n",
       "      <td>-0.049341</td>\n",
       "      <td>0.083294</td>\n",
       "      <td>1.484028</td>\n",
       "    </tr>\n",
       "    <tr>\n",
       "      <th>3</th>\n",
       "      <td>0.311347</td>\n",
       "      <td>0.540590</td>\n",
       "      <td>0.447713</td>\n",
       "      <td>1.798705</td>\n",
       "      <td>-0.917086</td>\n",
       "      <td>-0.579285</td>\n",
       "      <td>-0.802211</td>\n",
       "      <td>0.637325</td>\n",
       "      <td>-0.732193</td>\n",
       "      <td>-0.209106</td>\n",
       "      <td>1.278286</td>\n",
       "    </tr>\n",
       "    <tr>\n",
       "      <th>4</th>\n",
       "      <td>0.069035</td>\n",
       "      <td>0.578547</td>\n",
       "      <td>0.905117</td>\n",
       "      <td>1.758965</td>\n",
       "      <td>-0.901819</td>\n",
       "      <td>-0.579285</td>\n",
       "      <td>0.849178</td>\n",
       "      <td>-0.727472</td>\n",
       "      <td>1.636168</td>\n",
       "      <td>0.902013</td>\n",
       "      <td>0.331872</td>\n",
       "    </tr>\n",
       "  </tbody>\n",
       "</table>\n",
       "</div>"
      ],
      "text/plain": [
       "   danceability    energy  loudness  speechiness  acousticness  \\\n",
       "0      0.977705  0.877985  0.960875     0.527019     -0.843147   \n",
       "1      1.007994  0.042933  0.095479     1.123122     -0.924391   \n",
       "2      1.444156  0.743027  0.825134     0.059410     -0.537477   \n",
       "3      0.311347  0.540590  0.447713     1.798705     -0.917086   \n",
       "4      0.069035  0.578547  0.905117     1.758965     -0.901819   \n",
       "\n",
       "   instrumentalness  liveness   valence     tempo      Year  Popularity  \n",
       "0         -0.506739  0.460942  1.468882  0.782292 -0.209106    1.607474  \n",
       "1         -0.577051 -0.516581 -0.119653 -0.740495 -0.092146    1.442880  \n",
       "2         -0.579280 -0.377925  0.958015 -0.049341  0.083294    1.484028  \n",
       "3         -0.579285 -0.802211  0.637325 -0.732193 -0.209106    1.278286  \n",
       "4         -0.579285  0.849178 -0.727472  1.636168  0.902013    0.331872  "
      ]
     },
     "metadata": {},
     "output_type": "display_data"
    }
   ],
   "source": [
    "X_scaled_df, scaler = apply_scaler(X)\n",
    "save_pkl(scaler, filename = \"model/scalerKmeans.pickle\")\n",
    "save_pkl(X_scaled_df, filename = \"model/X_scaled_df.pickle\")"
   ]
  },
  {
   "cell_type": "markdown",
   "id": "3c4e97d5-c664-48aa-9ed4-6a9dab80cc78",
   "metadata": {},
   "source": [
    "We chose the number of 8 clusters."
   ]
  },
  {
   "cell_type": "code",
   "execution_count": 9,
   "id": "e3b70e0b-9e5b-4721-81cb-81b46bfb50b9",
   "metadata": {},
   "outputs": [],
   "source": [
    "n_clusters = 9"
   ]
  },
  {
   "cell_type": "code",
   "execution_count": 10,
   "id": "6c725f02-f5ec-4d9b-97e4-b8ef0c0cb1a0",
   "metadata": {},
   "outputs": [
    {
     "name": "stderr",
     "output_type": "stream",
     "text": [
      "C:\\Users\\Lenovo\\anaconda3\\envs\\DA_Env\\lib\\site-packages\\sklearn\\cluster\\_kmeans.py:1146: RuntimeWarning: Explicit initial center position passed: performing only one init in KMeans instead of n_init=10.\n",
      "  self._check_params(X)\n",
      "C:\\Users\\Lenovo\\anaconda3\\envs\\DA_Env\\lib\\site-packages\\sklearn\\cluster\\_kmeans.py:1146: RuntimeWarning: Explicit initial center position passed: performing only one init in KMeans instead of n_init=10.\n",
      "  self._check_params(X)\n",
      "C:\\Users\\Lenovo\\anaconda3\\envs\\DA_Env\\lib\\site-packages\\sklearn\\cluster\\_kmeans.py:1146: RuntimeWarning: Explicit initial center position passed: performing only one init in KMeans instead of n_init=10.\n",
      "  self._check_params(X)\n",
      "C:\\Users\\Lenovo\\anaconda3\\envs\\DA_Env\\lib\\site-packages\\sklearn\\cluster\\_kmeans.py:1146: RuntimeWarning: Explicit initial center position passed: performing only one init in KMeans instead of n_init=10.\n",
      "  self._check_params(X)\n",
      "C:\\Users\\Lenovo\\anaconda3\\envs\\DA_Env\\lib\\site-packages\\sklearn\\cluster\\_kmeans.py:1146: RuntimeWarning: Explicit initial center position passed: performing only one init in KMeans instead of n_init=10.\n",
      "  self._check_params(X)\n",
      "C:\\Users\\Lenovo\\anaconda3\\envs\\DA_Env\\lib\\site-packages\\sklearn\\cluster\\_kmeans.py:1146: RuntimeWarning: Explicit initial center position passed: performing only one init in KMeans instead of n_init=10.\n",
      "  self._check_params(X)\n",
      "C:\\Users\\Lenovo\\anaconda3\\envs\\DA_Env\\lib\\site-packages\\sklearn\\cluster\\_kmeans.py:1146: RuntimeWarning: Explicit initial center position passed: performing only one init in KMeans instead of n_init=10.\n",
      "  self._check_params(X)\n",
      "C:\\Users\\Lenovo\\anaconda3\\envs\\DA_Env\\lib\\site-packages\\sklearn\\cluster\\_kmeans.py:1146: RuntimeWarning: Explicit initial center position passed: performing only one init in KMeans instead of n_init=10.\n",
      "  self._check_params(X)\n",
      "C:\\Users\\Lenovo\\anaconda3\\envs\\DA_Env\\lib\\site-packages\\sklearn\\cluster\\_kmeans.py:1146: RuntimeWarning: Explicit initial center position passed: performing only one init in KMeans instead of n_init=10.\n",
      "  self._check_params(X)\n",
      "C:\\Users\\Lenovo\\anaconda3\\envs\\DA_Env\\lib\\site-packages\\sklearn\\cluster\\_kmeans.py:1146: RuntimeWarning: Explicit initial center position passed: performing only one init in KMeans instead of n_init=10.\n",
      "  self._check_params(X)\n",
      "C:\\Users\\Lenovo\\anaconda3\\envs\\DA_Env\\lib\\site-packages\\sklearn\\cluster\\_kmeans.py:1146: RuntimeWarning: Explicit initial center position passed: performing only one init in KMeans instead of n_init=10.\n",
      "  self._check_params(X)\n"
     ]
    }
   ],
   "source": [
    "\n",
    "labels, centroids, X_hat, n_clusters, max_iter = kmeans_missing('model/X_scaled_df.pickle', n_clusters= 10, max_iter=50 )\n",
    "kmeans = apply_kmeans(pd.DataFrame(X_hat), n_clusters)\n",
    "save_pkl(max_iter, filename = 'model/max_iter.pickle')\n",
    "save_pkl(n_clusters, filename = 'model/n_clusters.pickle')\n",
    "save_pkl(centroids, filename = 'model/centroids.pickle')\n",
    "save_pkl(labels, filename = 'model/labels.pickle')\n",
    "save_pkl(X_hat, filename = 'model/X_hat.pickle')\n"
   ]
  },
  {
   "cell_type": "code",
   "execution_count": 11,
   "id": "1d61c611-bb5f-4198-9f3f-a58159c93f9f",
   "metadata": {},
   "outputs": [],
   "source": [
    "#labels, clusters = predict_kmeans(X_hat, X, centroids)\n",
    "#plot_clusters(centroids, X, labels)"
   ]
  },
  {
   "cell_type": "code",
   "execution_count": 12,
   "id": "38c69135-921e-4e66-a99c-373945b6fe33",
   "metadata": {},
   "outputs": [
    {
     "data": {
      "text/plain": [
       "(10,\n",
       " array([[ 0.97770524,  0.8779848 ,  0.96087498, ...,  0.78229176,\n",
       "         -0.20910606,  1.60747361],\n",
       "        [ 1.00799426,  0.04293257,  0.09547897, ..., -0.74049495,\n",
       "         -0.0921462 ,  1.44287991],\n",
       "        [ 1.44415613,  0.74302686,  0.82513412, ..., -0.04934122,\n",
       "          0.0832936 ,  1.48402833],\n",
       "        ...,\n",
       "        [-0.77905785, -0.15528689,  0.47251553, ...,  1.37392351,\n",
       "          0.84353271,  0.99024723],\n",
       "        [-1.63320818, -1.63138931, -1.10523155, ...,  0.50949705,\n",
       "          0.84353271,  0.99024723],\n",
       "        [ 1.33511567,  0.12728128,  0.94722398, ..., -1.26103956,\n",
       "          0.84353271,  1.07254408]]),\n",
       " array([9, 9, 9, ..., 5, 4, 9]))"
      ]
     },
     "execution_count": 12,
     "metadata": {},
     "output_type": "execute_result"
    }
   ],
   "source": [
    "n_clusters, X_hat, labels"
   ]
  },
  {
   "cell_type": "code",
   "execution_count": 13,
   "id": "857e05af-e1a5-416d-a58b-e0c638772797",
   "metadata": {},
   "outputs": [
    {
     "data": {
      "text/plain": [
       "0    2688\n",
       "1    5669\n",
       "2    1568\n",
       "3    4192\n",
       "4    3487\n",
       "5    1962\n",
       "6    1918\n",
       "7    2908\n",
       "8    3918\n",
       "9    7137\n",
       "dtype: int64"
      ]
     },
     "execution_count": 13,
     "metadata": {},
     "output_type": "execute_result"
    }
   ],
   "source": [
    "#clusters\n",
    "pd.Series(labels).value_counts().sort_index()"
   ]
  },
  {
   "cell_type": "code",
   "execution_count": 14,
   "id": "2ef03d4d-b205-4ae9-b5ba-400c242c4a20",
   "metadata": {},
   "outputs": [],
   "source": [
    "#X_df = pd.DataFrame(X)\n",
    "#X_hat[\"label\"] = labels\n",
    "sp_library['label'] = labels"
   ]
  },
  {
   "cell_type": "code",
   "execution_count": null,
   "id": "9abd9236-0b0b-4df3-a98b-d75aa1296ae4",
   "metadata": {},
   "outputs": [
    {
     "name": "stdout",
     "output_type": "stream",
     "text": [
      "Training a K-Means model with 2 clusters! \n",
      "\n",
      "Training a K-Means model with 3 clusters! \n",
      "\n",
      "Training a K-Means model with 4 clusters! \n",
      "\n",
      "Training a K-Means model with 5 clusters! \n",
      "\n",
      "Training a K-Means model with 6 clusters! \n",
      "\n",
      "Training a K-Means model with 7 clusters! \n",
      "\n",
      "Training a K-Means model with 8 clusters! \n",
      "\n",
      "Training a K-Means model with 9 clusters! \n",
      "\n"
     ]
    }
   ],
   "source": [
    "elbowing(path = 'model/X_hat.pickle')"
   ]
  },
  {
   "cell_type": "code",
   "execution_count": null,
   "id": "b82487bc-e3fe-4757-88af-157644cead30",
   "metadata": {},
   "outputs": [],
   "source": [
    "silhouetting(path='model/X_hat.pickle')"
   ]
  },
  {
   "cell_type": "code",
   "execution_count": null,
   "id": "f42487b3-3d85-4332-b30d-84777a4885e7",
   "metadata": {},
   "outputs": [],
   "source": [
    "yellowbricking('model/X_hat.pickle', n_clusters)"
   ]
  },
  {
   "cell_type": "code",
   "execution_count": null,
   "id": "1933272b-929b-455d-a1a8-44c8b0417fe1",
   "metadata": {},
   "outputs": [],
   "source": [
    "#save_pkl(X, 'model/X.pickle')\n",
    "#save_pkl(X_scaled_df, 'model/X_hat.pickle')\n",
    "save_pkl(sp_library, ('model/sp_library.pickle'))\n",
    "save_pkl(kmeans, filename = 'model/kmeans.pickle')\n"
   ]
  },
  {
   "cell_type": "code",
   "execution_count": null,
   "id": "4a447581-890a-4f6e-a3e3-99a56aef7281",
   "metadata": {},
   "outputs": [],
   "source": []
  }
 ],
 "metadata": {
  "kernelspec": {
   "display_name": "Python 3 (ipykernel)",
   "language": "python",
   "name": "python3"
  },
  "language_info": {
   "codemirror_mode": {
    "name": "ipython",
    "version": 3
   },
   "file_extension": ".py",
   "mimetype": "text/x-python",
   "name": "python",
   "nbconvert_exporter": "python",
   "pygments_lexer": "ipython3",
   "version": "3.9.7"
  }
 },
 "nbformat": 4,
 "nbformat_minor": 5
}
