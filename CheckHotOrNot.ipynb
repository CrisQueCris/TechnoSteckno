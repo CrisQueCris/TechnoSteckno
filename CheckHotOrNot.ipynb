{
 "cells": [
  {
   "cell_type": "code",
   "execution_count": 210,
   "id": "df8bd862-fa65-4a09-9046-13c8a79d970b",
   "metadata": {},
   "outputs": [],
   "source": [
    "import pandas as pd\n",
    "import os\n",
    "from datetime import datetime\n",
    "from difflib import get_close_matches"
   ]
  },
  {
   "cell_type": "markdown",
   "id": "f8ae77d3-0679-478e-a549-c0afc21cced4",
   "metadata": {
    "tags": []
   },
   "source": [
    "### Load billboard Top 100"
   ]
  },
  {
   "cell_type": "markdown",
   "id": "7ed07574-a079-4ee9-8baf-2e73be657f73",
   "metadata": {},
   "source": [
    "We're loading all files of folder billboard and concat it into on dataframe billboard10"
   ]
  },
  {
   "cell_type": "code",
   "execution_count": 211,
   "id": "acb2335b-eb08-41eb-96d9-e8dba5ae6693",
   "metadata": {},
   "outputs": [],
   "source": [
    "billboard_files = os.listdir(\"billboard\") "
   ]
  },
  {
   "cell_type": "code",
   "execution_count": 212,
   "id": "fa4db098-affe-47b8-8c95-8c4aa30f822a",
   "metadata": {},
   "outputs": [],
   "source": [
    "billboard10 = pd.DataFrame()\n",
    "for i in billboard_files: \n",
    "    if i.endswith('.csv'):\n",
    "        df = pd.read_csv('billboard/'+i)\n",
    "    billboard10 = pd.concat([billboard10, df], axis=0)\n"
   ]
  },
  {
   "cell_type": "markdown",
   "id": "a73159c1-c41e-42b9-98b2-eb4f9533deab",
   "metadata": {},
   "source": [
    "## Check if user input is hot or not"
   ]
  },
  {
   "cell_type": "markdown",
   "id": "55523d0a-f1b1-4f14-a06c-49f6ac093833",
   "metadata": {
    "tags": []
   },
   "source": [
    "### Get user input"
   ]
  },
  {
   "cell_type": "code",
   "execution_count": 213,
   "id": "751a9555-05bd-4161-9449-3a9fa5fcc0f7",
   "metadata": {},
   "outputs": [
    {
     "data": {
      "text/plain": [
       "First Class                  1\n",
       "In My Head                   1\n",
       "Envolver                     1\n",
       "Trouble With A Heartbreak    1\n",
       "Nobody Like U                1\n",
       "                            ..\n",
       "Doin' This                   1\n",
       "MAMIII                       1\n",
       "I Hate U                     1\n",
       "Good 4 U                     1\n",
       "Praise The Lord              1\n",
       "Name: title, Length: 100, dtype: int64"
      ]
     },
     "execution_count": 213,
     "metadata": {},
     "output_type": "execute_result"
    }
   ],
   "source": [
    "billboard10[billboard10['week_nr'] == (iso_week-1)]['title'].value_counts()"
   ]
  },
  {
   "cell_type": "code",
   "execution_count": 214,
   "id": "2414f75c-b762-466a-bb80-83ac7ab82e23",
   "metadata": {},
   "outputs": [],
   "source": [
    "user_input = {}"
   ]
  },
  {
   "cell_type": "code",
   "execution_count": 215,
   "id": "ee0dfa97-9060-4e41-9145-2002cb9494fd",
   "metadata": {},
   "outputs": [
    {
     "name": "stdin",
     "output_type": "stream",
     "text": [
      "Set song title: first class\n"
     ]
    }
   ],
   "source": [
    "user_input['title']= input('Set song title:')"
   ]
  },
  {
   "cell_type": "markdown",
   "id": "985135d9-2055-4095-9d07-80ebfaf70efe",
   "metadata": {},
   "source": [
    "### Get current week"
   ]
  },
  {
   "cell_type": "code",
   "execution_count": 220,
   "id": "b9fc78d6-f6bc-48c2-8f8b-639ab42748b2",
   "metadata": {},
   "outputs": [
    {
     "name": "stdout",
     "output_type": "stream",
     "text": [
      "17\n"
     ]
    }
   ],
   "source": [
    "iso_week = datetime.now().isocalendar().week\n",
    "print(iso_week)"
   ]
  },
  {
   "cell_type": "code",
   "execution_count": null,
   "id": "1c4188e7-1019-47a1-a7b6-3f19f592190d",
   "metadata": {},
   "outputs": [],
   "source": []
  },
  {
   "cell_type": "markdown",
   "id": "adda2997-bc05-4fa1-88f0-7528f57e484b",
   "metadata": {},
   "source": [
    "### Check if song title is in billboard10"
   ]
  },
  {
   "cell_type": "code",
   "execution_count": 218,
   "id": "fa093f92-cafc-4c5e-9bcd-1966113ca5fb",
   "metadata": {},
   "outputs": [],
   "source": [
    "result_title = get_close_matches(user_input['title'], billboard10[(billboard10['week_nr'] == (iso_week-1))]['title'], n=1)\n",
    "result_artist = billboard10[(billboard10['week_nr'] == (iso_week-1)) & (billboard10['title'] == result_title[0])]['interpret']\n",
    "result_pos = billboard10[(billboard10['week_nr'] == (iso_week-1)) & (billboard10['title'] == result_title[0])]['position']"
   ]
  },
  {
   "cell_type": "code",
   "execution_count": 221,
   "id": "9ecd47f0-52c0-40aa-944b-8bc44c7fd059",
   "metadata": {},
   "outputs": [
    {
     "data": {
      "text/plain": [
       "['First Class']"
      ]
     },
     "execution_count": 221,
     "metadata": {},
     "output_type": "execute_result"
    }
   ],
   "source": [
    "result_title"
   ]
  },
  {
   "cell_type": "code",
   "execution_count": 222,
   "id": "76c2e27e-28fa-4d03-9387-34d78a9b39a5",
   "metadata": {},
   "outputs": [
    {
     "name": "stdin",
     "output_type": "stream",
     "text": [
      "Is it \"First Class\" by Jack Harlow     that you're looking for? It is currently on number 1 (Y/N) Y\n"
     ]
    },
    {
     "name": "stdout",
     "output_type": "stream",
     "text": [
      "True\n"
     ]
    }
   ],
   "source": [
    "while user_check != bool:\n",
    "    user_check = input(f\"Is it \\\"{result_title[0]}\\\" by {result_artist.to_string(index=False)} \\\n",
    "    that you're looking for? It is currently on number {result_pos.to_string(index=False)} (Y/N)\")\n",
    "    if user_check in ['Y','y','yes']:\n",
    "        user_check = True\n",
    "        break\n",
    "    elif user_check in ['N','n','no']:\n",
    "        user_check = False\n",
    "        break\n",
    "    else: \n",
    "        print('Input not readable. Please enter Y or N.')\n",
    "print(user_check)        "
   ]
  },
  {
   "cell_type": "code",
   "execution_count": 223,
   "id": "1da3b8b9-f261-4e4f-b935-df34c4230fb6",
   "metadata": {},
   "outputs": [
    {
     "name": "stdout",
     "output_type": "stream",
     "text": [
      "the song is hot right now\n"
     ]
    }
   ],
   "source": [
    "if user_check == True:\n",
    "    print(f'the song is hot right now')    "
   ]
  }
 ],
 "metadata": {
  "kernelspec": {
   "display_name": "Python 3 (ipykernel)",
   "language": "python",
   "name": "python3"
  },
  "language_info": {
   "codemirror_mode": {
    "name": "ipython",
    "version": 3
   },
   "file_extension": ".py",
   "mimetype": "text/x-python",
   "name": "python",
   "nbconvert_exporter": "python",
   "pygments_lexer": "ipython3",
   "version": "3.9.7"
  }
 },
 "nbformat": 4,
 "nbformat_minor": 5
}
