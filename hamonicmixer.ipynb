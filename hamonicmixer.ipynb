{
 "cells": [
  {
   "cell_type": "markdown",
   "id": "9d0e8531-0672-4c19-9769-870d370b18f3",
   "metadata": {},
   "source": [
    "## harmonic mixing\n",
    "[serato camelot](https://serato.com/latest/blog/18213/pro-tip-harmonic-mixing-crate)"
   ]
  },
  {
   "cell_type": "markdown",
   "id": "d22488f5-873a-4365-9b8b-ae55df1b9402",
   "metadata": {},
   "source": [
    "function to output harmonicly fitting song"
   ]
  },
  {
   "cell_type": "code",
   "execution_count": 11,
   "id": "ea4439f8-5ced-4ef1-8998-56459afab421",
   "metadata": {},
   "outputs": [],
   "source": [
    "pitch_class = {0:'C',1:['C#', 'Db'],2:'D',3:['D#', 'Eb'],\\\n",
    "               4:['E','Fb'] ,5:'F',6:['F#', 'Gb'],7:'G',\\\n",
    "               8:['G#','Ab'],9:'A',10:['A#','Bb'] ,11:'B'}\n",
    "mode = {0:'major', 1:'minor'}\n",
    "\n",
    "\n",
    "camelot = {'1A': [['G#','Ab'], 'minor'],\n",
    "           '2A': [['D#','Eb'], 'minor'],\n",
    "           '3A':[['A#','Bb'], 'minor'],\n",
    "           '4A':['F', 'minor'],\n",
    "           '5A':['C', 'minor'],\n",
    "           '6A':['G', 'minor'],\n",
    "           '7A':['D', 'minor'],\n",
    "           '8A':['A', 'minor'],\n",
    "           '9A':['E', 'minor'],\n",
    "           '10A':['B', 'minor'],\n",
    "           '11A':[['F#','Gb'], 'minor'],\n",
    "           '12A':[['C#', 'Db'], 'minor'],\n",
    "           '1B':['B', 'major'],\n",
    "           '2B':[['F#', 'Gb'], 'major'],\n",
    "           '3B':[['C#','Db'], 'major'],\n",
    "           '4B':[['G#','Ab'], 'major'],\n",
    "           '5B':[['D#','Eb'], 'major'],\n",
    "           '6B':[['A#','Bb'], 'major'],\n",
    "           '7B':['F', 'major'],\n",
    "           '8B':['C', 'major'],\n",
    "           '9B':['G', 'major'],\n",
    "           '10B':['D', 'major'],\n",
    "           '11B':['A', 'major'],\n",
    "           '12B':[['E','Fb'], 'major']}"
   ]
  },
  {
   "cell_type": "code",
   "execution_count": 49,
   "id": "9f1e0c51-84ce-4f09-a433-de91b2725553",
   "metadata": {},
   "outputs": [],
   "source": [
    "def translate_pc_cam(key_pc, mode_pc):\n",
    "    \"\"\"takes a key in pitch class notation and the mode and return the key in camelot notation\"\"\"\n",
    "    key = pitch_class[key_pc]\n",
    "    tonality = mode[mode_pc]\n",
    "    key_cam = [k for k,v in camelot.items() if v == [key, tonality]]\n",
    "    return key_cam[0]\n",
    "\n",
    "def translate_cam_pc(key_cam):\n",
    "    \"\"\"takes a key in camelot notation and return the key in pitch class notation and the mode\"\"\"\n",
    "    key = camelot[key_cam][0]\n",
    "    tonality = camelot[key_cam][1]\n",
    "    print(key, tonality)\n",
    "    key_pc = [k for k,v in pitch_class.items() if v == key]\n",
    "    mode_pc = [k for k,v in mode.items() if v == tonality]\n",
    "    return key_pc, mode_pc"
   ]
  },
  {
   "cell_type": "code",
   "execution_count": 47,
   "id": "1c4c1549-07cc-4259-bb25-789529853d4b",
   "metadata": {},
   "outputs": [
    {
     "name": "stdout",
     "output_type": "stream",
     "text": [
      "['D#', 'Eb'] major\n"
     ]
    },
    {
     "data": {
      "text/plain": [
       "([3], [1], [1])"
      ]
     },
     "execution_count": 47,
     "metadata": {},
     "output_type": "execute_result"
    }
   ],
   "source": [
    "translate_cam_pc('5B')\n",
    "\n"
   ]
  },
  {
   "cell_type": "code",
   "execution_count": 50,
   "id": "ced845b1-446a-4808-ab83-f2a3e0145efe",
   "metadata": {},
   "outputs": [],
   "source": [
    "def harmonic_sibbling(key_cam):\n",
    "    \"\"\"takes a key in camelot notation and returns the 4 harmonic neighbours\"\"\"\n",
    "    if key_cam[1] =='A':\n",
    "        pos_keys = str(int(key_cam[0])+1)+key_cam[1],\\\n",
    "        str(int(key_cam[0])-1)+key_cam[1],\\\n",
    "        str(int(key_cam[0])+6)+key_cam[1],\\\n",
    "        key_cam[0]+'B'\n",
    "    else:\n",
    "        pos_keys = str(int(key_cam[0])+1)+key_cam[1],\\\n",
    "        str(int(key_cam[0])-1)+key_cam[1],\\\n",
    "        str(int(key_cam[0])+6)+key_cam[1],\\\n",
    "        key_cam[0]+'A'\n",
    "    return pos_keys"
   ]
  },
  {
   "cell_type": "code",
   "execution_count": 32,
   "id": "86bc8bb4-2f62-46a5-b384-af9e47763784",
   "metadata": {},
   "outputs": [
    {
     "data": {
      "text/plain": [
       "('6B', '4B', '11B', '5A')"
      ]
     },
     "execution_count": 32,
     "metadata": {},
     "output_type": "execute_result"
    }
   ],
   "source": [
    "harmonic_sibbling('5B')"
   ]
  }
 ],
 "metadata": {
  "kernelspec": {
   "display_name": "Python 3 (ipykernel)",
   "language": "python",
   "name": "python3"
  },
  "language_info": {
   "codemirror_mode": {
    "name": "ipython",
    "version": 3
   },
   "file_extension": ".py",
   "mimetype": "text/x-python",
   "name": "python",
   "nbconvert_exporter": "python",
   "pygments_lexer": "ipython3",
   "version": "3.9.7"
  }
 },
 "nbformat": 4,
 "nbformat_minor": 5
}
