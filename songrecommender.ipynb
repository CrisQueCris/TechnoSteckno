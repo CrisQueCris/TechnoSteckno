{
 "cells": [
  {
   "cell_type": "markdown",
   "id": "84b78f5a-9b8a-4aa3-9935-69c377515a77",
   "metadata": {},
   "source": [
    "Get recommendation from song input based on model.pickle. "
   ]
  },
  {
   "cell_type": "code",
   "execution_count": 1,
   "id": "0496835c-8bbb-49e7-b039-efcbd846d860",
   "metadata": {},
   "outputs": [],
   "source": [
    "from songrecommender import get_song_df, showID_in_player\n",
    "from scalingclustering import load_pkl, predict_kmeans\n",
    "import pandas as pd\n",
    "from IPython.display import IFrame\n",
    "from harmonicneighbours import translate_pc_cam, translate_cam_pc, harmonic_sibbling"
   ]
  },
  {
   "cell_type": "markdown",
   "id": "6fc898d6-a324-4e18-911d-513fee4fbd11",
   "metadata": {},
   "source": [
    "1. read song_result\n",
    "2. search song on spotify\n",
    "3. get audio features of song\n",
    "4. import pickle model\n",
    "5. predict cluster of song\n",
    "6. chose possible songs from cluster\n",
    "7. run harmonic mixing to filter possible songs\n"
   ]
  },
  {
   "cell_type": "markdown",
   "id": "9684e23c-5bba-450c-af54-03f94c7c04b7",
   "metadata": {},
   "source": [
    "## 1. read song_result ## 2. search song on spotify ## 3. get audio features of song"
   ]
  },
  {
   "cell_type": "code",
   "execution_count": 2,
   "id": "5b8d08c0-d39b-4ca2-80d6-12924946c039",
   "metadata": {},
   "outputs": [
    {
     "name": "stdin",
     "output_type": "stream",
     "text": [
      "The artist of your song: alcoholic\n"
     ]
    }
   ],
   "source": [
    "song_df = get_song_df()"
   ]
  },
  {
   "cell_type": "code",
   "execution_count": null,
   "id": "3efe7f1e-9d18-49f0-a006-848af86b83e1",
   "metadata": {},
   "outputs": [],
   "source": []
  },
  {
   "cell_type": "markdown",
   "id": "c91a4253-35b6-4eb8-875b-ea3e9a463f05",
   "metadata": {},
   "source": [
    "## 4. import pickle model"
   ]
  },
  {
   "cell_type": "code",
   "execution_count": 3,
   "id": "92abf002-ed8c-4cff-9f74-a4244c61d3cb",
   "metadata": {},
   "outputs": [],
   "source": [
    "scaler = load_pkl(filename='model/scalerKmeans.pickle')\n",
    "kmeans = load_pkl(filename = 'model/modelKmeans.pickle')\n",
    "X = load_pkl(filename=  'model/X.pickle')\n",
    "X_scaled_df = load_pkl(filename ='model/X_scaled_df')\n",
    "sp_library = load_pkl(filename ='model/sp_library.pickle')"
   ]
  },
  {
   "cell_type": "markdown",
   "id": "7885b62f-7831-426c-ab8f-ff2c2d3ca1e9",
   "metadata": {},
   "source": [
    "## 5. scale song_df"
   ]
  },
  {
   "cell_type": "code",
   "execution_count": 4,
   "id": "3315a20b-a9f1-47a3-8242-9e4563b11377",
   "metadata": {},
   "outputs": [],
   "source": [
    "song_df['Year'] = pd.to_datetime(song_df['ReleaseYear'], format='%Y-%m-%d')\n",
    "song_df['Year'] = pd.DatetimeIndex(song_df['Year']).year"
   ]
  },
  {
   "cell_type": "code",
   "execution_count": 5,
   "id": "f619b2d0-a853-46dc-9ef2-1ab57ff22bc6",
   "metadata": {},
   "outputs": [],
   "source": [
    "song_df_scaled = scaler.transform(song_df[X_scaled_df.columns])"
   ]
  },
  {
   "cell_type": "code",
   "execution_count": 6,
   "id": "be98fd23-c737-4270-8736-9b3fbfa33b99",
   "metadata": {},
   "outputs": [
    {
     "name": "stderr",
     "output_type": "stream",
     "text": [
      "C:\\Users\\Lenovo\\anaconda3\\envs\\DA_Env\\lib\\site-packages\\sklearn\\base.py:450: UserWarning: X does not have valid feature names, but KMeans was fitted with feature names\n",
      "  warnings.warn(\n"
     ]
    },
    {
     "data": {
      "image/png": "[encoded data removed]",
      "text/plain": [
       "<Figure size 576x396 with 1 Axes>"
      ]
     },
     "metadata": {},
     "output_type": "display_data"
    }
   ],
   "source": [
    "song_label, song_cluster = predict_kmeans(song_df_scaled, X, kmeans)"
   ]
  },
  {
   "cell_type": "code",
   "execution_count": 7,
   "id": "b7244618-b8f2-4d3c-bf67-033031a011ca",
   "metadata": {},
   "outputs": [],
   "source": [
    "song_df['label'] = song_label"
   ]
  },
  {
   "cell_type": "markdown",
   "id": "196947d0-a45a-410c-ad65-4530f616266c",
   "metadata": {},
   "source": [
    "## Get song suggestion from same cluster and show spotify player"
   ]
  },
  {
   "cell_type": "markdown",
   "id": "80dc91ed-12ca-48bf-91dc-236390816953",
   "metadata": {},
   "source": [
    "### Key/mode: Get harmonic neighbours:"
   ]
  },
  {
   "cell_type": "code",
   "execution_count": 8,
   "id": "b2ffec0c-a494-4628-8bdf-29bb37ddd036",
   "metadata": {},
   "outputs": [
    {
     "data": {
      "text/plain": [
       "(9, 0)"
      ]
     },
     "execution_count": 8,
     "metadata": {},
     "output_type": "execute_result"
    }
   ],
   "source": [
    "song_key = song_df['key'].iloc[0]\n",
    "song_mode = song_df['mode'].iloc[0]\n",
    "song_key, song_mode"
   ]
  },
  {
   "cell_type": "markdown",
   "id": "af7b77c7-6db4-4600-9466-c31e3d906a0c",
   "metadata": {},
   "source": [
    "Translate key and mode to camelot:"
   ]
  },
  {
   "cell_type": "code",
   "execution_count": 13,
   "id": "cf7e68e9-bc78-4e1d-9eb8-ceaf82410830",
   "metadata": {},
   "outputs": [
    {
     "data": {
      "text/plain": [
       "['11B']"
      ]
     },
     "execution_count": 13,
     "metadata": {},
     "output_type": "execute_result"
    }
   ],
   "source": [
    "key_cam"
   ]
  },
  {
   "cell_type": "code",
   "execution_count": 12,
   "id": "ef08bcd7-192c-4afd-9120-3161bec62d2b",
   "metadata": {},
   "outputs": [
    {
     "ename": "IndexError",
     "evalue": "list index out of range",
     "output_type": "error",
     "traceback": [
      "\u001b[1;31m---------------------------------------------------------------------------\u001b[0m",
      "\u001b[1;31mIndexError\u001b[0m                                Traceback (most recent call last)",
      "Input \u001b[1;32mIn [12]\u001b[0m, in \u001b[0;36m<cell line: 2>\u001b[1;34m()\u001b[0m\n\u001b[0;32m      1\u001b[0m key_cam \u001b[38;5;241m=\u001b[39m translate_pc_cam(song_key, song_mode)\n\u001b[1;32m----> 2\u001b[0m \u001b[43mkey_cam\u001b[49m\u001b[43m[\u001b[49m\u001b[38;5;241;43m1\u001b[39;49m\u001b[43m]\u001b[49m\n",
      "\u001b[1;31mIndexError\u001b[0m: list index out of range"
     ]
    }
   ],
   "source": [
    "key_cam = translate_pc_cam(song_key, song_mode)\n"
   ]
  },
  {
   "cell_type": "markdown",
   "id": "2b6f80e0-7278-42a1-9c17-71695933285d",
   "metadata": {},
   "source": [
    "Get neighbours:"
   ]
  },
  {
   "cell_type": "code",
   "execution_count": 10,
   "id": "9f81a636-7e11-418c-9381-bac30e4ee56f",
   "metadata": {},
   "outputs": [
    {
     "ename": "IndexError",
     "evalue": "list index out of range",
     "output_type": "error",
     "traceback": [
      "\u001b[1;31m---------------------------------------------------------------------------\u001b[0m",
      "\u001b[1;31mIndexError\u001b[0m                                Traceback (most recent call last)",
      "Input \u001b[1;32mIn [10]\u001b[0m, in \u001b[0;36m<cell line: 1>\u001b[1;34m()\u001b[0m\n\u001b[1;32m----> 1\u001b[0m neighbours \u001b[38;5;241m=\u001b[39m \u001b[43mharmonic_sibbling\u001b[49m\u001b[43m(\u001b[49m\u001b[43mkey_cam\u001b[49m\u001b[43m)\u001b[49m\n",
      "File \u001b[1;32m~\\Documents\\GitHub\\TechnoSteckno\\harmonicneighbours.py:50\u001b[0m, in \u001b[0;36mharmonic_sibbling\u001b[1;34m(key_cam)\u001b[0m\n\u001b[0;32m     48\u001b[0m \u001b[38;5;28;01mdef\u001b[39;00m \u001b[38;5;21mharmonic_sibbling\u001b[39m(key_cam):\n\u001b[0;32m     49\u001b[0m     \u001b[38;5;124;03m\"\"\"takes a key in camelot notation and returns the 4 harmonic neighbours\"\"\"\u001b[39;00m\n\u001b[1;32m---> 50\u001b[0m     \u001b[38;5;28;01mif\u001b[39;00m \u001b[43mkey_cam\u001b[49m\u001b[43m[\u001b[49m\u001b[38;5;241;43m2\u001b[39;49m\u001b[43m]\u001b[49m \u001b[38;5;241m==\u001b[39m\u001b[38;5;124m'\u001b[39m\u001b[38;5;124mA\u001b[39m\u001b[38;5;124m'\u001b[39m:\n\u001b[0;32m     51\u001b[0m         pos_keys \u001b[38;5;241m=\u001b[39m \u001b[38;5;28mstr\u001b[39m(\u001b[38;5;28mint\u001b[39m(key_cam[\u001b[38;5;241m0\u001b[39m:\u001b[38;5;241m1\u001b[39m])\u001b[38;5;241m+\u001b[39m\u001b[38;5;241m1\u001b[39m)\u001b[38;5;241m+\u001b[39mkey_cam[\u001b[38;5;241m1\u001b[39m],\\\n\u001b[0;32m     52\u001b[0m         \u001b[38;5;28mstr\u001b[39m(\u001b[38;5;28mint\u001b[39m(key_cam[\u001b[38;5;241m0\u001b[39m:\u001b[38;5;241m1\u001b[39m])\u001b[38;5;241m-\u001b[39m\u001b[38;5;241m1\u001b[39m)\u001b[38;5;241m+\u001b[39mkey_cam[\u001b[38;5;241m2\u001b[39m],\\\n\u001b[0;32m     53\u001b[0m         \u001b[38;5;28mstr\u001b[39m(\u001b[38;5;28mint\u001b[39m(key_cam[\u001b[38;5;241m0\u001b[39m:\u001b[38;5;241m1\u001b[39m])\u001b[38;5;241m+\u001b[39m\u001b[38;5;241m6\u001b[39m)\u001b[38;5;241m+\u001b[39mkey_cam[\u001b[38;5;241m2\u001b[39m],\\\n\u001b[0;32m     54\u001b[0m         key_cam[\u001b[38;5;241m0\u001b[39m]\u001b[38;5;241m+\u001b[39m\u001b[38;5;124m'\u001b[39m\u001b[38;5;124mB\u001b[39m\u001b[38;5;124m'\u001b[39m\n\u001b[0;32m     55\u001b[0m     \u001b[38;5;28;01melse\u001b[39;00m:\n",
      "\u001b[1;31mIndexError\u001b[0m: list index out of range"
     ]
    }
   ],
   "source": [
    "neighbours = harmonic_sibbling(key_cam)"
   ]
  },
  {
   "cell_type": "code",
   "execution_count": null,
   "id": "e933a655-561e-4ed0-bc34-4912f23d354d",
   "metadata": {},
   "outputs": [],
   "source": [
    "neighbours"
   ]
  },
  {
   "cell_type": "code",
   "execution_count": null,
   "id": "300eb1da-1c5b-48cf-b514-2330e20ef778",
   "metadata": {},
   "outputs": [],
   "source": [
    "for neighbour in neighbours:\n",
    "    translate_cam_pc(neighbour)"
   ]
  },
  {
   "cell_type": "code",
   "execution_count": null,
   "id": "2a35ae10-595b-47f7-944b-08125435196c",
   "metadata": {},
   "outputs": [],
   "source": [
    "song_suggest_cluster = sp_library[sp_library['label']==song_df['label'][0]]"
   ]
  },
  {
   "cell_type": "code",
   "execution_count": null,
   "id": "25d4db8b-413a-4d9e-aa59-cfc5c967049d",
   "metadata": {},
   "outputs": [],
   "source": [
    "\n",
    "song_suggest_TrackID = song_suggest['TrackID'].iloc[0]"
   ]
  },
  {
   "cell_type": "markdown",
   "id": "704864f2-b7be-4333-856c-bccdc2108cf4",
   "metadata": {},
   "source": [
    "## Comparing songs"
   ]
  },
  {
   "cell_type": "code",
   "execution_count": null,
   "id": "8f29fe56-37b0-4599-b590-8baed41fe88d",
   "metadata": {},
   "outputs": [],
   "source": [
    "df_compair = pd.concat([song_df, song_suggest], axis=0)\n",
    "df_compair.iloc[:,0:9]"
   ]
  },
  {
   "cell_type": "code",
   "execution_count": null,
   "id": "0ce6ae37-7656-4fb9-8cd6-f7588b7a47a0",
   "metadata": {},
   "outputs": [],
   "source": [
    "df_compair.iloc[:,10:19]"
   ]
  },
  {
   "cell_type": "code",
   "execution_count": null,
   "id": "038e3d56-53bc-44a3-bb14-2c0949b77936",
   "metadata": {},
   "outputs": [],
   "source": [
    "player_user_choice = showID_in_player(song_df.loc[0, 'TrackID'])\n",
    "print(f'This is your recommendation:')\n",
    "player_user_choice"
   ]
  },
  {
   "cell_type": "code",
   "execution_count": null,
   "id": "5eb892ca-46c7-4240-b6b5-f2763209006a",
   "metadata": {},
   "outputs": [],
   "source": [
    "player_recommendation = showID_in_player(song_suggest_TrackID)\n",
    "print(f'This is your recommendation:')\n",
    "player_recommendation\n"
   ]
  }
 ],
 "metadata": {
  "kernelspec": {
   "display_name": "Python 3 (ipykernel)",
   "language": "python",
   "name": "python3"
  },
  "language_info": {
   "codemirror_mode": {
    "name": "ipython",
    "version": 3
   },
   "file_extension": ".py",
   "mimetype": "text/x-python",
   "name": "python",
   "nbconvert_exporter": "python",
   "pygments_lexer": "ipython3",
   "version": "3.9.7"
  }
 },
 "nbformat": 4,
 "nbformat_minor": 5
}
