{
 "cells": [
  {
   "cell_type": "markdown",
   "id": "84b78f5a-9b8a-4aa3-9935-69c377515a77",
   "metadata": {},
   "source": [
    "# Get a spotify song recommendation"
   ]
  },
  {
   "cell_type": "code",
   "execution_count": 3,
   "id": "0496835c-8bbb-49e7-b039-efcbd846d860",
   "metadata": {},
   "outputs": [],
   "source": [
    "from ScrapeLast10weeksBillboard import time_to_scrape\n",
    "from CheckHotNot import load_billboard_csv\n",
    "from CheckHotNot import check_if_hot\n",
    "from CheckHotNot import get_random_hot_song\n",
    "from songrecommender import show_if_hot\n",
    "from songrecommender import get_song_df, showID_in_player\n",
    "from scalingclustering import load_pkl, predict_kmeans\n",
    "import spotipy\n",
    "from spotipy.oauth2 import SpotifyClientCredentials\n",
    "import GSA\n",
    "import config\n",
    "import pandas as pd\n",
    "from IPython.display import IFrame\n",
    "from harmonicneighbours import translate_pc_cam, translate_cam_pc, harmonic_sibblings"
   ]
  },
  {
   "cell_type": "markdown",
   "id": "b451ae19-5146-4bee-b69f-18edc702c0e9",
   "metadata": {},
   "source": [
    "## 1. Check if we should scrape the Billboard."
   ]
  },
  {
   "cell_type": "markdown",
   "id": "6fc898d6-a324-4e18-911d-513fee4fbd11",
   "metadata": {},
   "source": [
    "Is it time to scrape the billboard100 songs? "
   ]
  },
  {
   "cell_type": "code",
   "execution_count": 4,
   "id": "f3237f9e-6d7d-47d8-b54f-2b1275406456",
   "metadata": {},
   "outputs": [
    {
     "name": "stdout",
     "output_type": "stream",
     "text": [
      "Our last data is from 2022-04-23\n"
     ]
    },
    {
     "name": "stdin",
     "output_type": "stream",
     "text": [
      "Would you like to get the current Top 100 now?(Y/N) n\n"
     ]
    }
   ],
   "source": [
    "time_to_scrape()"
   ]
  },
  {
   "cell_type": "markdown",
   "id": "d9c7166d-d591-4058-8b7c-5ceb8f4c4dd5",
   "metadata": {},
   "source": [
    "## 2. Get song title and check if it is hot right now:"
   ]
  },
  {
   "cell_type": "markdown",
   "id": "55f35b6f-4ed7-4b34-a16a-d5a1cda16adf",
   "metadata": {},
   "source": [
    "Get song input from user and check if it is in the Billboard Top100:"
   ]
  },
  {
   "cell_type": "code",
   "execution_count": 5,
   "id": "201c2408-6585-4a7e-aa27-9d14431f0045",
   "metadata": {},
   "outputs": [
    {
     "name": "stdin",
     "output_type": "stream",
     "text": [
      "Give me your song title! woman\n"
     ]
    },
    {
     "name": "stdout",
     "output_type": "stream",
     "text": [
      "No song similar to woman is hot right now.\n"
     ]
    }
   ],
   "source": [
    "result, user_input =  check_if_hot()"
   ]
  },
  {
   "cell_type": "markdown",
   "id": "a64b88b7-16da-45f4-a157-7312bc0154e9",
   "metadata": {},
   "source": [
    "If the song is hot another hot song is randomly selected. Alternatively we search for the title on spotify."
   ]
  },
  {
   "cell_type": "code",
   "execution_count": 6,
   "id": "6d93adca-b572-4050-b0c5-78d66b7a4ff7",
   "metadata": {
    "tags": []
   },
   "outputs": [
    {
     "name": "stdout",
     "output_type": "stream",
     "text": [
      "not hot process\n"
     ]
    },
    {
     "data": {
      "text/html": [
       "<div>\n",
       "<style scoped>\n",
       "    .dataframe tbody tr th:only-of-type {\n",
       "        vertical-align: middle;\n",
       "    }\n",
       "\n",
       "    .dataframe tbody tr th {\n",
       "        vertical-align: top;\n",
       "    }\n",
       "\n",
       "    .dataframe thead th {\n",
       "        text-align: right;\n",
       "    }\n",
       "</style>\n",
       "<table border=\"1\" class=\"dataframe\">\n",
       "  <thead>\n",
       "    <tr style=\"text-align: right;\">\n",
       "      <th></th>\n",
       "      <th>TrackName</th>\n",
       "      <th>TrackID</th>\n",
       "      <th>SampleURL</th>\n",
       "      <th>ReleaseYear</th>\n",
       "      <th>danceability</th>\n",
       "      <th>energy</th>\n",
       "      <th>loudness</th>\n",
       "      <th>speechiness</th>\n",
       "      <th>acousticness</th>\n",
       "      <th>instrumentalness</th>\n",
       "      <th>liveness</th>\n",
       "      <th>valence</th>\n",
       "      <th>tempo</th>\n",
       "      <th>key</th>\n",
       "      <th>mode</th>\n",
       "      <th>duration_ms</th>\n",
       "      <th>Popularity</th>\n",
       "    </tr>\n",
       "  </thead>\n",
       "  <tbody>\n",
       "    <tr>\n",
       "      <th>0</th>\n",
       "      <td>Woman</td>\n",
       "      <td>6Uj1ctrBOjOas8xZXGqKk4</td>\n",
       "      <td>https://open.spotify.com/track/6Uj1ctrBOjOas8x...</td>\n",
       "      <td>2021-06-25</td>\n",
       "      <td>0.824</td>\n",
       "      <td>0.764</td>\n",
       "      <td>-4.175</td>\n",
       "      <td>0.0854</td>\n",
       "      <td>0.0888</td>\n",
       "      <td>0.00294</td>\n",
       "      <td>0.117</td>\n",
       "      <td>0.881</td>\n",
       "      <td>107.998</td>\n",
       "      <td>5</td>\n",
       "      <td>0</td>\n",
       "      <td>172627</td>\n",
       "      <td>91</td>\n",
       "    </tr>\n",
       "  </tbody>\n",
       "</table>\n",
       "</div>"
      ],
      "text/plain": [
       "  TrackName                 TrackID  \\\n",
       "0     Woman  6Uj1ctrBOjOas8xZXGqKk4   \n",
       "\n",
       "                                           SampleURL ReleaseYear danceability  \\\n",
       "0  https://open.spotify.com/track/6Uj1ctrBOjOas8x...  2021-06-25        0.824   \n",
       "\n",
       "  energy loudness speechiness acousticness instrumentalness liveness valence  \\\n",
       "0  0.764   -4.175      0.0854       0.0888          0.00294    0.117   0.881   \n",
       "\n",
       "     tempo key mode duration_ms Popularity  \n",
       "0  107.998   5    0      172627         91  "
      ]
     },
     "execution_count": 6,
     "metadata": {},
     "output_type": "execute_result"
    }
   ],
   "source": [
    "\n",
    "song_df = show_if_hot(result, user_input['title'])\n",
    "song_df\n",
    "\n",
    "    "
   ]
  },
  {
   "cell_type": "markdown",
   "id": "c91a4253-35b6-4eb8-875b-ea3e9a463f05",
   "metadata": {},
   "source": [
    "## 3. import pickle model\n",
    "\n",
    "We load the model to apply it to the song we found on spotify."
   ]
  },
  {
   "cell_type": "code",
   "execution_count": 7,
   "id": "92abf002-ed8c-4cff-9f74-a4244c61d3cb",
   "metadata": {},
   "outputs": [],
   "source": [
    "scaler = load_pkl(filename='model/scalerKmeans.pickle')\n",
    "kmeans = load_pkl(filename = 'model/modelKmeans.pickle')\n",
    "X = load_pkl(filename=  'model/X.pickle')\n",
    "X_scaled_df = load_pkl(filename ='model/X_scaled_df')\n",
    "sp_library = load_pkl(filename ='model/sp_library.pickle')"
   ]
  },
  {
   "cell_type": "markdown",
   "id": "7885b62f-7831-426c-ab8f-ff2c2d3ca1e9",
   "metadata": {
    "tags": []
   },
   "source": [
    "## 4. scale song\n",
    "\n",
    "We scale the song and predict the cluster: "
   ]
  },
  {
   "cell_type": "code",
   "execution_count": 9,
   "id": "3315a20b-a9f1-47a3-8242-9e4563b11377",
   "metadata": {},
   "outputs": [],
   "source": [
    "song_df['Year'] = pd.to_datetime(song_df['ReleaseYear'], format='%Y-%m-%d')\n",
    "song_df['Year'] = pd.DatetimeIndex(song_df['Year']).year"
   ]
  },
  {
   "cell_type": "code",
   "execution_count": 10,
   "id": "f619b2d0-a853-46dc-9ef2-1ab57ff22bc6",
   "metadata": {},
   "outputs": [],
   "source": [
    "song_df_scaled = scaler.transform(song_df[X_scaled_df.columns])"
   ]
  },
  {
   "cell_type": "code",
   "execution_count": 11,
   "id": "be98fd23-c737-4270-8736-9b3fbfa33b99",
   "metadata": {},
   "outputs": [
    {
     "name": "stderr",
     "output_type": "stream",
     "text": [
      "C:\\Users\\Lenovo\\anaconda3\\envs\\DA_Env\\lib\\site-packages\\sklearn\\base.py:450: UserWarning: X does not have valid feature names, but KMeans was fitted with feature names\n",
      "  warnings.warn(\n"
     ]
    }
   ],
   "source": [
    "song_label, song_cluster = predict_kmeans(song_df_scaled, X, kmeans)"
   ]
  },
  {
   "cell_type": "markdown",
   "id": "76e45ae2-7c5c-42a3-8c18-bd5e23aa057a",
   "metadata": {},
   "source": [
    "we add the cluster as a label"
   ]
  },
  {
   "cell_type": "code",
   "execution_count": 12,
   "id": "b7244618-b8f2-4d3c-bf67-033031a011ca",
   "metadata": {},
   "outputs": [],
   "source": [
    "song_df['label'] = song_label"
   ]
  },
  {
   "cell_type": "markdown",
   "id": "196947d0-a45a-410c-ad65-4530f616266c",
   "metadata": {},
   "source": [
    "## 5. Get song suggestion from same cluster and show spotify player"
   ]
  },
  {
   "cell_type": "markdown",
   "id": "80dc91ed-12ca-48bf-91dc-236390816953",
   "metadata": {},
   "source": [
    "### Key/mode: Get harmonic neighbours:"
   ]
  },
  {
   "cell_type": "code",
   "execution_count": 13,
   "id": "b2ffec0c-a494-4628-8bdf-29bb37ddd036",
   "metadata": {},
   "outputs": [
    {
     "data": {
      "text/plain": [
       "(5, 0)"
      ]
     },
     "execution_count": 13,
     "metadata": {},
     "output_type": "execute_result"
    }
   ],
   "source": [
    "song_key = song_df['key'].iloc[0]\n",
    "song_mode = song_df['mode'].iloc[0]\n",
    "song_key, song_mode"
   ]
  },
  {
   "cell_type": "markdown",
   "id": "af7b77c7-6db4-4600-9466-c31e3d906a0c",
   "metadata": {},
   "source": [
    "Translate key and mode to camelot:"
   ]
  },
  {
   "cell_type": "code",
   "execution_count": 14,
   "id": "ef08bcd7-192c-4afd-9120-3161bec62d2b",
   "metadata": {},
   "outputs": [
    {
     "data": {
      "text/plain": [
       "'07B'"
      ]
     },
     "execution_count": 14,
     "metadata": {},
     "output_type": "execute_result"
    }
   ],
   "source": [
    "key_cam = translate_pc_cam(song_key, song_mode)\n",
    "#key_cam = key_cam[0]\n",
    "key_cam"
   ]
  },
  {
   "cell_type": "markdown",
   "id": "2b6f80e0-7278-42a1-9c17-71695933285d",
   "metadata": {},
   "source": [
    "Get neighbours:"
   ]
  },
  {
   "cell_type": "code",
   "execution_count": 15,
   "id": "9f81a636-7e11-418c-9381-bac30e4ee56f",
   "metadata": {},
   "outputs": [
    {
     "data": {
      "text/plain": [
       "['08B', '06B', '01B', '12A']"
      ]
     },
     "execution_count": 15,
     "metadata": {},
     "output_type": "execute_result"
    }
   ],
   "source": [
    "neighbours = harmonic_sibblings(key_cam)\n",
    "neighbours"
   ]
  },
  {
   "cell_type": "markdown",
   "id": "6b239977-d3c9-4cc3-97e0-90fac9cc896c",
   "metadata": {},
   "source": [
    "Translate back to key/mode pairs:"
   ]
  },
  {
   "cell_type": "code",
   "execution_count": 16,
   "id": "300eb1da-1c5b-48cf-b514-2330e20ef778",
   "metadata": {},
   "outputs": [
    {
     "name": "stdout",
     "output_type": "stream",
     "text": [
      "C major\n",
      "['A#', 'Bb'] major\n",
      "B major\n",
      "['C#', 'Db'] minor\n"
     ]
    },
    {
     "data": {
      "text/plain": [
       "[([0], [0]), ([10], [0]), ([11], [0]), ([1], [1])]"
      ]
     },
     "execution_count": 16,
     "metadata": {},
     "output_type": "execute_result"
    }
   ],
   "source": [
    "pos_key_modes = [translate_cam_pc(neighbour) for neighbour in neighbours]\n",
    "pos_key_modes"
   ]
  },
  {
   "cell_type": "markdown",
   "id": "57de9bf0-8fef-4acf-af6d-b5d25b0bcc54",
   "metadata": {},
   "source": [
    "Filter cluster for possible key/mode combination:"
   ]
  },
  {
   "cell_type": "code",
   "execution_count": 17,
   "id": "2a35ae10-595b-47f7-944b-08125435196c",
   "metadata": {},
   "outputs": [],
   "source": [
    "song_suggest_cluster = sp_library[sp_library['label']==song_df['label'][0]]"
   ]
  },
  {
   "cell_type": "code",
   "execution_count": 18,
   "id": "9fd11672-69e4-4850-81f5-125a67cdd951",
   "metadata": {},
   "outputs": [],
   "source": [
    "filtered_df = pd.DataFrame(columns=song_suggest_cluster.columns) \n",
    "for i in pos_key_modes:\n",
    "    filtered_df = pd.concat([filtered_df, song_suggest_cluster.loc[(song_suggest_cluster['key']==i[0][0]) & (song_suggest_cluster['mode']==i[1][0]), :]])\n",
    "song_suggest_cluster = filtered_df    "
   ]
  },
  {
   "cell_type": "markdown",
   "id": "9dca5e20-ae4e-49fc-8e2a-5c2b9102b923",
   "metadata": {},
   "source": [
    "### Filter for tempo:"
   ]
  },
  {
   "cell_type": "code",
   "execution_count": 19,
   "id": "552075b5-d275-4e40-be8b-693d09aab059",
   "metadata": {},
   "outputs": [
    {
     "data": {
      "text/plain": [
       "(115.998, 99.998)"
      ]
     },
     "execution_count": 19,
     "metadata": {},
     "output_type": "execute_result"
    }
   ],
   "source": [
    "song_df['tempo'][0]+8, song_df['tempo'][0] - 8 "
   ]
  },
  {
   "cell_type": "code",
   "execution_count": 20,
   "id": "e17f1c91-7bc7-456a-bba9-38f87bebe283",
   "metadata": {},
   "outputs": [],
   "source": [
    "song_suggest_cluster = song_suggest_cluster[(song_suggest_cluster['tempo']<(song_df['tempo'][0] + 8)) & (song_suggest_cluster['tempo']>(song_df['tempo'][0] - 8 ))]"
   ]
  },
  {
   "cell_type": "markdown",
   "id": "b90b0399-c277-4ce5-8c52-ecc33599af1b",
   "metadata": {},
   "source": [
    "## Select random song from filtered dataframe"
   ]
  },
  {
   "cell_type": "code",
   "execution_count": 21,
   "id": "25d4db8b-413a-4d9e-aa59-cfc5c967049d",
   "metadata": {},
   "outputs": [],
   "source": [
    "song_suggest =  song_suggest_cluster.sample()\n",
    "song_suggest_TrackID = song_suggest['TrackID'].iloc[0]"
   ]
  },
  {
   "cell_type": "code",
   "execution_count": 22,
   "id": "bbd79a1c-a6d2-4f77-836d-74c51c14482c",
   "metadata": {},
   "outputs": [
    {
     "data": {
      "text/plain": [
       "'0e3yhVeNaTfKIWQRw9U9sY'"
      ]
     },
     "execution_count": 22,
     "metadata": {},
     "output_type": "execute_result"
    }
   ],
   "source": [
    "song_suggest_TrackID"
   ]
  },
  {
   "cell_type": "markdown",
   "id": "704864f2-b7be-4333-856c-bccdc2108cf4",
   "metadata": {},
   "source": [
    "## Comparing songs"
   ]
  },
  {
   "cell_type": "code",
   "execution_count": 23,
   "id": "8f29fe56-37b0-4599-b590-8baed41fe88d",
   "metadata": {},
   "outputs": [
    {
     "data": {
      "text/html": [
       "<div>\n",
       "<style scoped>\n",
       "    .dataframe tbody tr th:only-of-type {\n",
       "        vertical-align: middle;\n",
       "    }\n",
       "\n",
       "    .dataframe tbody tr th {\n",
       "        vertical-align: top;\n",
       "    }\n",
       "\n",
       "    .dataframe thead th {\n",
       "        text-align: right;\n",
       "    }\n",
       "</style>\n",
       "<table border=\"1\" class=\"dataframe\">\n",
       "  <thead>\n",
       "    <tr style=\"text-align: right;\">\n",
       "      <th></th>\n",
       "      <th>TrackName</th>\n",
       "      <th>TrackID</th>\n",
       "      <th>SampleURL</th>\n",
       "      <th>ReleaseYear</th>\n",
       "      <th>danceability</th>\n",
       "      <th>energy</th>\n",
       "      <th>loudness</th>\n",
       "      <th>speechiness</th>\n",
       "      <th>acousticness</th>\n",
       "    </tr>\n",
       "  </thead>\n",
       "  <tbody>\n",
       "    <tr>\n",
       "      <th>0</th>\n",
       "      <td>Woman</td>\n",
       "      <td>6Uj1ctrBOjOas8xZXGqKk4</td>\n",
       "      <td>https://open.spotify.com/track/6Uj1ctrBOjOas8x...</td>\n",
       "      <td>2021-06-25</td>\n",
       "      <td>0.824</td>\n",
       "      <td>0.764</td>\n",
       "      <td>-4.175</td>\n",
       "      <td>0.0854</td>\n",
       "      <td>0.0888</td>\n",
       "    </tr>\n",
       "    <tr>\n",
       "      <th>30</th>\n",
       "      <td>Sacrifice</td>\n",
       "      <td>0e3yhVeNaTfKIWQRw9U9sY</td>\n",
       "      <td>https://p.scdn.co/mp3-preview/78a65b01e8e577c3...</td>\n",
       "      <td>1989-08-29</td>\n",
       "      <td>0.756</td>\n",
       "      <td>0.422</td>\n",
       "      <td>-12.967</td>\n",
       "      <td>0.0292</td>\n",
       "      <td>0.0165</td>\n",
       "    </tr>\n",
       "  </tbody>\n",
       "</table>\n",
       "</div>"
      ],
      "text/plain": [
       "    TrackName                 TrackID  \\\n",
       "0       Woman  6Uj1ctrBOjOas8xZXGqKk4   \n",
       "30  Sacrifice  0e3yhVeNaTfKIWQRw9U9sY   \n",
       "\n",
       "                                            SampleURL ReleaseYear  \\\n",
       "0   https://open.spotify.com/track/6Uj1ctrBOjOas8x...  2021-06-25   \n",
       "30  https://p.scdn.co/mp3-preview/78a65b01e8e577c3...  1989-08-29   \n",
       "\n",
       "   danceability energy loudness speechiness acousticness  \n",
       "0         0.824  0.764   -4.175      0.0854       0.0888  \n",
       "30        0.756  0.422  -12.967      0.0292       0.0165  "
      ]
     },
     "execution_count": 23,
     "metadata": {},
     "output_type": "execute_result"
    }
   ],
   "source": [
    "df_compair = pd.concat([song_df, song_suggest], axis=0)\n",
    "df_compair.iloc[:,0:9]"
   ]
  },
  {
   "cell_type": "code",
   "execution_count": 24,
   "id": "0ce6ae37-7656-4fb9-8cd6-f7588b7a47a0",
   "metadata": {},
   "outputs": [
    {
     "data": {
      "text/html": [
       "<div>\n",
       "<style scoped>\n",
       "    .dataframe tbody tr th:only-of-type {\n",
       "        vertical-align: middle;\n",
       "    }\n",
       "\n",
       "    .dataframe tbody tr th {\n",
       "        vertical-align: top;\n",
       "    }\n",
       "\n",
       "    .dataframe thead th {\n",
       "        text-align: right;\n",
       "    }\n",
       "</style>\n",
       "<table border=\"1\" class=\"dataframe\">\n",
       "  <thead>\n",
       "    <tr style=\"text-align: right;\">\n",
       "      <th></th>\n",
       "      <th>liveness</th>\n",
       "      <th>valence</th>\n",
       "      <th>tempo</th>\n",
       "      <th>key</th>\n",
       "      <th>mode</th>\n",
       "      <th>duration_ms</th>\n",
       "      <th>Popularity</th>\n",
       "      <th>Year</th>\n",
       "      <th>label</th>\n",
       "    </tr>\n",
       "  </thead>\n",
       "  <tbody>\n",
       "    <tr>\n",
       "      <th>0</th>\n",
       "      <td>0.117</td>\n",
       "      <td>0.881</td>\n",
       "      <td>107.998</td>\n",
       "      <td>5</td>\n",
       "      <td>0</td>\n",
       "      <td>172627</td>\n",
       "      <td>91</td>\n",
       "      <td>2021</td>\n",
       "      <td>0</td>\n",
       "    </tr>\n",
       "    <tr>\n",
       "      <th>30</th>\n",
       "      <td>0.0368</td>\n",
       "      <td>0.487</td>\n",
       "      <td>112.751</td>\n",
       "      <td>11</td>\n",
       "      <td>0</td>\n",
       "      <td>304133</td>\n",
       "      <td>71.0</td>\n",
       "      <td>1989.0</td>\n",
       "      <td>0</td>\n",
       "    </tr>\n",
       "  </tbody>\n",
       "</table>\n",
       "</div>"
      ],
      "text/plain": [
       "   liveness valence    tempo key mode duration_ms Popularity    Year label\n",
       "0     0.117   0.881  107.998   5    0      172627         91    2021     0\n",
       "30   0.0368   0.487  112.751  11    0      304133       71.0  1989.0     0"
      ]
     },
     "execution_count": 24,
     "metadata": {},
     "output_type": "execute_result"
    }
   ],
   "source": [
    "df_compair.iloc[:,10:19]"
   ]
  },
  {
   "cell_type": "code",
   "execution_count": 25,
   "id": "038e3d56-53bc-44a3-bb14-2c0949b77936",
   "metadata": {},
   "outputs": [
    {
     "name": "stdout",
     "output_type": "stream",
     "text": [
      "This is your recommendation:\n"
     ]
    },
    {
     "data": {
      "text/html": [
       "\n",
       "        <iframe\n",
       "            width=\"320\"\n",
       "            height=\"80\"\n",
       "            src=\"https://open.spotify.com/embed/track/6Uj1ctrBOjOas8xZXGqKk4?frameborder=0&allowtransparency=true&allow=encrypted-media\"\n",
       "            frameborder=\"0\"\n",
       "            allowfullscreen\n",
       "            \n",
       "        ></iframe>\n",
       "        "
      ],
      "text/plain": [
       "<IPython.lib.display.IFrame at 0x2a40f3489a0>"
      ]
     },
     "execution_count": 25,
     "metadata": {},
     "output_type": "execute_result"
    }
   ],
   "source": [
    "player_user_choice = showID_in_player(song_df.loc[0, 'TrackID'])\n",
    "print(f'This is your recommendation:')\n",
    "player_user_choice"
   ]
  },
  {
   "cell_type": "code",
   "execution_count": 26,
   "id": "5eb892ca-46c7-4240-b6b5-f2763209006a",
   "metadata": {},
   "outputs": [
    {
     "name": "stdout",
     "output_type": "stream",
     "text": [
      "This is your recommendation:\n"
     ]
    },
    {
     "data": {
      "text/html": [
       "\n",
       "        <iframe\n",
       "            width=\"320\"\n",
       "            height=\"80\"\n",
       "            src=\"https://open.spotify.com/embed/track/0e3yhVeNaTfKIWQRw9U9sY?frameborder=0&allowtransparency=true&allow=encrypted-media\"\n",
       "            frameborder=\"0\"\n",
       "            allowfullscreen\n",
       "            \n",
       "        ></iframe>\n",
       "        "
      ],
      "text/plain": [
       "<IPython.lib.display.IFrame at 0x2a40f353070>"
      ]
     },
     "execution_count": 26,
     "metadata": {},
     "output_type": "execute_result"
    }
   ],
   "source": [
    "player_recommendation = showID_in_player(song_suggest_TrackID)\n",
    "print(f'This is your recommendation:')\n",
    "player_recommendation\n"
   ]
  },
  {
   "cell_type": "markdown",
   "id": "a1156619-2ba7-4b91-83cb-3329649dc480",
   "metadata": {},
   "source": [
    "## Further Steps to implement:\n",
    "### 1 Create playlist/put song into user playlist\n",
    "    - Did you like the song/did the song fit? \n",
    "        if yes -> select playlist and save it\n",
    "        else -> (remove song from cluster?)\n",
    "                recommend new song\n",
    "### 2 Audio analysis, graphical representation of songs/clusters\n",
    "### 3 Implement loops in order to not start from the beginning everytime\n",
    "### 4 Scrape billboard: Only scrape the weeklycharts that do not yet exist in the data base\n",
    "\n",
    "### 5 GUI\n",
    "\n",
    "### 6 Get audio features of the Top 100 (+10weeks) in order to be able to cluster them and give a simmilar song recommendation of songs that are currently in the charts"
   ]
  },
  {
   "cell_type": "code",
   "execution_count": null,
   "id": "8f3c7658-4020-4b16-b384-040bf0f5be40",
   "metadata": {},
   "outputs": [],
   "source": []
  }
 ],
 "metadata": {
  "kernelspec": {
   "display_name": "Python 3 (ipykernel)",
   "language": "python",
   "name": "python3"
  },
  "language_info": {
   "codemirror_mode": {
    "name": "ipython",
    "version": 3
   },
   "file_extension": ".py",
   "mimetype": "text/x-python",
   "name": "python",
   "nbconvert_exporter": "python",
   "pygments_lexer": "ipython3",
   "version": "3.9.7"
  }
 },
 "nbformat": 4,
 "nbformat_minor": 5
}
