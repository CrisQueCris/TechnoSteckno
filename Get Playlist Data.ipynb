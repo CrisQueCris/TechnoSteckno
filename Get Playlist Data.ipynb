{
 "cells": [
  {
   "cell_type": "code",
   "execution_count": 1,
   "id": "da45c4ef-89a3-47f3-9cc4-3f2b73f7854b",
   "metadata": {},
   "outputs": [],
   "source": [
    "import GSA\n",
    "import pandas as pd"
   ]
  },
  {
   "cell_type": "code",
   "execution_count": 2,
   "id": "8037db97-a1d9-46a8-9c61-5ed01262bae1",
   "metadata": {},
   "outputs": [],
   "source": [
    "GSA.authenticate()"
   ]
  },
  {
   "cell_type": "code",
   "execution_count": 3,
   "id": "d9c2d7e2-f1f4-4395-9f94-222cf6344b3a",
   "metadata": {},
   "outputs": [],
   "source": [
    "keywords= ['LGBTQ', 'Pride Classics', 'Funk', 'Trending', 'K-Pop', 'World', 'Ramadan', 'Arabisch', 'Trendsetter', 'Salsa', 'Country', 'Indian', 'Russia', 'Songwriter', 'Disney', 'Children', 'Africa Dance', 'Berlin', 'London', 'New York', 'Rio de Janeiro', 'Soul',\n",
    "           'Cuba', 'China', 'Japan'] "
   ]
  },
  {
   "cell_type": "code",
   "execution_count": 4,
   "id": "c0a672e3-35c8-4782-8960-0f170e0a6235",
   "metadata": {},
   "outputs": [],
   "source": [
    "\n",
    "\n",
    "thisSavename_list = GSA.get_keywords(keywords)\n",
    "\n"
   ]
  },
  {
   "cell_type": "code",
   "execution_count": 5,
   "id": "0f23ae77-41d8-4f7c-9faa-6b3c1bda9a67",
   "metadata": {},
   "outputs": [
    {
     "data": {
      "text/plain": [
       "49"
      ]
     },
     "execution_count": 5,
     "metadata": {},
     "output_type": "execute_result"
    }
   ],
   "source": [
    "len(thisSavename_list)"
   ]
  },
  {
   "cell_type": "code",
   "execution_count": null,
   "id": "87ea240c-c354-4d3d-92a8-da66ba668456",
   "metadata": {},
   "outputs": [],
   "source": []
  }
 ],
 "metadata": {
  "kernelspec": {
   "display_name": "Python 3 (ipykernel)",
   "language": "python",
   "name": "python3"
  },
  "language_info": {
   "codemirror_mode": {
    "name": "ipython",
    "version": 3
   },
   "file_extension": ".py",
   "mimetype": "text/x-python",
   "name": "python",
   "nbconvert_exporter": "python",
   "pygments_lexer": "ipython3",
   "version": "3.10.4"
  }
 },
 "nbformat": 4,
 "nbformat_minor": 5
}
