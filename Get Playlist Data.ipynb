{
 "cells": [
  {
   "cell_type": "code",
   "execution_count": 1,
   "id": "da45c4ef-89a3-47f3-9cc4-3f2b73f7854b",
   "metadata": {},
   "outputs": [],
   "source": [
    "import GSA\n",
    "import pandas as pd"
   ]
  },
  {
   "cell_type": "code",
   "execution_count": null,
   "id": "8037db97-a1d9-46a8-9c61-5ed01262bae1",
   "metadata": {},
   "outputs": [],
   "source": [
    "GSA.authenticate()"
   ]
  },
  {
   "cell_type": "code",
   "execution_count": null,
   "id": "d9c2d7e2-f1f4-4395-9f94-222cf6344b3a",
   "metadata": {},
   "outputs": [],
   "source": [
    "keywords= ['LGBTQ', 'Pride Classics', 'Funk', 'Trending', 'K-Pop', 'World', 'Ramadan', 'Arabisch', 'Trendsetter', 'Salsa', 'Country', 'Indian', 'Russia', 'Songwriter', 'Disney', 'Children', 'Africa Dance', 'Berlin', 'London', 'New York', 'Rio de Janeiro', 'Soul',\n",
    "           'Cuba', 'China', 'Japan'] "
   ]
  },
  {
   "cell_type": "code",
   "execution_count": null,
   "id": "c0a672e3-35c8-4782-8960-0f170e0a6235",
   "metadata": {},
   "outputs": [],
   "source": [
    "def get_keywords(keywords):\n",
    "    for keyword in keywords:\n",
    "        playlistDf = GSA.searchPlaylists(keyword)\n",
    "    #GSA.authenticate()\n",
    "    thisSavename_list = []\n",
    "    for pl_id in playlistDf['playlistID']:\n",
    "        thisSavename = GSA.getInformation(pl_id, verbose=True)\n",
    "        thisSavename_list = thisSavename_list + thisSavename\n",
    "    return thisSavename_df\n",
    "\n",
    "thisSavename_df = get_keywords(keywords)\n",
    "\n"
   ]
  },
  {
   "cell_type": "code",
   "execution_count": null,
   "id": "f2a8e5ed-bd72-467a-b317-fd5b0495b7bc",
   "metadata": {},
   "outputs": [],
   "source": []
  }
 ],
 "metadata": {
  "kernelspec": {
   "display_name": "Python 3 (ipykernel)",
   "language": "python",
   "name": "python3"
  },
  "language_info": {
   "codemirror_mode": {
    "name": "ipython",
    "version": 3
   },
   "file_extension": ".py",
   "mimetype": "text/x-python",
   "name": "python",
   "nbconvert_exporter": "python",
   "pygments_lexer": "ipython3",
   "version": "3.10.4"
  }
 },
 "nbformat": 4,
 "nbformat_minor": 5
}
