{
 "cells": [
  {
   "cell_type": "code",
   "execution_count": 1,
   "id": "9147e27b-6fed-4c1d-bed2-3a6ab7dc4426",
   "metadata": {},
   "outputs": [],
   "source": [
    "from ScrapeLast10weeksBillboard import time_to_scrape\n",
    "from CheckHotNot import load_billboard_csv\n",
    "from CheckHotNot import check_if_hot\n",
    "from CheckHotNot import get_random_hot_song\n",
    "from songrecommender import show_if_hot\n",
    "from songrecommender import get_song_df, showID_in_player\n",
    "from scalingclustering import load_pkl, predict_kmeans\n",
    "import spotipy\n",
    "from spotipy.oauth2 import SpotifyClientCredentials\n",
    "import GSA\n",
    "import config\n",
    "import pandas as pd\n",
    "from IPython.display import IFrame\n",
    "from harmonicneighbours import translate_pc_cam, translate_cam_pc, harmonic_sibblings"
   ]
  },
  {
   "cell_type": "code",
   "execution_count": 2,
   "id": "9e9f0889-f57b-4466-9038-7579ca60c5c0",
   "metadata": {},
   "outputs": [
    {
     "name": "stdin",
     "output_type": "stream",
     "text": [
      "Give me your song title! hallo\n"
     ]
    },
    {
     "name": "stdout",
     "output_type": "stream",
     "text": [
      "No song similar to hallo is hot right now.\n",
      "not hot process\n"
     ]
    },
    {
     "ename": "NameError",
     "evalue": "name 'song_label' is not defined",
     "output_type": "error",
     "traceback": [
      "\u001b[1;31m---------------------------------------------------------------------------\u001b[0m",
      "\u001b[1;31mNameError\u001b[0m                                 Traceback (most recent call last)",
      "Input \u001b[1;32mIn [2]\u001b[0m, in \u001b[0;36m<cell line: 11>\u001b[1;34m()\u001b[0m\n\u001b[0;32m      9\u001b[0m song_df[\u001b[38;5;124m'\u001b[39m\u001b[38;5;124mYear\u001b[39m\u001b[38;5;124m'\u001b[39m] \u001b[38;5;241m=\u001b[39m pd\u001b[38;5;241m.\u001b[39mto_datetime(song_df[\u001b[38;5;124m'\u001b[39m\u001b[38;5;124mReleaseYear\u001b[39m\u001b[38;5;124m'\u001b[39m], \u001b[38;5;28mformat\u001b[39m\u001b[38;5;241m=\u001b[39m\u001b[38;5;124m'\u001b[39m\u001b[38;5;124m%\u001b[39m\u001b[38;5;124mY-\u001b[39m\u001b[38;5;124m%\u001b[39m\u001b[38;5;124mm-\u001b[39m\u001b[38;5;132;01m%d\u001b[39;00m\u001b[38;5;124m'\u001b[39m)\n\u001b[0;32m     10\u001b[0m song_df[\u001b[38;5;124m'\u001b[39m\u001b[38;5;124mYear\u001b[39m\u001b[38;5;124m'\u001b[39m] \u001b[38;5;241m=\u001b[39m pd\u001b[38;5;241m.\u001b[39mDatetimeIndex(song_df[\u001b[38;5;124m'\u001b[39m\u001b[38;5;124mYear\u001b[39m\u001b[38;5;124m'\u001b[39m])\u001b[38;5;241m.\u001b[39myear\n\u001b[1;32m---> 11\u001b[0m song_df[\u001b[38;5;124m'\u001b[39m\u001b[38;5;124mlabel\u001b[39m\u001b[38;5;124m'\u001b[39m] \u001b[38;5;241m=\u001b[39m \u001b[43msong_label\u001b[49m\n\u001b[0;32m     12\u001b[0m song_key \u001b[38;5;241m=\u001b[39m song_df[\u001b[38;5;124m'\u001b[39m\u001b[38;5;124mkey\u001b[39m\u001b[38;5;124m'\u001b[39m]\u001b[38;5;241m.\u001b[39miloc[\u001b[38;5;241m0\u001b[39m]\n\u001b[0;32m     13\u001b[0m song_mode \u001b[38;5;241m=\u001b[39m song_df[\u001b[38;5;124m'\u001b[39m\u001b[38;5;124mmode\u001b[39m\u001b[38;5;124m'\u001b[39m]\u001b[38;5;241m.\u001b[39miloc[\u001b[38;5;241m0\u001b[39m]\n",
      "\u001b[1;31mNameError\u001b[0m: name 'song_label' is not defined"
     ]
    }
   ],
   "source": [
    "result, user_input =  check_if_hot()\n",
    "song_df = show_if_hot(result, user_input['title'])\n",
    "song_df\n",
    "scaler = load_pkl(filename='model/scalerKmeans.pickle')\n",
    "kmeans = load_pkl(filename = 'model/modelKmeans.pickle')\n",
    "X = load_pkl(filename=  'model/X.pickle')\n",
    "X_scaled_df = load_pkl(filename ='model/X_scaled_df')\n",
    "sp_library = load_pkl(filename ='model/sp_library.pickle')\n",
    "song_df['Year'] = pd.to_datetime(song_df['ReleaseYear'], format='%Y-%m-%d')\n",
    "song_df['Year'] = pd.DatetimeIndex(song_df['Year']).year\n",
    "song_df['label'] = song_label\n",
    "song_key = song_df['key'].iloc[0]\n",
    "song_mode = song_df['mode'].iloc[0]\n",
    "song_key, song_mode\n",
    "key_cam = translate_pc_cam(song_key, song_mode)\n",
    "#key_cam = key_cam[0]\n",
    "neighbours = harmonic_sibblings(key_cam)\n",
    "pos_key_modes = [translate_cam_pc(neighbour) for neighbour in neighbours]\n",
    "song_suggest_cluster = sp_library[sp_library['label']==song_df['label'][0]]\n",
    "song_suggest =  song_suggest_cluster.sample()\n",
    "song_suggest_TrackID = song_suggest['TrackID'].iloc[0]\n",
    "df_compair = pd.concat([song_df, song_suggest], axis=0)\n",
    "df_compair.iloc[:,0:9]\n",
    "player_user_choice = showID_in_player(song_df.loc[0, 'TrackID'])\n",
    "print(f'This is your recommendation:')\n",
    "player_user_choice\n",
    "player_recommendation = showID_in_player(song_suggest_TrackID)\n",
    "print(f'This is your recommendation:')\n",
    "player_recommendation"
   ]
  },
  {
   "cell_type": "code",
   "execution_count": null,
   "id": "e4a1f8d4-7ae8-45d3-a3f5-1f8e884e3f55",
   "metadata": {},
   "outputs": [],
   "source": []
  }
 ],
 "metadata": {
  "kernelspec": {
   "display_name": "Python 3 (ipykernel)",
   "language": "python",
   "name": "python3"
  },
  "language_info": {
   "codemirror_mode": {
    "name": "ipython",
    "version": 3
   },
   "file_extension": ".py",
   "mimetype": "text/x-python",
   "name": "python",
   "nbconvert_exporter": "python",
   "pygments_lexer": "ipython3",
   "version": "3.9.7"
  }
 },
 "nbformat": 4,
 "nbformat_minor": 5
}
