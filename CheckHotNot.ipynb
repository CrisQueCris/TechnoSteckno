{
 "cells": [
  {
   "cell_type": "code",
   "execution_count": 55,
   "id": "aeff4f44-a662-488c-9cc2-2b7c9fe689e5",
   "metadata": {},
   "outputs": [],
   "source": [
    "import pandas as pd\n",
    "import os\n",
    "from datetime import datetime\n",
    "from difflib import get_close_matches"
   ]
  },
  {
   "cell_type": "code",
   "execution_count": 56,
   "id": "d8e7591d-6062-4f8c-a288-ee5101c6af09",
   "metadata": {},
   "outputs": [],
   "source": [
    "def load_billboard_csv():\n",
    "    #Load billboard top 100\n",
    "    billboard_files = os.listdir(\"billboard\") \n",
    "    billboard10 = pd.DataFrame()\n",
    "\n",
    "    for i in billboard_files: \n",
    "        if i.endswith('.csv'):\n",
    "            df = pd.read_csv('billboard/'+i)\n",
    "            billboard10 = pd.concat([billboard10, df], axis=0)\n",
    "    return billboard10"
   ]
  },
  {
   "cell_type": "code",
   "execution_count": 57,
   "id": "7cee2ad2-30f2-46b3-83d1-889cdcd12f70",
   "metadata": {},
   "outputs": [],
   "source": [
    "def get_iso_week():\n",
    "    # Get current week to only compare with current Top 100\n",
    "    iso_week = datetime.now().isocalendar().week\n",
    "    return iso_week"
   ]
  },
  {
   "cell_type": "code",
   "execution_count": 58,
   "id": "dc3c1279-ca16-4353-be13-aa51b59c6ea4",
   "metadata": {},
   "outputs": [],
   "source": [
    "def check_if_hot():\n",
    "    #Get song input from user\n",
    "    load_billboard_csv()\n",
    "    get_iso_week()\n",
    "    user_check = False\n",
    "    while user_check == False:\n",
    "        user_input={}\n",
    "        user_input['title']= input('Give me your song title!')    \n",
    "\n",
    "        #Check if song title is in billboard10\n",
    "        result={}\n",
    "        result['title'] = get_close_matches(user_input['title'], billboard10[(billboard10['week_nr'] == (iso_week-1))]['title'], n=1)\n",
    "        if result['title']==[]:\n",
    "            print(f\"No song similar to {user_input['title']} is hot right now.\")\n",
    "            break              \n",
    "        result['title']=result['title'][0]    \n",
    "        result['artist'] = billboard10[(billboard10['week_nr'] == (iso_week-1))\\\n",
    "                                       & (billboard10['title'] == result['title'])]['interpret'].to_string(index=False)\n",
    "\n",
    "        result['pos'] = billboard10[(billboard10['week_nr'] == (iso_week-1))\\\n",
    "                                    & (billboard10['title'] == result['title'])]['position'].to_string(index=False)\n",
    "\n",
    "        user_check = input(f\"\"\"Is it \\\"{result['title']}\\\" by {result['artist']}\n",
    "        that you're looking for?\\n\\n It is currently on number {result['pos']} (Y/N)\"\"\")\n",
    "        if user_check in ['Y','y','yes']:\n",
    "            user_check = True\n",
    "            hot_var=True\n",
    "\n",
    "        elif user_check in ['N','n','no']:\n",
    "            user_check = False\n",
    "            hot_var=True\n",
    "        else: \n",
    "            print('Input not readable. Please enter Y or N.')\n",
    "    if user_check == True:\n",
    "        print(f'This song is hot right now!') \n",
    "    return result"
   ]
  },
  {
   "cell_type": "code",
   "execution_count": 59,
   "id": "16008c75-0044-49bb-93b7-437efe6ab314",
   "metadata": {},
   "outputs": [
    {
     "name": "stdin",
     "output_type": "stream",
     "text": [
      "Give me your song title! baby\n"
     ]
    },
    {
     "name": "stdout",
     "output_type": "stream",
     "text": [
      "No song similar to baby is hot right now.\n"
     ]
    },
    {
     "data": {
      "text/plain": [
       "{'title': []}"
      ]
     },
     "execution_count": 59,
     "metadata": {},
     "output_type": "execute_result"
    }
   ],
   "source": [
    "check_if_hot()"
   ]
  }
 ],
 "metadata": {
  "kernelspec": {
   "display_name": "Python 3 (ipykernel)",
   "language": "python",
   "name": "python3"
  },
  "language_info": {
   "codemirror_mode": {
    "name": "ipython",
    "version": 3
   },
   "file_extension": ".py",
   "mimetype": "text/x-python",
   "name": "python",
   "nbconvert_exporter": "python",
   "pygments_lexer": "ipython3",
   "version": "3.9.7"
  }
 },
 "nbformat": 4,
 "nbformat_minor": 5
}
