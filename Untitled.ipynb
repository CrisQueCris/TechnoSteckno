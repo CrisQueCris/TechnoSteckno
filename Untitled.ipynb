{
 "cells": [
  {
   "cell_type": "code",
   "execution_count": 25,
   "id": "14532892-7dae-4693-aa40-2ea170b51a82",
   "metadata": {},
   "outputs": [],
   "source": [
    "import tkinter as tk\n",
    "from CheckHotNot import check_if_hot\n",
    "window = tk.Tk()\n",
    "\n",
    "label_start = tk.Label(text=\"\"\"HOOOOT??\\n\n",
    "or\\n\n",
    "NOOOOT?\"\"\", background = 'white')\n",
    "\n",
    "label_start.pack()\n",
    "label_song = tk.Label(text=\"Find your song:\", width = 50)\n",
    "label_song.pack()\n",
    "entry_songselect = tk.Entry(width = 50)\n",
    "entry_songselect.pack()\n",
    "\n",
    "button_enter = tk.Button(text=\"Enter song\", width = 25, height=5)\n",
    "user_input = {}\n",
    "user_input['title'] = entry_songselect.get()\n",
    "label_user_input = tk.Label(text=user_input['title'])\n",
    "label_user_input.pack()\n",
    "button_enter = tk.Button(text=\"Enter song\", width = 25, height=5)\n",
    "button_yes = tk.Button(text=\"This is my song!\", width = 25, height = 5)\n",
    "button_no = tk.Button(text=\"Wrong!\", width = 25, height = 5)\n",
    "\n",
    "window.mainloop()\n",
    "\n",
    "\n",
    "\n",
    "\n"
   ]
  }
 ],
 "metadata": {
  "kernelspec": {
   "display_name": "Python 3 (ipykernel)",
   "language": "python",
   "name": "python3"
  },
  "language_info": {
   "codemirror_mode": {
    "name": "ipython",
    "version": 3
   },
   "file_extension": ".py",
   "mimetype": "text/x-python",
   "name": "python",
   "nbconvert_exporter": "python",
   "pygments_lexer": "ipython3",
   "version": "3.9.7"
  }
 },
 "nbformat": 4,
 "nbformat_minor": 5
}
