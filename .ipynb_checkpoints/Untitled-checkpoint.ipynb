{
 "cells": [
  {
   "cell_type": "code",
   "execution_count": null,
   "id": "14532892-7dae-4693-aa40-2ea170b51a82",
   "metadata": {},
   "outputs": [],
   "source": [
    "import tkinter as tk\n",
    "window = tk.Tk()\n",
    "\n",
    "label_start = tk.Label(text=\"\"\"HOOOOT??\\n\n",
    "or\\n\n",
    "NOOOOT?\"\"\")\n",
    "\n",
    "label_start.pack()\n",
    "label_song = tk.Label(text=\"Find your song:\")\n",
    "entry_songselect = tk.Entry()\n",
    "\n",
    "\n",
    "\n",
    "window.mainloop()\n",
    "\n",
    "\n",
    "\n",
    "\n"
   ]
  }
 ],
 "metadata": {
  "kernelspec": {
   "display_name": "Python 3 (ipykernel)",
   "language": "python",
   "name": "python3"
  },
  "language_info": {
   "codemirror_mode": {
    "name": "ipython",
    "version": 3
   },
   "file_extension": ".py",
   "mimetype": "text/x-python",
   "name": "python",
   "nbconvert_exporter": "python",
   "pygments_lexer": "ipython3",
   "version": "3.9.7"
  }
 },
 "nbformat": 4,
 "nbformat_minor": 5
}
