{
 "cells": [
  {
   "cell_type": "code",
   "execution_count": 7,
   "id": "e5fabe3b-de5c-4908-a8fb-b5ba56be88e1",
   "metadata": {},
   "outputs": [],
   "source": [
    "import spotipy\n",
    "from spotipy.oauth2 import SpotifyClientCredentials\n",
    "import config\n",
    "import pandas as pd\n",
    "from time import sleep\n",
    "from random import randint\n",
    "\n",
    "import spotifyscrape\n",
    "from spotifyscrape import get_tracklist\n",
    "from spotifyscrape import get_df_out"
   ]
  },
  {
   "cell_type": "code",
   "execution_count": 25,
   "id": "485837e3-9a23-4291-9ac0-25ed872a8e43",
   "metadata": {},
   "outputs": [],
   "source": [
    "sp = spotipy.Spotify(auth_manager=SpotifyClientCredentials(client_id=config.client_id, client_secret=config.client_secret))"
   ]
  },
  {
   "cell_type": "code",
   "execution_count": null,
   "id": "e312e23c-83cd-45c0-a7be-838ca94c6262",
   "metadata": {},
   "outputs": [
    {
     "ename": "TypeError",
     "evalue": "search_markets() missing 1 required positional argument: 'q'",
     "output_type": "error",
     "traceback": [
      "\u001b[1;31m---------------------------------------------------------------------------\u001b[0m",
      "\u001b[1;31mTypeError\u001b[0m                                 Traceback (most recent call last)",
      "Input \u001b[1;32mIn [24]\u001b[0m, in \u001b[0;36m<cell line: 1>\u001b[1;34m()\u001b[0m\n\u001b[1;32m----> 1\u001b[0m \u001b[43msp\u001b[49m\u001b[38;5;241;43m.\u001b[39;49m\u001b[43msearch_markets\u001b[49m\u001b[43m(\u001b[49m\u001b[43m)\u001b[49m\n",
      "\u001b[1;31mTypeError\u001b[0m: search_markets() missing 1 required positional argument: 'q'"
     ]
    }
   ],
   "source": [
    "sp.search_markets()\n"
   ]
  },
  {
   "cell_type": "markdown",
   "id": "84a5b6bc-4bb2-49a8-bebf-a63e4d42bd03",
   "metadata": {},
   "source": [
    "## Approach:\n",
    "\n",
    "The app should have the capability to chose from different genres. \n",
    "Therefor we will scrape spotify playlists that are categorised in certain genres (eg. \"TechnoBunker\") and add the name of the playlist to the dataframe as a column called 'genre'.\n",
    "\n",
    "Hopefully the knn algorthym will be able to categorise the songs according to the playlist name. "
   ]
  },
  {
   "cell_type": "code",
   "execution_count": 6,
   "id": "c3f48c47-3930-4a88-b72f-597d00086b8d",
   "metadata": {},
   "outputs": [],
   "source": [
    "pl_dict = {'pl_technobunker': '37i9dQZF1DX6J5NfMJS675',\n",
    "'pl_HipHopMixtape': '37i9dQZF1DWVdgXTbYm2r0',\n",
    "'pl_TopSongsGlobal': '37i9dQZEVXbNG2KDcFcKOF',\n",
    "'pl_OffPop': '37i9dQZF1DX07Bg0Q5GozA',\n",
    "'pl_FeelgoodIndie': '37i9dQZF1DWWM6GBnxtToT',\n",
    "'pl_IndieKlassiker':'37i9dQZF1DWYJeWl6ior4d',\n",
    "'pl_ElectronicRising': '37i9dQZF1DX8AliSIsGeKd',\n",
    "'pl_DanceHits': '37i9dQZF1DX0BcQWzuB7ZO',\n",
    "'pl_ChillTracks' : '37i9dQZF1DX6VdMW310YC7',\n",
    "'pl_DanceCover' : '37i9dQZF1DX1OxnjWYRVU0',\n",
    "'pl_HappyBeats' : '37i9dQZF1DWSf2RDTDayIx',\n",
    "'pl_PsytranceSupernova' : '37i9dQZF1DWXWbLEOaHnU3',\n",
    "'pl_TranceClassics': '37i9dQZF1DXbtYAdenGE9U',\n",
    "'pl_MassiveDrumNBass': '37i9dQZF1DX5wDmLW735Yd',\n",
    "'pl_melancholia': '37i9dQZF1DX6ApTpuYN5Gl',\n",
    "'pl_Wochenende': '37i9dQZF1DX5wcoyvtNnP4',\n",
    "'pl_NightRider': '37i9dQZF1DX6GJXiuZRisr',\n",
    "'pl_ClubDanceReunion' : '37i9dQZF1DWYtsMR1ehsyI',\n",
    "'pl_BassArcade': '37i9dQZF1DX0hvSv9Rf41p'}"
   ]
  },
  {
   "cell_type": "code",
   "execution_count": 11,
   "id": "329f8c3e-9499-4301-95d5-ee157c1bcbee",
   "metadata": {},
   "outputs": [
    {
     "name": "stdout",
     "output_type": "stream",
     "text": [
      "56pKxbJR1QFD8fmcqNI4R5\n",
      "114y6mYBzuec5xUBUZ56lg\n",
      "1V4MDKVNR2avtDLytqbvTh\n",
      "0W1jh3ExLv0nMvvmNJOBxh\n",
      "3xLrmOAz2nCTlWLt2cutMu\n"
     ]
    }
   ],
   "source": [
    "track_id_dict = {}\n",
    "for key, value in pl_dict.items():\n",
    "    track_id_dict[key] = get_tracklist(value, sp)"
   ]
  },
  {
   "cell_type": "code",
   "execution_count": 33,
   "id": "60374daf-7b23-407a-baf7-8ad111778252",
   "metadata": {},
   "outputs": [
    {
     "name": "stdout",
     "output_type": "stream",
     "text": [
      "                        id                                               name  \\\n",
      "0   56pKxbJR1QFD8fmcqNI4R5                                            Pattern   \n",
      "0   4BmPTpXnae3IwwXAcK0byT                  Matter of Time (feat. Alex Maher)   \n",
      "0   5ag0L0xkUGJrkXmalqOfho                                            Breathe   \n",
      "0   0IwnyVENCHeAnSPA8xcG14                                           Too Weak   \n",
      "0   7ySh518m4iC0CbOevgSwiq                                       Never Enough   \n",
      "..                     ...                                                ...   \n",
      "0   6WObvqFvHHiz24Vnbn8aXc                                             Limits   \n",
      "0   6r0Qbwh8LySYwjbMm1LXzb                                                Run   \n",
      "0   2R3GqU7JBAscpMIjFL3uzC  Brazilian Soul (feat. Sofi Tukker) - Gilligan ...   \n",
      "0   5fGzPMN2xj7vU01qcJOFRy                   Chains Chilled (with Project 46)   \n",
      "0   3RPrtaRukLoAulq4dpI1nA                                               Rain   \n",
      "\n",
      "   popularity  \n",
      "0          55  \n",
      "0          62  \n",
      "0          48  \n",
      "0          47  \n",
      "0          53  \n",
      "..        ...  \n",
      "0          40  \n",
      "0          43  \n",
      "0          47  \n",
      "0          47  \n",
      "0          42  \n",
      "\n",
      "[100 rows x 3 columns]\n"
     ]
    },
    {
     "ename": "KeyError",
     "evalue": "0",
     "output_type": "error",
     "traceback": [
      "\u001b[1;31m---------------------------------------------------------------------------\u001b[0m",
      "\u001b[1;31mKeyError\u001b[0m                                  Traceback (most recent call last)",
      "File \u001b[1;32m~\\anaconda3\\envs\\DA_Env\\lib\\site-packages\\pandas\\core\\indexes\\base.py:3621\u001b[0m, in \u001b[0;36mIndex.get_loc\u001b[1;34m(self, key, method, tolerance)\u001b[0m\n\u001b[0;32m   3620\u001b[0m \u001b[38;5;28;01mtry\u001b[39;00m:\n\u001b[1;32m-> 3621\u001b[0m     \u001b[38;5;28;01mreturn\u001b[39;00m \u001b[38;5;28;43mself\u001b[39;49m\u001b[38;5;241;43m.\u001b[39;49m\u001b[43m_engine\u001b[49m\u001b[38;5;241;43m.\u001b[39;49m\u001b[43mget_loc\u001b[49m\u001b[43m(\u001b[49m\u001b[43mcasted_key\u001b[49m\u001b[43m)\u001b[49m\n\u001b[0;32m   3622\u001b[0m \u001b[38;5;28;01mexcept\u001b[39;00m \u001b[38;5;167;01mKeyError\u001b[39;00m \u001b[38;5;28;01mas\u001b[39;00m err:\n",
      "File \u001b[1;32m~\\anaconda3\\envs\\DA_Env\\lib\\site-packages\\pandas\\_libs\\index.pyx:136\u001b[0m, in \u001b[0;36mpandas._libs.index.IndexEngine.get_loc\u001b[1;34m()\u001b[0m\n",
      "File \u001b[1;32m~\\anaconda3\\envs\\DA_Env\\lib\\site-packages\\pandas\\_libs\\index.pyx:163\u001b[0m, in \u001b[0;36mpandas._libs.index.IndexEngine.get_loc\u001b[1;34m()\u001b[0m\n",
      "File \u001b[1;32mpandas\\_libs\\hashtable_class_helper.pxi:5198\u001b[0m, in \u001b[0;36mpandas._libs.hashtable.PyObjectHashTable.get_item\u001b[1;34m()\u001b[0m\n",
      "File \u001b[1;32mpandas\\_libs\\hashtable_class_helper.pxi:5206\u001b[0m, in \u001b[0;36mpandas._libs.hashtable.PyObjectHashTable.get_item\u001b[1;34m()\u001b[0m\n",
      "\u001b[1;31mKeyError\u001b[0m: 0",
      "\nThe above exception was the direct cause of the following exception:\n",
      "\u001b[1;31mKeyError\u001b[0m                                  Traceback (most recent call last)",
      "Input \u001b[1;32mIn [33]\u001b[0m, in \u001b[0;36m<cell line: 4>\u001b[1;34m()\u001b[0m\n\u001b[0;32m      4\u001b[0m \u001b[38;5;28;01mfor\u001b[39;00m key, value \u001b[38;5;129;01min\u001b[39;00m track_id_dict\u001b[38;5;241m.\u001b[39mitems(): \n\u001b[0;32m      5\u001b[0m     \u001b[38;5;28mprint\u001b[39m(value)\n\u001b[1;32m----> 6\u001b[0m     track_id_dict[key] \u001b[38;5;241m=\u001b[39m \u001b[43mget_df_out\u001b[49m\u001b[43m(\u001b[49m\u001b[43mvalue\u001b[49m\u001b[43m)\u001b[49m\n",
      "File \u001b[1;32m~\\Documents\\GitHub\\TechnoSteckno\\spotifyscrape.py:32\u001b[0m, in \u001b[0;36mget_df_out\u001b[1;34m(track_id_list)\u001b[0m\n\u001b[0;32m     30\u001b[0m \u001b[38;5;28;01mdef\u001b[39;00m \u001b[38;5;21mget_df_out\u001b[39m(track_id_list):\n\u001b[0;32m     31\u001b[0m     \u001b[38;5;124;03m\"\"\"returns dataframe from list of list of dictionaries\"\"\"\u001b[39;00m\n\u001b[1;32m---> 32\u001b[0m     df_out \u001b[38;5;241m=\u001b[39m pd\u001b[38;5;241m.\u001b[39mDataFrame(columns\u001b[38;5;241m=\u001b[39m\u001b[43mtrack_id_list\u001b[49m\u001b[43m[\u001b[49m\u001b[38;5;241;43m0\u001b[39;49m\u001b[43m]\u001b[49m[\u001b[38;5;241m0\u001b[39m]\u001b[38;5;241m.\u001b[39mkeys())\n\u001b[0;32m     33\u001b[0m     \u001b[38;5;28;01mfor\u001b[39;00m item_list \u001b[38;5;129;01min\u001b[39;00m track_id_list:\n\u001b[0;32m     34\u001b[0m         df_in \u001b[38;5;241m=\u001b[39m pd\u001b[38;5;241m.\u001b[39mDataFrame(columns\u001b[38;5;241m=\u001b[39mtrack_id_list[\u001b[38;5;241m0\u001b[39m][\u001b[38;5;241m0\u001b[39m]\u001b[38;5;241m.\u001b[39mkeys())\n",
      "File \u001b[1;32m~\\anaconda3\\envs\\DA_Env\\lib\\site-packages\\pandas\\core\\frame.py:3505\u001b[0m, in \u001b[0;36mDataFrame.__getitem__\u001b[1;34m(self, key)\u001b[0m\n\u001b[0;32m   3503\u001b[0m \u001b[38;5;28;01mif\u001b[39;00m \u001b[38;5;28mself\u001b[39m\u001b[38;5;241m.\u001b[39mcolumns\u001b[38;5;241m.\u001b[39mnlevels \u001b[38;5;241m>\u001b[39m \u001b[38;5;241m1\u001b[39m:\n\u001b[0;32m   3504\u001b[0m     \u001b[38;5;28;01mreturn\u001b[39;00m \u001b[38;5;28mself\u001b[39m\u001b[38;5;241m.\u001b[39m_getitem_multilevel(key)\n\u001b[1;32m-> 3505\u001b[0m indexer \u001b[38;5;241m=\u001b[39m \u001b[38;5;28;43mself\u001b[39;49m\u001b[38;5;241;43m.\u001b[39;49m\u001b[43mcolumns\u001b[49m\u001b[38;5;241;43m.\u001b[39;49m\u001b[43mget_loc\u001b[49m\u001b[43m(\u001b[49m\u001b[43mkey\u001b[49m\u001b[43m)\u001b[49m\n\u001b[0;32m   3506\u001b[0m \u001b[38;5;28;01mif\u001b[39;00m is_integer(indexer):\n\u001b[0;32m   3507\u001b[0m     indexer \u001b[38;5;241m=\u001b[39m [indexer]\n",
      "File \u001b[1;32m~\\anaconda3\\envs\\DA_Env\\lib\\site-packages\\pandas\\core\\indexes\\base.py:3623\u001b[0m, in \u001b[0;36mIndex.get_loc\u001b[1;34m(self, key, method, tolerance)\u001b[0m\n\u001b[0;32m   3621\u001b[0m     \u001b[38;5;28;01mreturn\u001b[39;00m \u001b[38;5;28mself\u001b[39m\u001b[38;5;241m.\u001b[39m_engine\u001b[38;5;241m.\u001b[39mget_loc(casted_key)\n\u001b[0;32m   3622\u001b[0m \u001b[38;5;28;01mexcept\u001b[39;00m \u001b[38;5;167;01mKeyError\u001b[39;00m \u001b[38;5;28;01mas\u001b[39;00m err:\n\u001b[1;32m-> 3623\u001b[0m     \u001b[38;5;28;01mraise\u001b[39;00m \u001b[38;5;167;01mKeyError\u001b[39;00m(key) \u001b[38;5;28;01mfrom\u001b[39;00m \u001b[38;5;21;01merr\u001b[39;00m\n\u001b[0;32m   3624\u001b[0m \u001b[38;5;28;01mexcept\u001b[39;00m \u001b[38;5;167;01mTypeError\u001b[39;00m:\n\u001b[0;32m   3625\u001b[0m     \u001b[38;5;66;03m# If we have a listlike key, _check_indexing_error will raise\u001b[39;00m\n\u001b[0;32m   3626\u001b[0m     \u001b[38;5;66;03m#  InvalidIndexError. Otherwise we fall through and re-raise\u001b[39;00m\n\u001b[0;32m   3627\u001b[0m     \u001b[38;5;66;03m#  the TypeError.\u001b[39;00m\n\u001b[0;32m   3628\u001b[0m     \u001b[38;5;28mself\u001b[39m\u001b[38;5;241m.\u001b[39m_check_indexing_error(key)\n",
      "\u001b[1;31mKeyError\u001b[0m: 0"
     ]
    }
   ],
   "source": [
    "\"\"\"for key, value in track_id_dict.items():\n",
    "    if value == []:\n",
    "        del track_id_dict[key]\"\"\"\n",
    "for key, value in track_id_dict.items(): \n",
    "    track_id_dict[key] = get_df_out(value)\n",
    "    "
   ]
  },
  {
   "cell_type": "code",
   "execution_count": null,
   "id": "95d39281-8273-4159-845c-a1ea95066d3c",
   "metadata": {},
   "outputs": [],
   "source": [
    "def get_audio_features(df_out):\n",
    "    \"\"\"Get audio features from items in df_out\"\"\"\n",
    "    list_features =[]\n",
    "    for track_id in df_out['id']: \n",
    "        track_features = sp.audio_features(track_id)[0]\n",
    "        list_features.append(track_features)\n",
    "        sleep(randint(1,5))\n",
    "    df_features = pd.DataFrame(list_features)\n",
    "    df_out = pd.concat([df_out,df_features], axis=1)\n",
    "    return df_out"
   ]
  },
  {
   "cell_type": "code",
   "execution_count": null,
   "id": "81f97b37-c496-498a-af6d-1445ddc18867",
   "metadata": {},
   "outputs": [],
   "source": [
    "for key, value in track_id_dict.items():\n",
    "    track_id_dict[key] = get_audio_features(value)\n",
    "    track_id_dict[key].to_csv('library_spotify'+key+'.csv')"
   ]
  }
 ],
 "metadata": {
  "kernelspec": {
   "display_name": "Python 3 (ipykernel)",
   "language": "python",
   "name": "python3"
  },
  "language_info": {
   "codemirror_mode": {
    "name": "ipython",
    "version": 3
   },
   "file_extension": ".py",
   "mimetype": "text/x-python",
   "name": "python",
   "nbconvert_exporter": "python",
   "pygments_lexer": "ipython3",
   "version": "3.9.7"
  }
 },
 "nbformat": 4,
 "nbformat_minor": 5
}
