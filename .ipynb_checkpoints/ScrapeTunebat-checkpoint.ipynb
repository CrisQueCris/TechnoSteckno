{
 "cells": [
  {
   "cell_type": "markdown",
   "id": "b5c68dc9-7be7-4a18-81a5-fe3ab623346b",
   "metadata": {},
   "source": [
    "Scrape tunebat to get key and bpm information of top songs"
   ]
  },
  {
   "cell_type": "code",
   "execution_count": 35,
   "id": "3cff2b6a-ac3d-4c0a-b66f-db41fbfee103",
   "metadata": {},
   "outputs": [],
   "source": [
    "import requests # to download html code\n",
    "from bs4 import BeautifulSoup as soup# to navigate through the html code\n",
    "from urllib.request import Request, urlopen\n",
    "import pandas as pd\n",
    "import numpy as np\n",
    "import re"
   ]
  },
  {
   "cell_type": "code",
   "execution_count": null,
   "id": "333b6b45-345c-47ec-b164-a3cb4dfda6d5",
   "metadata": {},
   "outputs": [],
   "source": [
    "#'Mozilla/5.0 (Windows NT 10.0; Win64; x64) AppleWebKit/537.36 (KHTML, like Gecko) Chrome/83.0.4103.97 Safari/537.36'"
   ]
  },
  {
   "cell_type": "code",
   "execution_count": 88,
   "id": "d2edf325-6d5a-48a7-866d-b29169a97f66",
   "metadata": {},
   "outputs": [],
   "source": [
    "url_base = 'https://tunebat.com/' #Top songs\n",
    "req = Request(url, headers={'User-agent': 'PostmanRuntime/7.29.0'})\n",
    "webpage = urlopen(req).read()"
   ]
  },
  {
   "cell_type": "code",
   "execution_count": 31,
   "id": "93bcef0f-4789-416f-97c9-98eb26fe8370",
   "metadata": {},
   "outputs": [
    {
     "name": "stdout",
     "output_type": "stream",
     "text": [
      "403\n"
     ]
    }
   ],
   "source": [
    "response = requests.get(url, headers=user_agent)\n",
    "print(response.status_code)"
   ]
  },
  {
   "cell_type": "code",
   "execution_count": 36,
   "id": "a935dc4f-a360-4d15-b87e-17537526f688",
   "metadata": {},
   "outputs": [],
   "source": [
    "page_soup = soup(webpage, 'html.parser')"
   ]
  },
  {
   "cell_type": "markdown",
   "id": "bac704b5-5384-45d9-a040-f375444373d9",
   "metadata": {},
   "source": [
    "## Get the BPM, Key, Camelot from input data:\n",
    "\n",
    "We want to input the top 100 as a url request and retrieve the corresponding data. Then we have to make sure we got the data of right song.\n",
    "Example: \n",
    "Interpret/Song: Harry Styles - As it was\n",
    "Url: https://tunebat.com/Search?q=harry%20styles%20as%20it%20was"
   ]
  },
  {
   "cell_type": "markdown",
   "id": "41dc48a0-44ea-4def-b7dc-056dc1db2583",
   "metadata": {},
   "source": [
    "Load Top 100.csv:"
   ]
  },
  {
   "cell_type": "code",
   "execution_count": 67,
   "id": "d719ffbb-074d-4cb4-a7f6-c47cd198fffc",
   "metadata": {},
   "outputs": [],
   "source": [
    "top100 = pd.read_csv('billboard/billboardTop1002022-04-23.csv')"
   ]
  },
  {
   "cell_type": "code",
   "execution_count": 74,
   "id": "0070cc2f-4080-4ffd-a9cf-d3873cfbef04",
   "metadata": {},
   "outputs": [],
   "source": [
    "#top100\n"
   ]
  },
  {
   "cell_type": "markdown",
   "id": "e19f3438-aae9-4467-8f03-44d10c449588",
   "metadata": {},
   "source": [
    "Get Interpret and Song"
   ]
  },
  {
   "cell_type": "code",
   "execution_count": 70,
   "id": "18b8cd2c-8f5c-4a8a-886b-aa6f6f17f2b0",
   "metadata": {},
   "outputs": [],
   "source": [
    "int_tit = top100[['interpret', 'title']]"
   ]
  },
  {
   "cell_type": "code",
   "execution_count": 85,
   "id": "f3d39f48-ece3-4df1-8770-057cfa2e2e63",
   "metadata": {},
   "outputs": [],
   "source": [
    "url_search = [f\"Search?q={int_tit.iloc[i,0].replace(' ', '%20')}%20{int_tit.iloc[i,1].replace(' ', '%20')}\" for i in range(0, len(int_tit['title']))]"
   ]
  },
  {
   "cell_type": "code",
   "execution_count": 91,
   "id": "e0786970-45e0-4181-9ff4-ffa5fd916a28",
   "metadata": {},
   "outputs": [],
   "source": [
    "url = url_base + url_search[0]"
   ]
  },
  {
   "cell_type": "code",
   "execution_count": 98,
   "id": "f9c11887-e091-4196-b2b0-620c04acddc8",
   "metadata": {},
   "outputs": [
    {
     "data": {
      "text/plain": [
       "'https://tunebat.com/Search?q=Jack%20Harlow%20First%20Class'"
      ]
     },
     "execution_count": 98,
     "metadata": {},
     "output_type": "execute_result"
    }
   ],
   "source": [
    "url"
   ]
  },
  {
   "cell_type": "code",
   "execution_count": 97,
   "id": "ffb87737-9073-41fa-9780-676f469f676a",
   "metadata": {},
   "outputs": [
    {
     "name": "stdout",
     "output_type": "stream",
     "text": [
      "503\n"
     ]
    }
   ],
   "source": [
    "response = requests.get(url, headers=user_agent)\n",
    "print(response.status_code)"
   ]
  },
  {
   "cell_type": "code",
   "execution_count": 99,
   "id": "7248ba14-c317-49f6-9559-eccd87e46e2c",
   "metadata": {},
   "outputs": [
    {
     "ename": "HTTPError",
     "evalue": "HTTP Error 503: Service Temporarily Unavailable",
     "output_type": "error",
     "traceback": [
      "\u001b[1;31m---------------------------------------------------------------------------\u001b[0m",
      "\u001b[1;31mHTTPError\u001b[0m                                 Traceback (most recent call last)",
      "Input \u001b[1;32mIn [99]\u001b[0m, in \u001b[0;36m<cell line: 2>\u001b[1;34m()\u001b[0m\n\u001b[0;32m      1\u001b[0m req \u001b[38;5;241m=\u001b[39m Request(url, headers\u001b[38;5;241m=\u001b[39m{\u001b[38;5;124m'\u001b[39m\u001b[38;5;124mUser-agent\u001b[39m\u001b[38;5;124m'\u001b[39m: \u001b[38;5;124m'\u001b[39m\u001b[38;5;124mPostmanRuntime/7.29.0\u001b[39m\u001b[38;5;124m'\u001b[39m})\n\u001b[1;32m----> 2\u001b[0m webpage \u001b[38;5;241m=\u001b[39m \u001b[43murlopen\u001b[49m\u001b[43m(\u001b[49m\u001b[43mreq\u001b[49m\u001b[43m)\u001b[49m\u001b[38;5;241m.\u001b[39mread()\n\u001b[0;32m      3\u001b[0m page_soup \u001b[38;5;241m=\u001b[39m soup(webpage, \u001b[38;5;124m'\u001b[39m\u001b[38;5;124mhtml.parser\u001b[39m\u001b[38;5;124m'\u001b[39m)\n",
      "File \u001b[1;32m~\\anaconda3\\envs\\DA_Env\\lib\\urllib\\request.py:214\u001b[0m, in \u001b[0;36murlopen\u001b[1;34m(url, data, timeout, cafile, capath, cadefault, context)\u001b[0m\n\u001b[0;32m    212\u001b[0m \u001b[38;5;28;01melse\u001b[39;00m:\n\u001b[0;32m    213\u001b[0m     opener \u001b[38;5;241m=\u001b[39m _opener\n\u001b[1;32m--> 214\u001b[0m \u001b[38;5;28;01mreturn\u001b[39;00m \u001b[43mopener\u001b[49m\u001b[38;5;241;43m.\u001b[39;49m\u001b[43mopen\u001b[49m\u001b[43m(\u001b[49m\u001b[43murl\u001b[49m\u001b[43m,\u001b[49m\u001b[43m \u001b[49m\u001b[43mdata\u001b[49m\u001b[43m,\u001b[49m\u001b[43m \u001b[49m\u001b[43mtimeout\u001b[49m\u001b[43m)\u001b[49m\n",
      "File \u001b[1;32m~\\anaconda3\\envs\\DA_Env\\lib\\urllib\\request.py:523\u001b[0m, in \u001b[0;36mOpenerDirector.open\u001b[1;34m(self, fullurl, data, timeout)\u001b[0m\n\u001b[0;32m    521\u001b[0m \u001b[38;5;28;01mfor\u001b[39;00m processor \u001b[38;5;129;01min\u001b[39;00m \u001b[38;5;28mself\u001b[39m\u001b[38;5;241m.\u001b[39mprocess_response\u001b[38;5;241m.\u001b[39mget(protocol, []):\n\u001b[0;32m    522\u001b[0m     meth \u001b[38;5;241m=\u001b[39m \u001b[38;5;28mgetattr\u001b[39m(processor, meth_name)\n\u001b[1;32m--> 523\u001b[0m     response \u001b[38;5;241m=\u001b[39m \u001b[43mmeth\u001b[49m\u001b[43m(\u001b[49m\u001b[43mreq\u001b[49m\u001b[43m,\u001b[49m\u001b[43m \u001b[49m\u001b[43mresponse\u001b[49m\u001b[43m)\u001b[49m\n\u001b[0;32m    525\u001b[0m \u001b[38;5;28;01mreturn\u001b[39;00m response\n",
      "File \u001b[1;32m~\\anaconda3\\envs\\DA_Env\\lib\\urllib\\request.py:632\u001b[0m, in \u001b[0;36mHTTPErrorProcessor.http_response\u001b[1;34m(self, request, response)\u001b[0m\n\u001b[0;32m    629\u001b[0m \u001b[38;5;66;03m# According to RFC 2616, \"2xx\" code indicates that the client's\u001b[39;00m\n\u001b[0;32m    630\u001b[0m \u001b[38;5;66;03m# request was successfully received, understood, and accepted.\u001b[39;00m\n\u001b[0;32m    631\u001b[0m \u001b[38;5;28;01mif\u001b[39;00m \u001b[38;5;129;01mnot\u001b[39;00m (\u001b[38;5;241m200\u001b[39m \u001b[38;5;241m<\u001b[39m\u001b[38;5;241m=\u001b[39m code \u001b[38;5;241m<\u001b[39m \u001b[38;5;241m300\u001b[39m):\n\u001b[1;32m--> 632\u001b[0m     response \u001b[38;5;241m=\u001b[39m \u001b[38;5;28;43mself\u001b[39;49m\u001b[38;5;241;43m.\u001b[39;49m\u001b[43mparent\u001b[49m\u001b[38;5;241;43m.\u001b[39;49m\u001b[43merror\u001b[49m\u001b[43m(\u001b[49m\n\u001b[0;32m    633\u001b[0m \u001b[43m        \u001b[49m\u001b[38;5;124;43m'\u001b[39;49m\u001b[38;5;124;43mhttp\u001b[39;49m\u001b[38;5;124;43m'\u001b[39;49m\u001b[43m,\u001b[49m\u001b[43m \u001b[49m\u001b[43mrequest\u001b[49m\u001b[43m,\u001b[49m\u001b[43m \u001b[49m\u001b[43mresponse\u001b[49m\u001b[43m,\u001b[49m\u001b[43m \u001b[49m\u001b[43mcode\u001b[49m\u001b[43m,\u001b[49m\u001b[43m \u001b[49m\u001b[43mmsg\u001b[49m\u001b[43m,\u001b[49m\u001b[43m \u001b[49m\u001b[43mhdrs\u001b[49m\u001b[43m)\u001b[49m\n\u001b[0;32m    635\u001b[0m \u001b[38;5;28;01mreturn\u001b[39;00m response\n",
      "File \u001b[1;32m~\\anaconda3\\envs\\DA_Env\\lib\\urllib\\request.py:561\u001b[0m, in \u001b[0;36mOpenerDirector.error\u001b[1;34m(self, proto, *args)\u001b[0m\n\u001b[0;32m    559\u001b[0m \u001b[38;5;28;01mif\u001b[39;00m http_err:\n\u001b[0;32m    560\u001b[0m     args \u001b[38;5;241m=\u001b[39m (\u001b[38;5;28mdict\u001b[39m, \u001b[38;5;124m'\u001b[39m\u001b[38;5;124mdefault\u001b[39m\u001b[38;5;124m'\u001b[39m, \u001b[38;5;124m'\u001b[39m\u001b[38;5;124mhttp_error_default\u001b[39m\u001b[38;5;124m'\u001b[39m) \u001b[38;5;241m+\u001b[39m orig_args\n\u001b[1;32m--> 561\u001b[0m     \u001b[38;5;28;01mreturn\u001b[39;00m \u001b[38;5;28;43mself\u001b[39;49m\u001b[38;5;241;43m.\u001b[39;49m\u001b[43m_call_chain\u001b[49m\u001b[43m(\u001b[49m\u001b[38;5;241;43m*\u001b[39;49m\u001b[43margs\u001b[49m\u001b[43m)\u001b[49m\n",
      "File \u001b[1;32m~\\anaconda3\\envs\\DA_Env\\lib\\urllib\\request.py:494\u001b[0m, in \u001b[0;36mOpenerDirector._call_chain\u001b[1;34m(self, chain, kind, meth_name, *args)\u001b[0m\n\u001b[0;32m    492\u001b[0m \u001b[38;5;28;01mfor\u001b[39;00m handler \u001b[38;5;129;01min\u001b[39;00m handlers:\n\u001b[0;32m    493\u001b[0m     func \u001b[38;5;241m=\u001b[39m \u001b[38;5;28mgetattr\u001b[39m(handler, meth_name)\n\u001b[1;32m--> 494\u001b[0m     result \u001b[38;5;241m=\u001b[39m \u001b[43mfunc\u001b[49m\u001b[43m(\u001b[49m\u001b[38;5;241;43m*\u001b[39;49m\u001b[43margs\u001b[49m\u001b[43m)\u001b[49m\n\u001b[0;32m    495\u001b[0m     \u001b[38;5;28;01mif\u001b[39;00m result \u001b[38;5;129;01mis\u001b[39;00m \u001b[38;5;129;01mnot\u001b[39;00m \u001b[38;5;28;01mNone\u001b[39;00m:\n\u001b[0;32m    496\u001b[0m         \u001b[38;5;28;01mreturn\u001b[39;00m result\n",
      "File \u001b[1;32m~\\anaconda3\\envs\\DA_Env\\lib\\urllib\\request.py:641\u001b[0m, in \u001b[0;36mHTTPDefaultErrorHandler.http_error_default\u001b[1;34m(self, req, fp, code, msg, hdrs)\u001b[0m\n\u001b[0;32m    640\u001b[0m \u001b[38;5;28;01mdef\u001b[39;00m \u001b[38;5;21mhttp_error_default\u001b[39m(\u001b[38;5;28mself\u001b[39m, req, fp, code, msg, hdrs):\n\u001b[1;32m--> 641\u001b[0m     \u001b[38;5;28;01mraise\u001b[39;00m HTTPError(req\u001b[38;5;241m.\u001b[39mfull_url, code, msg, hdrs, fp)\n",
      "\u001b[1;31mHTTPError\u001b[0m: HTTP Error 503: Service Temporarily Unavailable"
     ]
    }
   ],
   "source": [
    "req = Request(url, headers={'User-agent': 'PostmanRuntime/7.29.0'})\n",
    "webpage = urlopen(req).read()\n",
    "page_soup = soup(webpage, 'html.parser')"
   ]
  },
  {
   "cell_type": "markdown",
   "id": "4d11a3b3-05f7-412c-b241-9536bb381bce",
   "metadata": {},
   "source": [
    "## Get BPM"
   ]
  },
  {
   "cell_type": "code",
   "execution_count": 39,
   "id": "bc21dfbc-4913-4c6a-ab7e-5876effa9d7f",
   "metadata": {},
   "outputs": [],
   "source": [
    "bpm_selector = 'div.ant-col._1hTOV.ant-col-xs-24.ant-col-lg-16 > div:nth-child(2) > p._1vVQ4'"
   ]
  },
  {
   "cell_type": "code",
   "execution_count": 42,
   "id": "9d0dc426-bda9-48db-b73b-ed160bd28030",
   "metadata": {},
   "outputs": [],
   "source": [
    "bpm_list = [elem.get_text() for elem in page_soup.select(bpm_selector)]"
   ]
  },
  {
   "cell_type": "code",
   "execution_count": 45,
   "id": "883e36aa-aacc-42c8-8759-7d8453e20397",
   "metadata": {},
   "outputs": [
    {
     "data": {
      "text/plain": [
       "['174',\n",
       " '81',\n",
       " '106',\n",
       " '170',\n",
       " '77',\n",
       " '73',\n",
       " '154',\n",
       " '108',\n",
       " '122',\n",
       " '88',\n",
       " '103',\n",
       " '126',\n",
       " '141',\n",
       " '142',\n",
       " '116',\n",
       " '130',\n",
       " '103',\n",
       " '118',\n",
       " '97',\n",
       " '150',\n",
       " '160',\n",
       " '169',\n",
       " '140',\n",
       " '107',\n",
       " '78']"
      ]
     },
     "execution_count": 45,
     "metadata": {},
     "output_type": "execute_result"
    }
   ],
   "source": [
    "bpm_list"
   ]
  },
  {
   "cell_type": "markdown",
   "id": "9a77b776-011e-4880-8fd1-86f259996227",
   "metadata": {},
   "source": [
    "### Get interpret"
   ]
  },
  {
   "cell_type": "code",
   "execution_count": 62,
   "id": "636a2f39-0c17-4e6d-9fd4-4ee4555a6678",
   "metadata": {},
   "outputs": [],
   "source": [
    "interpret_selector = 'div > div> div> div> a > div > div> div > div > div'"
   ]
  },
  {
   "cell_type": "code",
   "execution_count": 63,
   "id": "7c29861d-e6e2-4b93-8269-31483f73d57d",
   "metadata": {},
   "outputs": [],
   "source": [
    "interpret = [elem.get_text() for elem in page_soup.select(interpret_selector)]"
   ]
  },
  {
   "cell_type": "code",
   "execution_count": 64,
   "id": "32b2788a-f03b-4958-95be-4144854d2814",
   "metadata": {},
   "outputs": [
    {
     "data": {
      "text/plain": [
       "['Harry Styles',\n",
       " 'As It Was',\n",
       " 'F# MinorKey',\n",
       " '174BPM',\n",
       " '11ACamelot',\n",
       " 'Glass Animals',\n",
       " 'Heat Waves',\n",
       " 'B MajorKey',\n",
       " '81BPM',\n",
       " '1BCamelot',\n",
       " 'Latto',\n",
       " 'Big Energy',\n",
       " 'B MinorKey',\n",
       " '106BPM',\n",
       " '10ACamelot',\n",
       " 'The Kid LAROI, Justin Bieber',\n",
       " 'STAY (with Justin Bieber)',\n",
       " 'C# MajorKey',\n",
       " '170BPM',\n",
       " '3BCamelot']"
      ]
     },
     "execution_count": 64,
     "metadata": {},
     "output_type": "execute_result"
    }
   ],
   "source": [
    "interpret"
   ]
  }
 ],
 "metadata": {
  "kernelspec": {
   "display_name": "Python 3 (ipykernel)",
   "language": "python",
   "name": "python3"
  },
  "language_info": {
   "codemirror_mode": {
    "name": "ipython",
    "version": 3
   },
   "file_extension": ".py",
   "mimetype": "text/x-python",
   "name": "python",
   "nbconvert_exporter": "python",
   "pygments_lexer": "ipython3",
   "version": "3.9.7"
  }
 },
 "nbformat": 4,
 "nbformat_minor": 5
}
