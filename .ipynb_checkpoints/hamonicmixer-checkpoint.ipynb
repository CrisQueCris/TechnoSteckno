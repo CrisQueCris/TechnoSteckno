{
 "cells": [
  {
   "cell_type": "markdown",
   "id": "9d0e8531-0672-4c19-9769-870d370b18f3",
   "metadata": {},
   "source": [
    "## harmonic mixing\n",
    "![serato camelot](https://serato.com/latest/blog/18213/pro-tip-harmonic-mixing-crate)"
   ]
  },
  {
   "cell_type": "markdown",
   "id": "d22488f5-873a-4365-9b8b-ae55df1b9402",
   "metadata": {},
   "source": [
    "function to output harmonicly fitting song"
   ]
  },
  {
   "cell_type": "code",
   "execution_count": null,
   "id": "ea4439f8-5ced-4ef1-8998-56459afab421",
   "metadata": {},
   "outputs": [],
   "source": [
    "pitch_class = {0:'C',1:'C#',2:'D',3:'D#',\\\n",
    "               4:'E',5:'F',6:'F#',7:'G',\\\n",
    "               8:'G#',9:'A',10:'A#',11:'B']}\n",
    "mode = {1:'major', 2:'minor'}\n",
    "\n",
    "\n",
    "camelot = {'1A': ['G#, major'],\n",
    "           '2A': ['D']\n",
    "           '3A':[]\n",
    "           '4A':[]\n",
    "           '5A':[]\n",
    "           '6A':[]\n",
    "           '7A':[]\n",
    "           '8A':[]\n",
    "           '9A':[]\n",
    "           '10A':[]\n",
    "           '11A':[]\n",
    "           '12A':[]\n",
    "           '1B':[]\n",
    "           '2B':[]\n",
    "           '3B':[]\n",
    "           '4B':[]\n",
    "           '5B':[]\n",
    "           '6B':[]\n",
    "           '7B':[]\n",
    "           '8B':[]\n",
    "           '9B':[]\n",
    "           '10B':[]\n",
    "           '11B':[]\n",
    "           '12B':[]"
   ]
  },
  {
   "cell_type": "raw",
   "id": "6d4355d8-b570-4c91-a696-5e100cb7cdf8",
   "metadata": {},
   "source": [
    "def harmonic_sibbling(key, mode):"
   ]
  }
 ],
 "metadata": {
  "kernelspec": {
   "display_name": "Python 3 (ipykernel)",
   "language": "python",
   "name": "python3"
  },
  "language_info": {
   "codemirror_mode": {
    "name": "ipython",
    "version": 3
   },
   "file_extension": ".py",
   "mimetype": "text/x-python",
   "name": "python",
   "nbconvert_exporter": "python",
   "pygments_lexer": "ipython3",
   "version": "3.9.7"
  }
 },
 "nbformat": 4,
 "nbformat_minor": 5
}
