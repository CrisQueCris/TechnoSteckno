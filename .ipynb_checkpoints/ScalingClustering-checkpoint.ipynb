{
 "cells": [
  {
   "cell_type": "markdown",
   "id": "98046c12-aa28-406a-8320-54a6f779ccea",
   "metadata": {},
   "source": [
    "Scaling and Clustering of the spotify library:"
   ]
  },
  {
   "cell_type": "code",
   "execution_count": 1,
   "id": "fe980b92-6c95-470b-89cd-ad26fccddc9c",
   "metadata": {
    "tags": []
   },
   "outputs": [],
   "source": [
    "import scalingclustering\n",
    "from scalingclustering import load_playlist_pkl, kmeans_missing,\\\n",
    "yellowbricking, plot_clusters, apply_scaler, apply_kmeans, predict_kmeans, elbowing, silhouetting, save_pkl, load_pkl\n",
    "import pandas as pd\n",
    "import datetime\n",
    "import seaborn as sns\n",
    "import numpy as np\n",
    "from sklearn.cluster import KMeans\n"
   ]
  },
  {
   "cell_type": "code",
   "execution_count": 2,
   "id": "88c04a16-1e70-4983-8315-cc29502c32aa",
   "metadata": {},
   "outputs": [],
   "source": [
    "sp_library = load_playlist_pkl()"
   ]
  },
  {
   "cell_type": "code",
   "execution_count": 3,
   "id": "ec40b00b-c116-455f-8f09-2dc14cc0123a",
   "metadata": {},
   "outputs": [
    {
     "data": {
      "text/plain": [
       "(29707, 19)"
      ]
     },
     "execution_count": 3,
     "metadata": {},
     "output_type": "execute_result"
    }
   ],
   "source": [
    "sp_library.shape"
   ]
  },
  {
   "cell_type": "code",
   "execution_count": 4,
   "id": "befe35e3-6e21-4512-bb3d-c09dfadd3390",
   "metadata": {},
   "outputs": [],
   "source": [
    "pl_dict = {}\n",
    "i = 0\n",
    "for index in sp_library['playlistID'].value_counts().index:\n",
    "    pl_dict[index] = i\n",
    "    i += 1"
   ]
  },
  {
   "cell_type": "code",
   "execution_count": 5,
   "id": "41b151b1-f591-4e38-9484-cb6c4dbc5a26",
   "metadata": {},
   "outputs": [],
   "source": [
    "for pl_id in sp_library['playlistID']:\n",
    "    sp_library['playlistnr'] = pl_dict[pl_id]\n",
    "   "
   ]
  },
  {
   "cell_type": "code",
   "execution_count": 6,
   "id": "0a7b6f5f-192a-4a65-b1ff-a9f75466608a",
   "metadata": {},
   "outputs": [],
   "source": [
    "sp_library['Year'] = pd.to_datetime(sp_library['ReleaseYear'], errors = 'coerce', format='%Y-%m-%d')\n",
    "sp_library['Year'] = pd.DatetimeIndex(sp_library['Year']).year"
   ]
  },
  {
   "cell_type": "markdown",
   "id": "ac171634-b096-4528-a044-ff2455eb1f8f",
   "metadata": {},
   "source": [
    "Columns for clustering:\n",
    "'danceability'\n",
    "'energy'\n",
    "'loudness'\n",
    "'speechiness'  # detects the presence of spoken words in a track\n",
    "'acousticness'\n",
    "'instrumentalness'\n",
    "'liveness'  # Detects the presence of an audience in the recording\n",
    "'valence'  # A measure from 0.0 to 1.0 describing the musical positiveness conveyed by a track\n",
    "'tempo'\n",
    "\n",
    "\n",
    "Add later when data exists:\n",
    "'time_signature'\n",
    "'popularity'"
   ]
  },
  {
   "cell_type": "code",
   "execution_count": 7,
   "id": "3b7a3283-2807-43f7-b969-32e4484b6e17",
   "metadata": {},
   "outputs": [],
   "source": [
    "X = sp_library[['danceability',\n",
    "                'energy',\n",
    "                'loudness',\n",
    "                'speechiness',\n",
    "                'acousticness',\n",
    "               'instrumentalness',\n",
    "               'liveness', \n",
    "                'valence',  \n",
    "                'tempo',\n",
    "                'Year',\n",
    "                'Popularity']]"
   ]
  },
  {
   "cell_type": "code",
   "execution_count": 8,
   "id": "94b413da-9268-4d47-8525-2ee24f55e78b",
   "metadata": {},
   "outputs": [
    {
     "data": {
      "text/html": [
       "<div>\n",
       "<style scoped>\n",
       "    .dataframe tbody tr th:only-of-type {\n",
       "        vertical-align: middle;\n",
       "    }\n",
       "\n",
       "    .dataframe tbody tr th {\n",
       "        vertical-align: top;\n",
       "    }\n",
       "\n",
       "    .dataframe thead th {\n",
       "        text-align: right;\n",
       "    }\n",
       "</style>\n",
       "<table border=\"1\" class=\"dataframe\">\n",
       "  <thead>\n",
       "    <tr style=\"text-align: right;\">\n",
       "      <th></th>\n",
       "      <th>danceability</th>\n",
       "      <th>energy</th>\n",
       "      <th>loudness</th>\n",
       "      <th>speechiness</th>\n",
       "      <th>acousticness</th>\n",
       "      <th>instrumentalness</th>\n",
       "      <th>liveness</th>\n",
       "      <th>valence</th>\n",
       "      <th>tempo</th>\n",
       "      <th>Year</th>\n",
       "      <th>Popularity</th>\n",
       "    </tr>\n",
       "  </thead>\n",
       "  <tbody>\n",
       "    <tr>\n",
       "      <th>0</th>\n",
       "      <td>0.601</td>\n",
       "      <td>0.532</td>\n",
       "      <td>-9.119</td>\n",
       "      <td>0.0286</td>\n",
       "      <td>0.432</td>\n",
       "      <td>0.000006</td>\n",
       "      <td>0.0925</td>\n",
       "      <td>0.341</td>\n",
       "      <td>136.571</td>\n",
       "      <td>1972.0</td>\n",
       "      <td>79.0</td>\n",
       "    </tr>\n",
       "    <tr>\n",
       "      <th>1</th>\n",
       "      <td>0.484</td>\n",
       "      <td>0.508</td>\n",
       "      <td>-9.308</td>\n",
       "      <td>0.0364</td>\n",
       "      <td>0.376</td>\n",
       "      <td>0.000791</td>\n",
       "      <td>0.0961</td>\n",
       "      <td>0.554</td>\n",
       "      <td>151.867</td>\n",
       "      <td>1970.0</td>\n",
       "      <td>2.0</td>\n",
       "    </tr>\n",
       "    <tr>\n",
       "      <th>2</th>\n",
       "      <td>0.576</td>\n",
       "      <td>0.432</td>\n",
       "      <td>-13.642</td>\n",
       "      <td>0.0314</td>\n",
       "      <td>0.233</td>\n",
       "      <td>0.00135</td>\n",
       "      <td>0.0743</td>\n",
       "      <td>0.348</td>\n",
       "      <td>132.144</td>\n",
       "      <td>1995.0</td>\n",
       "      <td>60.0</td>\n",
       "    </tr>\n",
       "    <tr>\n",
       "      <th>3</th>\n",
       "      <td>0.579</td>\n",
       "      <td>0.508</td>\n",
       "      <td>-9.484</td>\n",
       "      <td>0.027</td>\n",
       "      <td>0.00574</td>\n",
       "      <td>0.000494</td>\n",
       "      <td>0.0575</td>\n",
       "      <td>0.609</td>\n",
       "      <td>147.125</td>\n",
       "      <td>2003.0</td>\n",
       "      <td>56.0</td>\n",
       "    </tr>\n",
       "    <tr>\n",
       "      <th>4</th>\n",
       "      <td>0.326</td>\n",
       "      <td>0.872</td>\n",
       "      <td>-7.602</td>\n",
       "      <td>0.122</td>\n",
       "      <td>0.214</td>\n",
       "      <td>0</td>\n",
       "      <td>0.461</td>\n",
       "      <td>0.492</td>\n",
       "      <td>173.381</td>\n",
       "      <td>1977.0</td>\n",
       "      <td>69.0</td>\n",
       "    </tr>\n",
       "  </tbody>\n",
       "</table>\n",
       "</div>"
      ],
      "text/plain": [
       "  danceability energy loudness speechiness acousticness instrumentalness  \\\n",
       "0        0.601  0.532   -9.119      0.0286        0.432         0.000006   \n",
       "1        0.484  0.508   -9.308      0.0364        0.376         0.000791   \n",
       "2        0.576  0.432  -13.642      0.0314        0.233          0.00135   \n",
       "3        0.579  0.508   -9.484       0.027      0.00574         0.000494   \n",
       "4        0.326  0.872   -7.602       0.122        0.214                0   \n",
       "\n",
       "  liveness valence    tempo    Year  Popularity  \n",
       "0   0.0925   0.341  136.571  1972.0        79.0  \n",
       "1   0.0961   0.554  151.867  1970.0         2.0  \n",
       "2   0.0743   0.348  132.144  1995.0        60.0  \n",
       "3   0.0575   0.609  147.125  2003.0        56.0  \n",
       "4    0.461   0.492  173.381  1977.0        69.0  "
      ]
     },
     "metadata": {},
     "output_type": "display_data"
    },
    {
     "data": {
      "text/html": [
       "<div>\n",
       "<style scoped>\n",
       "    .dataframe tbody tr th:only-of-type {\n",
       "        vertical-align: middle;\n",
       "    }\n",
       "\n",
       "    .dataframe tbody tr th {\n",
       "        vertical-align: top;\n",
       "    }\n",
       "\n",
       "    .dataframe thead th {\n",
       "        text-align: right;\n",
       "    }\n",
       "</style>\n",
       "<table border=\"1\" class=\"dataframe\">\n",
       "  <thead>\n",
       "    <tr style=\"text-align: right;\">\n",
       "      <th></th>\n",
       "      <th>danceability</th>\n",
       "      <th>energy</th>\n",
       "      <th>loudness</th>\n",
       "      <th>speechiness</th>\n",
       "      <th>acousticness</th>\n",
       "      <th>instrumentalness</th>\n",
       "      <th>liveness</th>\n",
       "      <th>valence</th>\n",
       "      <th>tempo</th>\n",
       "      <th>Year</th>\n",
       "      <th>Popularity</th>\n",
       "    </tr>\n",
       "  </thead>\n",
       "  <tbody>\n",
       "    <tr>\n",
       "      <th>0</th>\n",
       "      <td>-0.112132</td>\n",
       "      <td>-0.491688</td>\n",
       "      <td>-0.071973</td>\n",
       "      <td>-0.613048</td>\n",
       "      <td>0.585282</td>\n",
       "      <td>-0.516496</td>\n",
       "      <td>-0.564537</td>\n",
       "      <td>-0.797569</td>\n",
       "      <td>0.573511</td>\n",
       "      <td>-1.846173</td>\n",
       "      <td>1.473719</td>\n",
       "    </tr>\n",
       "    <tr>\n",
       "      <th>1</th>\n",
       "      <td>-0.828481</td>\n",
       "      <td>-0.598479</td>\n",
       "      <td>-0.110790</td>\n",
       "      <td>-0.505626</td>\n",
       "      <td>0.391998</td>\n",
       "      <td>-0.514032</td>\n",
       "      <td>-0.540246</td>\n",
       "      <td>0.008465</td>\n",
       "      <td>1.121351</td>\n",
       "      <td>-1.959229</td>\n",
       "      <td>-1.728849</td>\n",
       "    </tr>\n",
       "    <tr>\n",
       "      <th>2</th>\n",
       "      <td>-0.265198</td>\n",
       "      <td>-0.936653</td>\n",
       "      <td>-1.000924</td>\n",
       "      <td>-0.574486</td>\n",
       "      <td>-0.101567</td>\n",
       "      <td>-0.512276</td>\n",
       "      <td>-0.687344</td>\n",
       "      <td>-0.771080</td>\n",
       "      <td>0.414954</td>\n",
       "      <td>-0.546023</td>\n",
       "      <td>0.683475</td>\n",
       "    </tr>\n",
       "    <tr>\n",
       "      <th>3</th>\n",
       "      <td>-0.246830</td>\n",
       "      <td>-0.598479</td>\n",
       "      <td>-0.146938</td>\n",
       "      <td>-0.635083</td>\n",
       "      <td>-0.885955</td>\n",
       "      <td>-0.514965</td>\n",
       "      <td>-0.800705</td>\n",
       "      <td>0.216596</td>\n",
       "      <td>0.951512</td>\n",
       "      <td>-0.093796</td>\n",
       "      <td>0.517108</td>\n",
       "    </tr>\n",
       "    <tr>\n",
       "      <th>4</th>\n",
       "      <td>-1.795858</td>\n",
       "      <td>1.021196</td>\n",
       "      <td>0.239595</td>\n",
       "      <td>0.673266</td>\n",
       "      <td>-0.167145</td>\n",
       "      <td>-0.516516</td>\n",
       "      <td>1.921968</td>\n",
       "      <td>-0.226155</td>\n",
       "      <td>1.891894</td>\n",
       "      <td>-1.563531</td>\n",
       "      <td>1.057801</td>\n",
       "    </tr>\n",
       "  </tbody>\n",
       "</table>\n",
       "</div>"
      ],
      "text/plain": [
       "   danceability    energy  loudness  speechiness  acousticness  \\\n",
       "0     -0.112132 -0.491688 -0.071973    -0.613048      0.585282   \n",
       "1     -0.828481 -0.598479 -0.110790    -0.505626      0.391998   \n",
       "2     -0.265198 -0.936653 -1.000924    -0.574486     -0.101567   \n",
       "3     -0.246830 -0.598479 -0.146938    -0.635083     -0.885955   \n",
       "4     -1.795858  1.021196  0.239595     0.673266     -0.167145   \n",
       "\n",
       "   instrumentalness  liveness   valence     tempo      Year  Popularity  \n",
       "0         -0.516496 -0.564537 -0.797569  0.573511 -1.846173    1.473719  \n",
       "1         -0.514032 -0.540246  0.008465  1.121351 -1.959229   -1.728849  \n",
       "2         -0.512276 -0.687344 -0.771080  0.414954 -0.546023    0.683475  \n",
       "3         -0.514965 -0.800705  0.216596  0.951512 -0.093796    0.517108  \n",
       "4         -0.516516  1.921968 -0.226155  1.891894 -1.563531    1.057801  "
      ]
     },
     "metadata": {},
     "output_type": "display_data"
    }
   ],
   "source": [
    "X_scaled_df, scaler = apply_scaler(X)\n",
    "save_pkl(scaler, filename = \"model/scalerKmeans.pickle\")\n"
   ]
  },
  {
   "cell_type": "code",
   "execution_count": 9,
   "id": "6c725f02-f5ec-4d9b-97e4-b8ef0c0cb1a0",
   "metadata": {},
   "outputs": [
    {
     "name": "stderr",
     "output_type": "stream",
     "text": [
      "/Users/christoph/opt/anaconda3/envs/DA_Env/lib/python3.10/site-packages/sklearn/cluster/_kmeans.py:1146: RuntimeWarning: Explicit initial center position passed: performing only one init in KMeans instead of n_init=10.\n",
      "  self._check_params(X)\n",
      "/Users/christoph/opt/anaconda3/envs/DA_Env/lib/python3.10/site-packages/sklearn/cluster/_kmeans.py:1146: RuntimeWarning: Explicit initial center position passed: performing only one init in KMeans instead of n_init=10.\n",
      "  self._check_params(X)\n",
      "/Users/christoph/opt/anaconda3/envs/DA_Env/lib/python3.10/site-packages/sklearn/cluster/_kmeans.py:1146: RuntimeWarning: Explicit initial center position passed: performing only one init in KMeans instead of n_init=10.\n",
      "  self._check_params(X)\n",
      "/Users/christoph/opt/anaconda3/envs/DA_Env/lib/python3.10/site-packages/sklearn/cluster/_kmeans.py:1146: RuntimeWarning: Explicit initial center position passed: performing only one init in KMeans instead of n_init=10.\n",
      "  self._check_params(X)\n",
      "/Users/christoph/opt/anaconda3/envs/DA_Env/lib/python3.10/site-packages/sklearn/cluster/_kmeans.py:1146: RuntimeWarning: Explicit initial center position passed: performing only one init in KMeans instead of n_init=10.\n",
      "  self._check_params(X)\n"
     ]
    }
   ],
   "source": [
    "\n",
    "labels, centroids, X_hat, n_clusters, max_iter = kmeans_missing(X_scaled_df, n_clusters= 10, max_iter=50 )\n",
    "#kmeans = apply_kmeans(X_scaled_df, n)\n",
    "save_pkl(max_iter, filename = 'model/max_iter.pickle')\n",
    "save_pkl(n_clusters, filename = 'model/n_clusters.pickle')\n",
    "save_pkl(centroids, filename = 'model/centroids.pickle')\n",
    "save_pkl(labels, filename = 'model/labels.pickle')\n",
    "save_pkl(X_hat, filename = 'model/X_hat.pickle')"
   ]
  },
  {
   "cell_type": "code",
   "execution_count": 10,
   "id": "1d61c611-bb5f-4198-9f3f-a58159c93f9f",
   "metadata": {},
   "outputs": [
    {
     "ename": "NameError",
     "evalue": "name 'plot_clusters' is not defined",
     "output_type": "error",
     "traceback": [
      "\u001b[0;31m---------------------------------------------------------------------------\u001b[0m",
      "\u001b[0;31mNameError\u001b[0m                                 Traceback (most recent call last)",
      "Input \u001b[0;32mIn [10]\u001b[0m, in \u001b[0;36m<cell line: 2>\u001b[0;34m()\u001b[0m\n\u001b[1;32m      1\u001b[0m \u001b[38;5;66;03m#labels, clusters = predict_kmeans(X_hat, X, centroids)\u001b[39;00m\n\u001b[0;32m----> 2\u001b[0m \u001b[43mplot_clusters\u001b[49m(clusters, labels)\n",
      "\u001b[0;31mNameError\u001b[0m: name 'plot_clusters' is not defined"
     ]
    }
   ],
   "source": [
    "#labels, clusters = predict_kmeans(X_hat, X, centroids)\n",
    "plot_clusters(clusters, labels)"
   ]
  },
  {
   "cell_type": "code",
   "execution_count": null,
   "id": "38c69135-921e-4e66-a99c-373945b6fe33",
   "metadata": {},
   "outputs": [],
   "source": [
    "n_clusters, X_hat, labels"
   ]
  },
  {
   "cell_type": "code",
   "execution_count": null,
   "id": "857e05af-e1a5-416d-a58b-e0c638772797",
   "metadata": {},
   "outputs": [],
   "source": [
    "#clusters\n",
    "pd.Series(labels).value_counts().sort_index()"
   ]
  },
  {
   "cell_type": "code",
   "execution_count": null,
   "id": "2ef03d4d-b205-4ae9-b5ba-400c242c4a20",
   "metadata": {},
   "outputs": [],
   "source": [
    "#X_df = pd.DataFrame(X)\n",
    "#X_hat[\"label\"] = labels\n",
    "sp_library['label'] = labels"
   ]
  },
  {
   "cell_type": "code",
   "execution_count": null,
   "id": "9abd9236-0b0b-4df3-a98b-d75aa1296ae4",
   "metadata": {},
   "outputs": [],
   "source": [
    "elbowing(X_hat)"
   ]
  },
  {
   "cell_type": "code",
   "execution_count": null,
   "id": "b82487bc-e3fe-4757-88af-157644cead30",
   "metadata": {},
   "outputs": [],
   "source": [
    "silhouetting(X_hat)"
   ]
  },
  {
   "cell_type": "code",
   "execution_count": null,
   "id": "f42487b3-3d85-4332-b30d-84777a4885e7",
   "metadata": {},
   "outputs": [],
   "source": [
    "yellowbricking(X_hat, n_clusters)"
   ]
  },
  {
   "cell_type": "code",
   "execution_count": null,
   "id": "1933272b-929b-455d-a1a8-44c8b0417fe1",
   "metadata": {},
   "outputs": [],
   "source": [
    "#save_pkl(X, 'model/X.pickle')\n",
    "save_pkl(X_scaled_df, 'model/X_hat.pickle')\n",
    "save_pkl(sp_library, ('model/sp_library.pickle'))"
   ]
  }
 ],
 "metadata": {
  "kernelspec": {
   "display_name": "Python 3 (ipykernel)",
   "language": "python",
   "name": "python3"
  },
  "language_info": {
   "codemirror_mode": {
    "name": "ipython",
    "version": 3
   },
   "file_extension": ".py",
   "mimetype": "text/x-python",
   "name": "python",
   "nbconvert_exporter": "python",
   "pygments_lexer": "ipython3",
   "version": "3.10.4"
  }
 },
 "nbformat": 4,
 "nbformat_minor": 5
}
