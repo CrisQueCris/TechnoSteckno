{
 "cells": [
  {
   "cell_type": "markdown",
   "id": "613840cd-0bc5-45e1-a138-4f622ff4b0f9",
   "metadata": {},
   "source": [
    "We're scraping the Top 100 billboard charts."
   ]
  },
  {
   "cell_type": "code",
   "execution_count": 204,
   "id": "548ecf12-da9e-4f01-9c35-6fc02da8b298",
   "metadata": {},
   "outputs": [],
   "source": [
    "import requests # to download html code\n",
    "from bs4 import BeautifulSoup # to navigate through the html code\n",
    "import pandas as pd\n",
    "import numpy as np\n",
    "import re\n",
    "from datetime import datetime"
   ]
  },
  {
   "cell_type": "code",
   "execution_count": 166,
   "id": "1be4f090-7e09-444e-951c-c8c45af07983",
   "metadata": {},
   "outputs": [],
   "source": [
    "url = 'https://www.billboard.com/charts/hot-100/' #Website to be scraped"
   ]
  },
  {
   "cell_type": "code",
   "execution_count": 167,
   "id": "ca3954c2-9769-4244-9028-868f523877d7",
   "metadata": {},
   "outputs": [
    {
     "name": "stdout",
     "output_type": "stream",
     "text": [
      "200\n"
     ]
    }
   ],
   "source": [
    "response = requests.get(url)\n",
    "print(response.status_code)"
   ]
  },
  {
   "cell_type": "code",
   "execution_count": 168,
   "id": "ee7293e5-6cc4-403b-a53d-ef0e7545206f",
   "metadata": {},
   "outputs": [],
   "source": [
    "soup = BeautifulSoup(response.text, 'html.parser')"
   ]
  },
  {
   "cell_type": "code",
   "execution_count": 169,
   "id": "d83da967-9b89-429b-8eed-b619c9794ff7",
   "metadata": {},
   "outputs": [],
   "source": [
    "# print(soup.prettify())"
   ]
  },
  {
   "cell_type": "code",
   "execution_count": 170,
   "id": "c68d8994-fa55-463b-8539-f8cffd2d8e8b",
   "metadata": {},
   "outputs": [
    {
     "data": {
      "text/plain": [
       "<title>The Hot 100 – Billboard</title>"
      ]
     },
     "execution_count": 170,
     "metadata": {},
     "output_type": "execute_result"
    }
   ],
   "source": [
    "soup.title"
   ]
  },
  {
   "cell_type": "code",
   "execution_count": 171,
   "id": "411ecfc1-9288-412b-9b59-412371da9741",
   "metadata": {},
   "outputs": [
    {
     "data": {
      "text/plain": [
       "'\\n\\n\\t\\n\\t\\n\\t\\t\\n\\t\\t\\t\\t\\tSongwriter(s):\\t\\t\\n\\t\\n'"
      ]
     },
     "execution_count": 171,
     "metadata": {},
     "output_type": "execute_result"
    }
   ],
   "source": [
    "soup.select(\"h3#title-of-a-story\")[0].get_text()"
   ]
  },
  {
   "cell_type": "markdown",
   "id": "ad5da6db-3f9b-4944-badc-0dbcdbd083f3",
   "metadata": {},
   "source": [
    "### Get Week"
   ]
  },
  {
   "cell_type": "code",
   "execution_count": 196,
   "id": "d0b9e9e8-e6fd-4dbb-816b-8cc1fec338cd",
   "metadata": {},
   "outputs": [],
   "source": [
    "week_selector = '#post-1479786 > div.pmc-paywall > div > div > div > div.lrv-u-flex.lrv-u-align-items-center.lrv-u-justify-content-space-between.lrv-u-padding-lr-075\\@mobile-max.lrv-u-flex-direction-column\\@mobile-max > p'"
   ]
  },
  {
   "cell_type": "code",
   "execution_count": 207,
   "id": "491c3075-02dc-4202-9955-5b5df1e4a4a0",
   "metadata": {},
   "outputs": [],
   "source": [
    "week =  soup.select(week_selector)[0].get_text().replace('Week of ', '')"
   ]
  },
  {
   "cell_type": "code",
   "execution_count": 211,
   "id": "eb99cd83-0cbe-4c2a-9a64-4358d5278c03",
   "metadata": {},
   "outputs": [
    {
     "data": {
      "text/plain": [
       "'April 23, 2022'"
      ]
     },
     "execution_count": 211,
     "metadata": {},
     "output_type": "execute_result"
    }
   ],
   "source": [
    "week"
   ]
  },
  {
   "cell_type": "code",
   "execution_count": 213,
   "id": "43472fb1-e895-4479-88e2-844112475677",
   "metadata": {},
   "outputs": [],
   "source": [
    "week_date = datetime.strptime(week, '%B %d, %Y')"
   ]
  },
  {
   "cell_type": "code",
   "execution_count": 214,
   "id": "ab5d00be-340b-4917-9bb6-dd965dfebad7",
   "metadata": {},
   "outputs": [],
   "source": [
    "week_nr = week_date.isocalendar()[1]"
   ]
  },
  {
   "cell_type": "code",
   "execution_count": 215,
   "id": "d54772fc-2516-4912-905e-8c808d650de6",
   "metadata": {},
   "outputs": [
    {
     "data": {
      "text/plain": [
       "16"
      ]
     },
     "execution_count": 215,
     "metadata": {},
     "output_type": "execute_result"
    }
   ],
   "source": [
    "week_nr"
   ]
  },
  {
   "cell_type": "markdown",
   "id": "addfe968-95d6-41f6-8e42-df83223a384b",
   "metadata": {
    "jp-MarkdownHeadingCollapsed": true,
    "tags": []
   },
   "source": [
    "### Getting interprets:"
   ]
  },
  {
   "cell_type": "markdown",
   "id": "f5b3f89a-c5b1-473d-8114-0d6ed9b09dc7",
   "metadata": {},
   "source": [
    "First we save the of the interpreter on number one on the billboard"
   ]
  },
  {
   "cell_type": "code",
   "execution_count": 172,
   "id": "04a13fff-3458-4ce9-8210-50257cac4e0f",
   "metadata": {},
   "outputs": [],
   "source": [
    "interpretor_selector = \"#post-1479786 > div.pmc-paywall > div > div > div > div.chart-results-list.\\/\\/.lrv-u-padding-t-150.lrv-u-padding-t-050\\@mobile-max > div:nth-child(2) > ul > li.lrv-u-width-100p > ul > li.o-chart-results-list__item.\\/\\/.lrv-u-flex-grow-1.lrv-u-flex.lrv-u-flex-direction-column.lrv-u-justify-content-center.lrv-u-border-b-1.u-border-b-0\\@mobile-max.lrv-u-border-color-grey-light.lrv-u-padding-l-1\\@mobile-max > span\""
   ]
  },
  {
   "cell_type": "code",
   "execution_count": 173,
   "id": "ab0104ef-e24d-4a19-a638-01fef1e8e176",
   "metadata": {},
   "outputs": [
    {
     "data": {
      "text/plain": [
       "'Jack Harlow'"
      ]
     },
     "execution_count": 173,
     "metadata": {},
     "output_type": "execute_result"
    }
   ],
   "source": [
    "soup.select(interpretor_selector)[0].get_text().replace(\"\\n\",\"\").replace(\"\\t\",\"\")"
   ]
  },
  {
   "cell_type": "code",
   "execution_count": null,
   "id": "7cd0f14c-5706-4d61-a586-5c0fda7fe70e",
   "metadata": {},
   "outputs": [],
   "source": []
  },
  {
   "cell_type": "markdown",
   "id": "ef2227b6-1638-469e-be57-9681c6c7e4a5",
   "metadata": {},
   "source": [
    "It's Jack Harlow"
   ]
  },
  {
   "cell_type": "markdown",
   "id": "42bbd305-7194-4994-9dc2-2602f9b0b056",
   "metadata": {},
   "source": [
    "Now we have to generalize the select to get all the interprets of Top 100."
   ]
  },
  {
   "cell_type": "code",
   "execution_count": 174,
   "id": "545a2b57-7dc0-4f00-b0a2-62c61e984a35",
   "metadata": {},
   "outputs": [],
   "source": [
    "interpretor_selector_list = \"ul > li.o-chart-results-list__item.\\/\\/.lrv-u-flex-grow-1.lrv-u-flex.lrv-u-flex-direction-column.lrv-u-justify-content-center.lrv-u-border-b-1.u-border-b-0\\@mobile-max.lrv-u-border-color-grey-light.lrv-u-padding-l-1\\@mobile-max > span\""
   ]
  },
  {
   "cell_type": "code",
   "execution_count": 177,
   "id": "28c6dd9d-6031-491c-be60-c0319dedc90a",
   "metadata": {},
   "outputs": [],
   "source": [
    "interprets = [elem.get_text().replace(\"\\n\",\"\").replace(\"\\t\",\"\") for elem in soup.select(interpretor_selector_list)]"
   ]
  },
  {
   "cell_type": "code",
   "execution_count": 178,
   "id": "31ad2334-e805-4896-b744-527148fe4d3a",
   "metadata": {},
   "outputs": [
    {
     "data": {
      "text/plain": [
       "100"
      ]
     },
     "execution_count": 178,
     "metadata": {},
     "output_type": "execute_result"
    }
   ],
   "source": [
    "len(interprets)"
   ]
  },
  {
   "cell_type": "markdown",
   "id": "c177e077-288e-4658-8e7e-c9443a61af8c",
   "metadata": {},
   "source": [
    "### Getting song titles:"
   ]
  },
  {
   "cell_type": "markdown",
   "id": "01bebfc6-9b2e-4b98-b918-e911ebed398b",
   "metadata": {},
   "source": [
    "Get selector for song titles:"
   ]
  },
  {
   "cell_type": "code",
   "execution_count": 179,
   "id": "4fe40215-563e-471b-9788-6428ffd1173f",
   "metadata": {},
   "outputs": [],
   "source": [
    "title_selector_list = \"ul > li.o-chart-results-list__item.\\/\\/.lrv-u-flex-grow-1.lrv-u-flex.lrv-u-flex-direction-column.lrv-u-justify-content-center.lrv-u-border-b-1.u-border-b-0\\@mobile-max.lrv-u-border-color-grey-light.lrv-u-padding-l-1\\@mobile-max > h3\""
   ]
  },
  {
   "cell_type": "code",
   "execution_count": 180,
   "id": "345be1c6-a92a-46c5-9d73-e607bf781044",
   "metadata": {},
   "outputs": [
    {
     "data": {
      "text/plain": [
       "'First Class'"
      ]
     },
     "execution_count": 180,
     "metadata": {},
     "output_type": "execute_result"
    }
   ],
   "source": [
    "soup.select(title_selector)[0].get_text().replace(\"\\n\",\"\").replace(\"\\t\",\"\")"
   ]
  },
  {
   "cell_type": "markdown",
   "id": "e7e10e2a-05ff-4c90-a66f-81a4c4f21ea9",
   "metadata": {},
   "source": [
    "Get list of titles:"
   ]
  },
  {
   "cell_type": "code",
   "execution_count": 181,
   "id": "a75c5f35-4805-476b-a0e3-ea5833722f79",
   "metadata": {},
   "outputs": [],
   "source": [
    "titles = [elem.get_text().replace(\"\\n\",\"\").replace(\"\\t\",\"\") for elem in soup.select(title_selector_list)]"
   ]
  },
  {
   "cell_type": "code",
   "execution_count": 182,
   "id": "793072fb-6f66-4a0c-9608-f72489e5dc1a",
   "metadata": {},
   "outputs": [
    {
     "data": {
      "text/plain": [
       "100"
      ]
     },
     "execution_count": 182,
     "metadata": {},
     "output_type": "execute_result"
    }
   ],
   "source": [
    "len(titles)"
   ]
  },
  {
   "cell_type": "markdown",
   "id": "b4ba2245-cce9-4db1-9af1-b456e579c659",
   "metadata": {},
   "source": [
    "### Get Position:"
   ]
  },
  {
   "cell_type": "code",
   "execution_count": 183,
   "id": "f525cfea-12fd-4994-92ba-78819c9ac90b",
   "metadata": {},
   "outputs": [],
   "source": [
    "pos_selector = 'span.c-label.a-font-primary-bold-l.u-font-size-32\\@tablet.u-letter-spacing-0080\\@tablet'"
   ]
  },
  {
   "cell_type": "code",
   "execution_count": 184,
   "id": "3c0f3def-d62b-41c4-84b3-8ace330021e5",
   "metadata": {},
   "outputs": [
    {
     "data": {
      "text/plain": [
       "'\\n\\t\\n\\t1\\n'"
      ]
     },
     "execution_count": 184,
     "metadata": {},
     "output_type": "execute_result"
    }
   ],
   "source": [
    "soup.select(pos_selector)[0].get_text()"
   ]
  },
  {
   "cell_type": "code",
   "execution_count": 185,
   "id": "b1dd7f4d-7e22-4c10-861a-e9e812b2ee54",
   "metadata": {},
   "outputs": [],
   "source": [
    "position = [elem.get_text().replace(\"\\n\",\"\").replace(\"\\t\",\"\") for elem in soup.select(pos_selector)]"
   ]
  },
  {
   "cell_type": "code",
   "execution_count": 186,
   "id": "7119c140-5b20-4694-b979-320ee963202a",
   "metadata": {},
   "outputs": [
    {
     "data": {
      "text/plain": [
       "100"
      ]
     },
     "execution_count": 186,
     "metadata": {},
     "output_type": "execute_result"
    }
   ],
   "source": [
    "len(position)"
   ]
  },
  {
   "cell_type": "markdown",
   "id": "18151522-d42d-4bd7-98be-a609f64f2bde",
   "metadata": {},
   "source": [
    "### Get Last Week Position and Peak Position:"
   ]
  },
  {
   "cell_type": "code",
   "execution_count": 187,
   "id": "26aee2c8-ae43-4a3f-a2bd-3cdabdd5a197",
   "metadata": {},
   "outputs": [],
   "source": [
    "last_pos_selector = 'ul > li.lrv-u-width-100p > ul > li:nth-child(4) > span'"
   ]
  },
  {
   "cell_type": "code",
   "execution_count": 188,
   "id": "b39b66e4-2a88-4a4d-be5f-29294d675be6",
   "metadata": {},
   "outputs": [
    {
     "data": {
      "text/plain": [
       "<span class=\"c-label a-font-primary-bold-l a-font-primary-m@mobile-max u-font-weight-normal@mobile-max lrv-u-padding-tb-050@mobile-max u-font-size-32@tablet\">\n",
       "\t\n",
       "\t-\n",
       "</span>"
      ]
     },
     "execution_count": 188,
     "metadata": {},
     "output_type": "execute_result"
    }
   ],
   "source": [
    "soup.select(last_pos_selector)[0]"
   ]
  },
  {
   "cell_type": "code",
   "execution_count": 189,
   "id": "6b8b82d6-644f-4072-a458-21db2e49ff6b",
   "metadata": {},
   "outputs": [],
   "source": [
    "last_position = [elem.get_text().replace(\"\\n\",\"\").replace(\"\\t\",\"\") for elem in soup.select(last_pos_selector)]"
   ]
  },
  {
   "cell_type": "code",
   "execution_count": 190,
   "id": "d7f74eed-0dfc-44d1-aed4-56220a87feaa",
   "metadata": {},
   "outputs": [],
   "source": [
    "last_week_pos = last_position[0::2]"
   ]
  },
  {
   "cell_type": "code",
   "execution_count": 191,
   "id": "dddcad75-e5d0-4310-b020-d061288cf946",
   "metadata": {},
   "outputs": [
    {
     "data": {
      "text/plain": [
       "100"
      ]
     },
     "execution_count": 191,
     "metadata": {},
     "output_type": "execute_result"
    }
   ],
   "source": [
    "len(last_week_pos)"
   ]
  },
  {
   "cell_type": "code",
   "execution_count": 192,
   "id": "9f0627c8-3b64-43a2-a8b6-999a87348b22",
   "metadata": {},
   "outputs": [],
   "source": [
    "peak_pos = last_position[1::2]"
   ]
  },
  {
   "cell_type": "markdown",
   "id": "fc6aa584-d968-4397-94dd-0525d88c40f6",
   "metadata": {},
   "source": [
    "### Build dataframe"
   ]
  },
  {
   "cell_type": "code",
   "execution_count": 193,
   "id": "e5a3cb93-4a92-49c9-8dbc-ef9f6e3d71b6",
   "metadata": {},
   "outputs": [
    {
     "data": {
      "text/html": [
       "<div>\n",
       "<style scoped>\n",
       "    .dataframe tbody tr th:only-of-type {\n",
       "        vertical-align: middle;\n",
       "    }\n",
       "\n",
       "    .dataframe tbody tr th {\n",
       "        vertical-align: top;\n",
       "    }\n",
       "\n",
       "    .dataframe thead th {\n",
       "        text-align: right;\n",
       "    }\n",
       "</style>\n",
       "<table border=\"1\" class=\"dataframe\">\n",
       "  <thead>\n",
       "    <tr style=\"text-align: right;\">\n",
       "      <th></th>\n",
       "      <th>last_week</th>\n",
       "      <th>peak</th>\n",
       "    </tr>\n",
       "  </thead>\n",
       "  <tbody>\n",
       "    <tr>\n",
       "      <th>0</th>\n",
       "      <td>-</td>\n",
       "      <td>1</td>\n",
       "    </tr>\n",
       "    <tr>\n",
       "      <th>1</th>\n",
       "      <td>1</td>\n",
       "      <td>1</td>\n",
       "    </tr>\n",
       "    <tr>\n",
       "      <th>2</th>\n",
       "      <td>2</td>\n",
       "      <td>1</td>\n",
       "    </tr>\n",
       "    <tr>\n",
       "      <th>3</th>\n",
       "      <td>3</td>\n",
       "      <td>3</td>\n",
       "    </tr>\n",
       "    <tr>\n",
       "      <th>4</th>\n",
       "      <td>5</td>\n",
       "      <td>5</td>\n",
       "    </tr>\n",
       "    <tr>\n",
       "      <th>...</th>\n",
       "      <td>...</td>\n",
       "      <td>...</td>\n",
       "    </tr>\n",
       "    <tr>\n",
       "      <th>95</th>\n",
       "      <td>85</td>\n",
       "      <td>77</td>\n",
       "    </tr>\n",
       "    <tr>\n",
       "      <th>96</th>\n",
       "      <td>-</td>\n",
       "      <td>97</td>\n",
       "    </tr>\n",
       "    <tr>\n",
       "      <th>97</th>\n",
       "      <td>99</td>\n",
       "      <td>98</td>\n",
       "    </tr>\n",
       "    <tr>\n",
       "      <th>98</th>\n",
       "      <td>-</td>\n",
       "      <td>73</td>\n",
       "    </tr>\n",
       "    <tr>\n",
       "      <th>99</th>\n",
       "      <td>-</td>\n",
       "      <td>100</td>\n",
       "    </tr>\n",
       "  </tbody>\n",
       "</table>\n",
       "<p>100 rows × 2 columns</p>\n",
       "</div>"
      ],
      "text/plain": [
       "   last_week peak\n",
       "0          -    1\n",
       "1          1    1\n",
       "2          2    1\n",
       "3          3    3\n",
       "4          5    5\n",
       "..       ...  ...\n",
       "95        85   77\n",
       "96         -   97\n",
       "97        99   98\n",
       "98         -   73\n",
       "99         -  100\n",
       "\n",
       "[100 rows x 2 columns]"
      ]
     },
     "execution_count": 193,
     "metadata": {},
     "output_type": "execute_result"
    }
   ],
   "source": [
    "pd.DataFrame({'last_week': last_week_pos, 'peak':peak_pos})"
   ]
  },
  {
   "cell_type": "code",
   "execution_count": 219,
   "id": "a254f674-fa07-49fc-833a-c068bc0bb124",
   "metadata": {},
   "outputs": [],
   "source": [
    "BillboardTop100df = pd.DataFrame({'position': position, 'interpret': interprets, 'title':titles, 'last_week':last_week_pos, 'peak':peak_pos, 'week_date': week_date, 'week_nr':week_nr})"
   ]
  },
  {
   "cell_type": "code",
   "execution_count": 220,
   "id": "7436b432-2342-43e2-9269-6d2a1b01373c",
   "metadata": {},
   "outputs": [
    {
     "data": {
      "text/html": [
       "<div>\n",
       "<style scoped>\n",
       "    .dataframe tbody tr th:only-of-type {\n",
       "        vertical-align: middle;\n",
       "    }\n",
       "\n",
       "    .dataframe tbody tr th {\n",
       "        vertical-align: top;\n",
       "    }\n",
       "\n",
       "    .dataframe thead th {\n",
       "        text-align: right;\n",
       "    }\n",
       "</style>\n",
       "<table border=\"1\" class=\"dataframe\">\n",
       "  <thead>\n",
       "    <tr style=\"text-align: right;\">\n",
       "      <th></th>\n",
       "      <th>position</th>\n",
       "      <th>interpret</th>\n",
       "      <th>title</th>\n",
       "      <th>last_week</th>\n",
       "      <th>peak</th>\n",
       "      <th>week_date</th>\n",
       "      <th>week_nr</th>\n",
       "    </tr>\n",
       "  </thead>\n",
       "  <tbody>\n",
       "    <tr>\n",
       "      <th>0</th>\n",
       "      <td>1</td>\n",
       "      <td>Jack Harlow</td>\n",
       "      <td>First Class</td>\n",
       "      <td>-</td>\n",
       "      <td>1</td>\n",
       "      <td>2022-04-23</td>\n",
       "      <td>16</td>\n",
       "    </tr>\n",
       "    <tr>\n",
       "      <th>1</th>\n",
       "      <td>2</td>\n",
       "      <td>Harry Styles</td>\n",
       "      <td>As It Was</td>\n",
       "      <td>1</td>\n",
       "      <td>1</td>\n",
       "      <td>2022-04-23</td>\n",
       "      <td>16</td>\n",
       "    </tr>\n",
       "    <tr>\n",
       "      <th>2</th>\n",
       "      <td>3</td>\n",
       "      <td>Glass Animals</td>\n",
       "      <td>Heat Waves</td>\n",
       "      <td>2</td>\n",
       "      <td>1</td>\n",
       "      <td>2022-04-23</td>\n",
       "      <td>16</td>\n",
       "    </tr>\n",
       "    <tr>\n",
       "      <th>3</th>\n",
       "      <td>4</td>\n",
       "      <td>Latto</td>\n",
       "      <td>Big Energy</td>\n",
       "      <td>3</td>\n",
       "      <td>3</td>\n",
       "      <td>2022-04-23</td>\n",
       "      <td>16</td>\n",
       "    </tr>\n",
       "    <tr>\n",
       "      <th>4</th>\n",
       "      <td>5</td>\n",
       "      <td>Imagine Dragons X JID</td>\n",
       "      <td>Enemy</td>\n",
       "      <td>5</td>\n",
       "      <td>5</td>\n",
       "      <td>2022-04-23</td>\n",
       "      <td>16</td>\n",
       "    </tr>\n",
       "    <tr>\n",
       "      <th>...</th>\n",
       "      <td>...</td>\n",
       "      <td>...</td>\n",
       "      <td>...</td>\n",
       "      <td>...</td>\n",
       "      <td>...</td>\n",
       "      <td>...</td>\n",
       "      <td>...</td>\n",
       "    </tr>\n",
       "    <tr>\n",
       "      <th>95</th>\n",
       "      <td>96</td>\n",
       "      <td>Lucky Daye</td>\n",
       "      <td>Over</td>\n",
       "      <td>85</td>\n",
       "      <td>77</td>\n",
       "      <td>2022-04-23</td>\n",
       "      <td>16</td>\n",
       "    </tr>\n",
       "    <tr>\n",
       "      <th>96</th>\n",
       "      <td>97</td>\n",
       "      <td>Pusha T Featuring JAY-Z &amp; Pharrell Williams</td>\n",
       "      <td>Neck &amp; Wrist</td>\n",
       "      <td>-</td>\n",
       "      <td>97</td>\n",
       "      <td>2022-04-23</td>\n",
       "      <td>16</td>\n",
       "    </tr>\n",
       "    <tr>\n",
       "      <th>97</th>\n",
       "      <td>98</td>\n",
       "      <td>Rauw Alejandro &amp; Chencho Corleone</td>\n",
       "      <td>Desesperados</td>\n",
       "      <td>99</td>\n",
       "      <td>98</td>\n",
       "      <td>2022-04-23</td>\n",
       "      <td>16</td>\n",
       "    </tr>\n",
       "    <tr>\n",
       "      <th>98</th>\n",
       "      <td>99</td>\n",
       "      <td>Daddy Yankee &amp; Bad Bunny</td>\n",
       "      <td>X Ultima Vez</td>\n",
       "      <td>-</td>\n",
       "      <td>73</td>\n",
       "      <td>2022-04-23</td>\n",
       "      <td>16</td>\n",
       "    </tr>\n",
       "    <tr>\n",
       "      <th>99</th>\n",
       "      <td>100</td>\n",
       "      <td>BRELAND Featuring Thomas Rhett</td>\n",
       "      <td>Praise The Lord</td>\n",
       "      <td>-</td>\n",
       "      <td>100</td>\n",
       "      <td>2022-04-23</td>\n",
       "      <td>16</td>\n",
       "    </tr>\n",
       "  </tbody>\n",
       "</table>\n",
       "<p>100 rows × 7 columns</p>\n",
       "</div>"
      ],
      "text/plain": [
       "   position                                    interpret            title  \\\n",
       "0         1                                  Jack Harlow      First Class   \n",
       "1         2                                 Harry Styles        As It Was   \n",
       "2         3                                Glass Animals       Heat Waves   \n",
       "3         4                                        Latto       Big Energy   \n",
       "4         5                        Imagine Dragons X JID            Enemy   \n",
       "..      ...                                          ...              ...   \n",
       "95       96                                   Lucky Daye             Over   \n",
       "96       97  Pusha T Featuring JAY-Z & Pharrell Williams     Neck & Wrist   \n",
       "97       98            Rauw Alejandro & Chencho Corleone     Desesperados   \n",
       "98       99                     Daddy Yankee & Bad Bunny     X Ultima Vez   \n",
       "99      100               BRELAND Featuring Thomas Rhett  Praise The Lord   \n",
       "\n",
       "   last_week peak  week_date  week_nr  \n",
       "0          -    1 2022-04-23       16  \n",
       "1          1    1 2022-04-23       16  \n",
       "2          2    1 2022-04-23       16  \n",
       "3          3    3 2022-04-23       16  \n",
       "4          5    5 2022-04-23       16  \n",
       "..       ...  ...        ...      ...  \n",
       "95        85   77 2022-04-23       16  \n",
       "96         -   97 2022-04-23       16  \n",
       "97        99   98 2022-04-23       16  \n",
       "98         -   73 2022-04-23       16  \n",
       "99         -  100 2022-04-23       16  \n",
       "\n",
       "[100 rows x 7 columns]"
      ]
     },
     "execution_count": 220,
     "metadata": {},
     "output_type": "execute_result"
    }
   ],
   "source": [
    "BillboardTop100df"
   ]
  },
  {
   "cell_type": "code",
   "execution_count": 221,
   "id": "7111883c-c78e-42dd-aac1-99b1be540dd1",
   "metadata": {},
   "outputs": [],
   "source": [
    "BillboardTop100df.to_csv('billboardTop100' + week + '.csv')"
   ]
  }
 ],
 "metadata": {
  "kernelspec": {
   "display_name": "Python 3 (ipykernel)",
   "language": "python",
   "name": "python3"
  },
  "language_info": {
   "codemirror_mode": {
    "name": "ipython",
    "version": 3
   },
   "file_extension": ".py",
   "mimetype": "text/x-python",
   "name": "python",
   "nbconvert_exporter": "python",
   "pygments_lexer": "ipython3",
   "version": "3.9.7"
  }
 },
 "nbformat": 4,
 "nbformat_minor": 5
}
