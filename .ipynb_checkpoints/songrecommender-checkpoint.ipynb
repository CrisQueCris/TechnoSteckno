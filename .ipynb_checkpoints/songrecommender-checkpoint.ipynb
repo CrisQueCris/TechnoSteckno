{
 "cells": [
  {
   "cell_type": "markdown",
   "id": "84b78f5a-9b8a-4aa3-9935-69c377515a77",
   "metadata": {},
   "source": [
    "Get recommendation from song input based on model.pickle. "
   ]
  },
  {
   "cell_type": "code",
   "execution_count": 1,
   "id": "0496835c-8bbb-49e7-b039-efcbd846d860",
   "metadata": {},
   "outputs": [],
   "source": [
    "from songrecommender import get_song_df, showID_in_player\n",
    "from scalingclustering import load_pkl, predict_kmeans\n",
    "import pandas as pd\n",
    "from IPython.display import IFrame"
   ]
  },
  {
   "cell_type": "markdown",
   "id": "6fc898d6-a324-4e18-911d-513fee4fbd11",
   "metadata": {},
   "source": [
    "1. read song_result\n",
    "2. search song on spotify\n",
    "3. get audio features of song\n",
    "4. import pickle model\n",
    "5. predict cluster of song\n",
    "6. chose possible songs from cluster\n",
    "7. run harmonic mixing to filter possible songs\n"
   ]
  },
  {
   "cell_type": "markdown",
   "id": "9684e23c-5bba-450c-af54-03f94c7c04b7",
   "metadata": {},
   "source": [
    "## 1. read song_result ## 2. search song on spotify ## 3. get audio features of song"
   ]
  },
  {
   "cell_type": "code",
   "execution_count": 2,
   "id": "5b8d08c0-d39b-4ca2-80d6-12924946c039",
   "metadata": {},
   "outputs": [
    {
     "name": "stdin",
     "output_type": "stream",
     "text": [
      "The artist of your song: alcoholic\n"
     ]
    }
   ],
   "source": [
    "song_df = get_song_df()"
   ]
  },
  {
   "cell_type": "code",
   "execution_count": null,
   "id": "76d0c74c-90eb-49d4-aeb2-6b5f5490c6fa",
   "metadata": {},
   "outputs": [],
   "source": []
  },
  {
   "cell_type": "code",
   "execution_count": 3,
   "id": "3efe7f1e-9d18-49f0-a006-848af86b83e1",
   "metadata": {},
   "outputs": [
    {
     "name": "stdout",
     "output_type": "stream",
     "text": [
      "This is your recommendation:\n"
     ]
    },
    {
     "data": {
      "text/html": [
       "\n",
       "        <iframe\n",
       "            width=\"320\"\n",
       "            height=\"80\"\n",
       "            src=\"https://open.spotify.com/embed/track/1Xe4r9nlMwSEKIjutoul2z?frameborder=0&allowtransparency=true&allow=encrypted-media\"\n",
       "            frameborder=\"0\"\n",
       "            allowfullscreen\n",
       "            \n",
       "        ></iframe>\n",
       "        "
      ],
      "text/plain": [
       "<IPython.lib.display.IFrame at 0x1d6df5b1c10>"
      ]
     },
     "execution_count": 3,
     "metadata": {},
     "output_type": "execute_result"
    }
   ],
   "source": [
    "player_user_choice = showID_in_player(song_df.loc[0, 'TrackID'])\n",
    "print(f'This is your recommendation:')\n",
    "player_user_choice"
   ]
  },
  {
   "cell_type": "markdown",
   "id": "c91a4253-35b6-4eb8-875b-ea3e9a463f05",
   "metadata": {},
   "source": [
    "## 4. import pickle model"
   ]
  },
  {
   "cell_type": "code",
   "execution_count": 4,
   "id": "92abf002-ed8c-4cff-9f74-a4244c61d3cb",
   "metadata": {},
   "outputs": [],
   "source": [
    "scaler = load_pkl(filename='model/scalerKmeans.pickle')\n",
    "kmeans = load_pkl(filename = 'model/modelKmeans.pickle')\n",
    "X = load_pkl(filename=  'model/X.pickle')\n",
    "X_scaled_df = load_pkl(filename ='model/X_scaled_df')\n",
    "sp_library = load_pkl(filename ='model/sp_library.pickle')"
   ]
  },
  {
   "cell_type": "markdown",
   "id": "7885b62f-7831-426c-ab8f-ff2c2d3ca1e9",
   "metadata": {},
   "source": [
    "## 5. scale song_df"
   ]
  },
  {
   "cell_type": "code",
   "execution_count": 5,
   "id": "3315a20b-a9f1-47a3-8242-9e4563b11377",
   "metadata": {},
   "outputs": [],
   "source": [
    "song_df['Year'] = pd.to_datetime(song_df['ReleaseYear'], format='%Y-%m-%d')\n",
    "song_df['Year'] = pd.DatetimeIndex(song_df['Year']).year"
   ]
  },
  {
   "cell_type": "code",
   "execution_count": 6,
   "id": "b3cbeaaa-3d7e-4a82-b1ce-120d3e0a25e2",
   "metadata": {},
   "outputs": [
    {
     "data": {
      "text/plain": [
       "Index(['danceability', 'energy', 'loudness', 'speechiness', 'acousticness',\n",
       "       'instrumentalness', 'liveness', 'valence', 'tempo', 'Year',\n",
       "       'Popularity'],\n",
       "      dtype='object')"
      ]
     },
     "execution_count": 6,
     "metadata": {},
     "output_type": "execute_result"
    }
   ],
   "source": [
    "X_scaled_df.columns"
   ]
  },
  {
   "cell_type": "code",
   "execution_count": 7,
   "id": "8cea5acb-8403-43d5-a8b0-fb9832dd3ee3",
   "metadata": {},
   "outputs": [],
   "source": [
    "song_df = song_df[X_scaled_df.columns]"
   ]
  },
  {
   "cell_type": "code",
   "execution_count": 8,
   "id": "b8c1ec47-8ab8-4827-b55a-7e9a6e429984",
   "metadata": {},
   "outputs": [
    {
     "data": {
      "text/plain": [
       "Index(['danceability', 'energy', 'loudness', 'speechiness', 'acousticness',\n",
       "       'instrumentalness', 'liveness', 'valence', 'tempo', 'Year',\n",
       "       'Popularity'],\n",
       "      dtype='object')"
      ]
     },
     "execution_count": 8,
     "metadata": {},
     "output_type": "execute_result"
    }
   ],
   "source": [
    "song_df.columns"
   ]
  },
  {
   "cell_type": "code",
   "execution_count": 9,
   "id": "1b99d957-41db-443c-b34d-bb5e89ab8db1",
   "metadata": {},
   "outputs": [
    {
     "data": {
      "text/plain": [
       "Index(['danceability', 'energy', 'loudness', 'speechiness', 'acousticness',\n",
       "       'instrumentalness', 'liveness', 'valence', 'tempo', 'Year',\n",
       "       'Popularity'],\n",
       "      dtype='object')"
      ]
     },
     "execution_count": 9,
     "metadata": {},
     "output_type": "execute_result"
    }
   ],
   "source": [
    "X_scaled_df.columns"
   ]
  },
  {
   "cell_type": "code",
   "execution_count": 10,
   "id": "f619b2d0-a853-46dc-9ef2-1ab57ff22bc6",
   "metadata": {},
   "outputs": [],
   "source": [
    "song_df_scaled = scaler.transform(song_df)"
   ]
  },
  {
   "cell_type": "code",
   "execution_count": 11,
   "id": "0cccb9ec-8167-464c-b594-9538e6707ab5",
   "metadata": {},
   "outputs": [
    {
     "data": {
      "text/plain": [
       "array([[-1.15259653, -0.59345684,  0.06437574, -0.61721915,  0.05607474,\n",
       "        -1.19186592,  0.47405973, -0.20159047, -0.59935358, -1.65800365,\n",
       "         0.07405581]])"
      ]
     },
     "execution_count": 11,
     "metadata": {},
     "output_type": "execute_result"
    }
   ],
   "source": [
    "song_df_scaled"
   ]
  },
  {
   "cell_type": "code",
   "execution_count": 12,
   "id": "be98fd23-c737-4270-8736-9b3fbfa33b99",
   "metadata": {},
   "outputs": [
    {
     "name": "stderr",
     "output_type": "stream",
     "text": [
      "C:\\Users\\Lenovo\\anaconda3\\envs\\DA_Env\\lib\\site-packages\\sklearn\\base.py:450: UserWarning: X does not have valid feature names, but KMeans was fitted with feature names\n",
      "  warnings.warn(\n"
     ]
    },
    {
     "data": {
      "image/png": "[encoded data removed]",
      "text/plain": [
       "<Figure size 576x396 with 1 Axes>"
      ]
     },
     "metadata": {},
     "output_type": "display_data"
    }
   ],
   "source": [
    "song_label, song_cluster = predict_kmeans(song_df_scaled, X, kmeans)"
   ]
  },
  {
   "cell_type": "code",
   "execution_count": 13,
   "id": "b7244618-b8f2-4d3c-bf67-033031a011ca",
   "metadata": {},
   "outputs": [],
   "source": [
    "song_df['label'] = song_label"
   ]
  },
  {
   "cell_type": "code",
   "execution_count": 14,
   "id": "662669f9-7bad-4601-9d86-9fe015214935",
   "metadata": {},
   "outputs": [
    {
     "data": {
      "text/html": [
       "<div>\n",
       "<style scoped>\n",
       "    .dataframe tbody tr th:only-of-type {\n",
       "        vertical-align: middle;\n",
       "    }\n",
       "\n",
       "    .dataframe tbody tr th {\n",
       "        vertical-align: top;\n",
       "    }\n",
       "\n",
       "    .dataframe thead th {\n",
       "        text-align: right;\n",
       "    }\n",
       "</style>\n",
       "<table border=\"1\" class=\"dataframe\">\n",
       "  <thead>\n",
       "    <tr style=\"text-align: right;\">\n",
       "      <th></th>\n",
       "      <th>danceability</th>\n",
       "      <th>energy</th>\n",
       "      <th>loudness</th>\n",
       "      <th>speechiness</th>\n",
       "      <th>acousticness</th>\n",
       "      <th>instrumentalness</th>\n",
       "      <th>liveness</th>\n",
       "      <th>valence</th>\n",
       "      <th>tempo</th>\n",
       "      <th>Year</th>\n",
       "      <th>Popularity</th>\n",
       "      <th>label</th>\n",
       "    </tr>\n",
       "  </thead>\n",
       "  <tbody>\n",
       "    <tr>\n",
       "      <th>0</th>\n",
       "      <td>0.41</td>\n",
       "      <td>0.436</td>\n",
       "      <td>-9.496</td>\n",
       "      <td>0.0352</td>\n",
       "      <td>0.33</td>\n",
       "      <td>0</td>\n",
       "      <td>0.23</td>\n",
       "      <td>0.334</td>\n",
       "      <td>101.043</td>\n",
       "      <td>2001</td>\n",
       "      <td>42</td>\n",
       "      <td>5</td>\n",
       "    </tr>\n",
       "  </tbody>\n",
       "</table>\n",
       "</div>"
      ],
      "text/plain": [
       "  danceability energy loudness speechiness acousticness instrumentalness  \\\n",
       "0         0.41  0.436   -9.496      0.0352         0.33                0   \n",
       "\n",
       "  liveness valence    tempo  Year Popularity  label  \n",
       "0     0.23   0.334  101.043  2001         42      5  "
      ]
     },
     "execution_count": 14,
     "metadata": {},
     "output_type": "execute_result"
    }
   ],
   "source": [
    "song_df"
   ]
  },
  {
   "cell_type": "code",
   "execution_count": 15,
   "id": "b51e7079-cb42-45d9-8e65-a4259bcf3773",
   "metadata": {},
   "outputs": [
    {
     "data": {
      "text/plain": [
       "0     8\n",
       "1     0\n",
       "2     0\n",
       "3     8\n",
       "4     3\n",
       "     ..\n",
       "40    6\n",
       "41    2\n",
       "42    6\n",
       "43    2\n",
       "44    2\n",
       "Name: label, Length: 5404, dtype: int32"
      ]
     },
     "execution_count": 15,
     "metadata": {},
     "output_type": "execute_result"
    }
   ],
   "source": [
    "sp_library['label']"
   ]
  },
  {
   "cell_type": "code",
   "execution_count": null,
   "id": "86baf162-5bf8-4180-ae31-4d091e531129",
   "metadata": {},
   "outputs": [],
   "source": []
  },
  {
   "cell_type": "markdown",
   "id": "196947d0-a45a-410c-ad65-4530f616266c",
   "metadata": {},
   "source": [
    "## Get song suggestion from same cluster and show spotify player"
   ]
  },
  {
   "cell_type": "code",
   "execution_count": 16,
   "id": "25d4db8b-413a-4d9e-aa59-cfc5c967049d",
   "metadata": {},
   "outputs": [],
   "source": [
    "song_suggest_TrackID = sp_library[sp_library['label']==song_df['label'][0]].sample()['TrackID'].iloc[0]"
   ]
  },
  {
   "cell_type": "code",
   "execution_count": 17,
   "id": "f380bc1a-96e2-44c6-968e-3db29843931b",
   "metadata": {},
   "outputs": [
    {
     "data": {
      "text/plain": [
       "'1a6ktLZUBl9Ep9t8Qkz7Tj'"
      ]
     },
     "execution_count": 17,
     "metadata": {},
     "output_type": "execute_result"
    }
   ],
   "source": [
    "song_suggest_TrackID"
   ]
  },
  {
   "cell_type": "code",
   "execution_count": 18,
   "id": "8f29fe56-37b0-4599-b590-8baed41fe88d",
   "metadata": {},
   "outputs": [
    {
     "data": {
      "text/html": [
       "<div>\n",
       "<style scoped>\n",
       "    .dataframe tbody tr th:only-of-type {\n",
       "        vertical-align: middle;\n",
       "    }\n",
       "\n",
       "    .dataframe tbody tr th {\n",
       "        vertical-align: top;\n",
       "    }\n",
       "\n",
       "    .dataframe thead th {\n",
       "        text-align: right;\n",
       "    }\n",
       "</style>\n",
       "<table border=\"1\" class=\"dataframe\">\n",
       "  <thead>\n",
       "    <tr style=\"text-align: right;\">\n",
       "      <th></th>\n",
       "      <th>danceability</th>\n",
       "      <th>energy</th>\n",
       "      <th>loudness</th>\n",
       "      <th>speechiness</th>\n",
       "      <th>acousticness</th>\n",
       "      <th>instrumentalness</th>\n",
       "      <th>liveness</th>\n",
       "      <th>valence</th>\n",
       "      <th>tempo</th>\n",
       "      <th>Year</th>\n",
       "      <th>Popularity</th>\n",
       "      <th>label</th>\n",
       "    </tr>\n",
       "  </thead>\n",
       "  <tbody>\n",
       "    <tr>\n",
       "      <th>0</th>\n",
       "      <td>0.41</td>\n",
       "      <td>0.436</td>\n",
       "      <td>-9.496</td>\n",
       "      <td>0.0352</td>\n",
       "      <td>0.33</td>\n",
       "      <td>0</td>\n",
       "      <td>0.23</td>\n",
       "      <td>0.334</td>\n",
       "      <td>101.043</td>\n",
       "      <td>2001</td>\n",
       "      <td>42</td>\n",
       "      <td>5</td>\n",
       "    </tr>\n",
       "  </tbody>\n",
       "</table>\n",
       "</div>"
      ],
      "text/plain": [
       "  danceability energy loudness speechiness acousticness instrumentalness  \\\n",
       "0         0.41  0.436   -9.496      0.0352         0.33                0   \n",
       "\n",
       "  liveness valence    tempo  Year Popularity  label  \n",
       "0     0.23   0.334  101.043  2001         42      5  "
      ]
     },
     "execution_count": 18,
     "metadata": {},
     "output_type": "execute_result"
    }
   ],
   "source": [
    "song_df"
   ]
  },
  {
   "cell_type": "code",
   "execution_count": 19,
   "id": "5eb892ca-46c7-4240-b6b5-f2763209006a",
   "metadata": {},
   "outputs": [
    {
     "name": "stdout",
     "output_type": "stream",
     "text": [
      "This is your recommendation:\n"
     ]
    },
    {
     "data": {
      "text/html": [
       "\n",
       "        <iframe\n",
       "            width=\"320\"\n",
       "            height=\"80\"\n",
       "            src=\"https://open.spotify.com/embed/track/1a6ktLZUBl9Ep9t8Qkz7Tj?frameborder=0&allowtransparency=true&allow=encrypted-media\"\n",
       "            frameborder=\"0\"\n",
       "            allowfullscreen\n",
       "            \n",
       "        ></iframe>\n",
       "        "
      ],
      "text/plain": [
       "<IPython.lib.display.IFrame at 0x1d6e14faeb0>"
      ]
     },
     "execution_count": 19,
     "metadata": {},
     "output_type": "execute_result"
    }
   ],
   "source": [
    "player_recommendation = showID_in_player(song_suggest_TrackID)\n",
    "print(f'This is your recommendation:')\n",
    "player_recommendation\n"
   ]
  }
 ],
 "metadata": {
  "kernelspec": {
   "display_name": "Python 3 (ipykernel)",
   "language": "python",
   "name": "python3"
  },
  "language_info": {
   "codemirror_mode": {
    "name": "ipython",
    "version": 3
   },
   "file_extension": ".py",
   "mimetype": "text/x-python",
   "name": "python",
   "nbconvert_exporter": "python",
   "pygments_lexer": "ipython3",
   "version": "3.9.7"
  }
 },
 "nbformat": 4,
 "nbformat_minor": 5
}
