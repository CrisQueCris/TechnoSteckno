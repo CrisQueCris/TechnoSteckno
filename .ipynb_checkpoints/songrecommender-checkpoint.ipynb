{
 "cells": [
  {
   "cell_type": "markdown",
   "id": "84b78f5a-9b8a-4aa3-9935-69c377515a77",
   "metadata": {},
   "source": [
    "# Get a spotify song recommendation"
   ]
  },
  {
   "cell_type": "code",
   "execution_count": 1,
   "id": "0496835c-8bbb-49e7-b039-efcbd846d860",
   "metadata": {},
   "outputs": [],
   "source": [
    "from ScrapeLast10weeksBillboard import time_to_scrape\n",
    "from CheckHotNot import load_billboard_csv\n",
    "from CheckHotNot import check_if_hot\n",
    "from CheckHotNot import get_random_hot_song\n",
    "from songrecommender import show_if_hot\n",
    "from songrecommender import get_song_df, showID_in_player\n",
    "from scalingclustering import load_pkl, predict_kmeans\n",
    "import spotipy\n",
    "from spotipy.oauth2 import SpotifyClientCredentials\n",
    "import GSA\n",
    "import config\n",
    "import pandas as pd\n",
    "from IPython.display import IFrame\n",
    "from harmonicneighbours import translate_pc_cam, translate_cam_pc, harmonic_sibblings"
   ]
  },
  {
   "cell_type": "markdown",
   "id": "b451ae19-5146-4bee-b69f-18edc702c0e9",
   "metadata": {},
   "source": [
    "## 1. Check if we should scrape the Billboard."
   ]
  },
  {
   "cell_type": "markdown",
   "id": "6fc898d6-a324-4e18-911d-513fee4fbd11",
   "metadata": {},
   "source": [
    "Is it time to scrape the billboard100 songs? "
   ]
  },
  {
   "cell_type": "code",
   "execution_count": 2,
   "id": "f3237f9e-6d7d-47d8-b54f-2b1275406456",
   "metadata": {},
   "outputs": [
    {
     "name": "stdout",
     "output_type": "stream",
     "text": [
      "Our last data is from 2022-04-23\n"
     ]
    },
    {
     "name": "stdin",
     "output_type": "stream",
     "text": [
      "Would you like to get the current Top 100 now?(Y/N) n\n"
     ]
    }
   ],
   "source": [
    "time_to_scrape()"
   ]
  },
  {
   "cell_type": "markdown",
   "id": "d9c7166d-d591-4058-8b7c-5ceb8f4c4dd5",
   "metadata": {},
   "source": [
    "## 2. Get song title and check if it is hot right now:"
   ]
  },
  {
   "cell_type": "markdown",
   "id": "55f35b6f-4ed7-4b34-a16a-d5a1cda16adf",
   "metadata": {},
   "source": [
    "Get song input from user and check if it is in the Billboard Top100:"
   ]
  },
  {
   "cell_type": "code",
   "execution_count": 3,
   "id": "201c2408-6585-4a7e-aa27-9d14431f0045",
   "metadata": {},
   "outputs": [
    {
     "name": "stdin",
     "output_type": "stream",
     "text": [
      "Give me your song title! i want to break free\n"
     ]
    },
    {
     "name": "stdout",
     "output_type": "stream",
     "text": [
      "No song similar to i want to break free is hot right now.\n"
     ]
    }
   ],
   "source": [
    "result, user_input =  check_if_hot()"
   ]
  },
  {
   "cell_type": "markdown",
   "id": "a64b88b7-16da-45f4-a157-7312bc0154e9",
   "metadata": {},
   "source": [
    "If the song is hot another hot song is randomly selected. Alternatively we search for the title on spotify."
   ]
  },
  {
   "cell_type": "code",
   "execution_count": 4,
   "id": "6d93adca-b572-4050-b0c5-78d66b7a4ff7",
   "metadata": {
    "tags": []
   },
   "outputs": [
    {
     "name": "stdout",
     "output_type": "stream",
     "text": [
      "not hot process\n"
     ]
    },
    {
     "data": {
      "text/html": [
       "<div>\n",
       "<style scoped>\n",
       "    .dataframe tbody tr th:only-of-type {\n",
       "        vertical-align: middle;\n",
       "    }\n",
       "\n",
       "    .dataframe tbody tr th {\n",
       "        vertical-align: top;\n",
       "    }\n",
       "\n",
       "    .dataframe thead th {\n",
       "        text-align: right;\n",
       "    }\n",
       "</style>\n",
       "<table border=\"1\" class=\"dataframe\">\n",
       "  <thead>\n",
       "    <tr style=\"text-align: right;\">\n",
       "      <th></th>\n",
       "      <th>TrackName</th>\n",
       "      <th>TrackID</th>\n",
       "      <th>SampleURL</th>\n",
       "      <th>ReleaseYear</th>\n",
       "      <th>danceability</th>\n",
       "      <th>energy</th>\n",
       "      <th>loudness</th>\n",
       "      <th>speechiness</th>\n",
       "      <th>acousticness</th>\n",
       "      <th>instrumentalness</th>\n",
       "      <th>liveness</th>\n",
       "      <th>valence</th>\n",
       "      <th>tempo</th>\n",
       "      <th>key</th>\n",
       "      <th>mode</th>\n",
       "      <th>duration_ms</th>\n",
       "      <th>Popularity</th>\n",
       "    </tr>\n",
       "  </thead>\n",
       "  <tbody>\n",
       "    <tr>\n",
       "      <th>0</th>\n",
       "      <td>I Want To Break Free - Single Remix</td>\n",
       "      <td>2AkmdLbVKS1steeZdy8H1l</td>\n",
       "      <td>https://open.spotify.com/track/2AkmdLbVKS1stee...</td>\n",
       "      <td>1984-02-27</td>\n",
       "      <td>0.795</td>\n",
       "      <td>0.435</td>\n",
       "      <td>-8.927</td>\n",
       "      <td>0.0324</td>\n",
       "      <td>0.0841</td>\n",
       "      <td>0.00026</td>\n",
       "      <td>0.0763</td>\n",
       "      <td>0.596</td>\n",
       "      <td>108.95</td>\n",
       "      <td>4</td>\n",
       "      <td>1</td>\n",
       "      <td>258013</td>\n",
       "      <td>72</td>\n",
       "    </tr>\n",
       "  </tbody>\n",
       "</table>\n",
       "</div>"
      ],
      "text/plain": [
       "                             TrackName                 TrackID  \\\n",
       "0  I Want To Break Free - Single Remix  2AkmdLbVKS1steeZdy8H1l   \n",
       "\n",
       "                                           SampleURL ReleaseYear danceability  \\\n",
       "0  https://open.spotify.com/track/2AkmdLbVKS1stee...  1984-02-27        0.795   \n",
       "\n",
       "  energy loudness speechiness acousticness instrumentalness liveness valence  \\\n",
       "0  0.435   -8.927      0.0324       0.0841          0.00026   0.0763   0.596   \n",
       "\n",
       "    tempo key mode duration_ms Popularity  \n",
       "0  108.95   4    1      258013         72  "
      ]
     },
     "execution_count": 4,
     "metadata": {},
     "output_type": "execute_result"
    }
   ],
   "source": [
    "\n",
    "song_df = show_if_hot(result, user_input['title'])\n",
    "song_df\n",
    "\n",
    "    "
   ]
  },
  {
   "cell_type": "markdown",
   "id": "c91a4253-35b6-4eb8-875b-ea3e9a463f05",
   "metadata": {},
   "source": [
    "## 3. import pickle model\n",
    "\n",
    "We load the model to apply it to the song we found on spotify."
   ]
  },
  {
   "cell_type": "code",
   "execution_count": 5,
   "id": "92abf002-ed8c-4cff-9f74-a4244c61d3cb",
   "metadata": {},
   "outputs": [],
   "source": [
    "scaler = load_pkl(filename='model/scalerKmeans.pickle')\n",
    "kmeans = load_pkl(filename = 'model/modelKmeans.pickle')\n",
    "X = load_pkl(filename=  'model/X.pickle')\n",
    "X_scaled_df = load_pkl(filename ='model/X_scaled_df')\n",
    "sp_library = load_pkl(filename ='model/sp_library.pickle')"
   ]
  },
  {
   "cell_type": "code",
   "execution_count": 6,
   "id": "06d9f548-747d-4044-8971-c341d360e7da",
   "metadata": {},
   "outputs": [
    {
     "data": {
      "text/plain": [
       "['__class__',\n",
       " '__delattr__',\n",
       " '__dict__',\n",
       " '__dir__',\n",
       " '__doc__',\n",
       " '__eq__',\n",
       " '__format__',\n",
       " '__ge__',\n",
       " '__getattribute__',\n",
       " '__getstate__',\n",
       " '__gt__',\n",
       " '__hash__',\n",
       " '__init__',\n",
       " '__init_subclass__',\n",
       " '__le__',\n",
       " '__lt__',\n",
       " '__module__',\n",
       " '__ne__',\n",
       " '__new__',\n",
       " '__reduce__',\n",
       " '__reduce_ex__',\n",
       " '__repr__',\n",
       " '__setattr__',\n",
       " '__setstate__',\n",
       " '__sizeof__',\n",
       " '__str__',\n",
       " '__subclasshook__',\n",
       " '__weakref__',\n",
       " '_algorithm',\n",
       " '_check_feature_names',\n",
       " '_check_mkl_vcomp',\n",
       " '_check_n_features',\n",
       " '_check_params',\n",
       " '_check_test_data',\n",
       " '_estimator_type',\n",
       " '_get_param_names',\n",
       " '_get_tags',\n",
       " '_init_centroids',\n",
       " '_more_tags',\n",
       " '_n_init',\n",
       " '_n_threads',\n",
       " '_repr_html_',\n",
       " '_repr_html_inner',\n",
       " '_repr_mimebundle_',\n",
       " '_tol',\n",
       " '_transform',\n",
       " '_validate_center_shape',\n",
       " '_validate_data',\n",
       " 'algorithm',\n",
       " 'cluster_centers_',\n",
       " 'copy_x',\n",
       " 'feature_names_in_',\n",
       " 'fit',\n",
       " 'fit_predict',\n",
       " 'fit_transform',\n",
       " 'get_params',\n",
       " 'inertia_',\n",
       " 'init',\n",
       " 'labels_',\n",
       " 'max_iter',\n",
       " 'n_clusters',\n",
       " 'n_features_in_',\n",
       " 'n_init',\n",
       " 'n_iter_',\n",
       " 'predict',\n",
       " 'random_state',\n",
       " 'score',\n",
       " 'set_params',\n",
       " 'tol',\n",
       " 'transform',\n",
       " 'verbose']"
      ]
     },
     "execution_count": 6,
     "metadata": {},
     "output_type": "execute_result"
    }
   ],
   "source": [
    "dir(kmeans)"
   ]
  },
  {
   "cell_type": "markdown",
   "id": "7885b62f-7831-426c-ab8f-ff2c2d3ca1e9",
   "metadata": {},
   "source": [
    "## 4. scale song\n",
    "\n",
    "We scale the song and predict the cluster: "
   ]
  },
  {
   "cell_type": "code",
   "execution_count": 7,
   "id": "3315a20b-a9f1-47a3-8242-9e4563b11377",
   "metadata": {},
   "outputs": [],
   "source": [
    "song_df['Year'] = pd.to_datetime(song_df['ReleaseYear'], format='%Y-%m-%d')\n",
    "song_df['Year'] = pd.DatetimeIndex(song_df['Year']).year"
   ]
  },
  {
   "cell_type": "code",
   "execution_count": 8,
   "id": "f619b2d0-a853-46dc-9ef2-1ab57ff22bc6",
   "metadata": {},
   "outputs": [],
   "source": [
    "song_df_scaled = scaler.transform(song_df[X_scaled_df.columns])"
   ]
  },
  {
   "cell_type": "code",
   "execution_count": 9,
   "id": "be98fd23-c737-4270-8736-9b3fbfa33b99",
   "metadata": {},
   "outputs": [
    {
     "name": "stderr",
     "output_type": "stream",
     "text": [
      "/Users/christoph/opt/anaconda3/envs/DA_Env/lib/python3.10/site-packages/sklearn/base.py:450: UserWarning: X does not have valid feature names, but KMeans was fitted with feature names\n",
      "  warnings.warn(\n"
     ]
    }
   ],
   "source": [
    "song_label, song_cluster = predict_kmeans(song_df_scaled, X, kmeans)"
   ]
  },
  {
   "cell_type": "markdown",
   "id": "76e45ae2-7c5c-42a3-8c18-bd5e23aa057a",
   "metadata": {},
   "source": [
    "we add the cluster as a label"
   ]
  },
  {
   "cell_type": "code",
   "execution_count": 10,
   "id": "b7244618-b8f2-4d3c-bf67-033031a011ca",
   "metadata": {},
   "outputs": [],
   "source": [
    "song_df['label'] = song_label"
   ]
  },
  {
   "cell_type": "markdown",
   "id": "196947d0-a45a-410c-ad65-4530f616266c",
   "metadata": {},
   "source": [
    "## 5. Get song suggestion from same cluster and show spotify player"
   ]
  },
  {
   "cell_type": "markdown",
   "id": "80dc91ed-12ca-48bf-91dc-236390816953",
   "metadata": {},
   "source": [
    "### Key/mode: Get harmonic neighbours:"
   ]
  },
  {
   "cell_type": "code",
   "execution_count": 11,
   "id": "b2ffec0c-a494-4628-8bdf-29bb37ddd036",
   "metadata": {},
   "outputs": [
    {
     "data": {
      "text/plain": [
       "(4, 1)"
      ]
     },
     "execution_count": 11,
     "metadata": {},
     "output_type": "execute_result"
    }
   ],
   "source": [
    "song_key = song_df['key'].iloc[0]\n",
    "song_mode = song_df['mode'].iloc[0]\n",
    "song_key, song_mode"
   ]
  },
  {
   "cell_type": "markdown",
   "id": "af7b77c7-6db4-4600-9466-c31e3d906a0c",
   "metadata": {},
   "source": [
    "Translate key and mode to camelot:"
   ]
  },
  {
   "cell_type": "code",
   "execution_count": 12,
   "id": "ef08bcd7-192c-4afd-9120-3161bec62d2b",
   "metadata": {},
   "outputs": [
    {
     "ename": "IndexError",
     "evalue": "list index out of range",
     "output_type": "error",
     "traceback": [
      "\u001b[0;31m---------------------------------------------------------------------------\u001b[0m",
      "\u001b[0;31mIndexError\u001b[0m                                Traceback (most recent call last)",
      "Input \u001b[0;32mIn [12]\u001b[0m, in \u001b[0;36m<cell line: 1>\u001b[0;34m()\u001b[0m\n\u001b[0;32m----> 1\u001b[0m key_cam \u001b[38;5;241m=\u001b[39m \u001b[43mtranslate_pc_cam\u001b[49m\u001b[43m(\u001b[49m\u001b[43msong_key\u001b[49m\u001b[43m,\u001b[49m\u001b[43m \u001b[49m\u001b[43msong_mode\u001b[49m\u001b[43m)\u001b[49m\n\u001b[1;32m      2\u001b[0m \u001b[38;5;66;03m#key_cam = key_cam[0]\u001b[39;00m\n\u001b[1;32m      3\u001b[0m key_cam\n",
      "File \u001b[0;32m~/Documents/GitHub/TechnoSteckno/harmonicneighbours.py:37\u001b[0m, in \u001b[0;36mtranslate_pc_cam\u001b[0;34m(key_pc, mode_pc)\u001b[0m\n\u001b[1;32m     35\u001b[0m tonality \u001b[38;5;241m=\u001b[39m mode[mode_pc]\n\u001b[1;32m     36\u001b[0m key_cam \u001b[38;5;241m=\u001b[39m [k \u001b[38;5;28;01mfor\u001b[39;00m k,v \u001b[38;5;129;01min\u001b[39;00m camelot\u001b[38;5;241m.\u001b[39mitems() \u001b[38;5;28;01mif\u001b[39;00m v \u001b[38;5;241m==\u001b[39m [key, tonality]]\n\u001b[0;32m---> 37\u001b[0m \u001b[38;5;28;01mreturn\u001b[39;00m \u001b[43mkey_cam\u001b[49m\u001b[43m[\u001b[49m\u001b[38;5;241;43m0\u001b[39;49m\u001b[43m:\u001b[49m\u001b[38;5;241;43m1\u001b[39;49m\u001b[43m]\u001b[49m\u001b[43m[\u001b[49m\u001b[38;5;241;43m0\u001b[39;49m\u001b[43m]\u001b[49m\n",
      "\u001b[0;31mIndexError\u001b[0m: list index out of range"
     ]
    }
   ],
   "source": [
    "key_cam = translate_pc_cam(song_key, song_mode)\n",
    "#key_cam = key_cam[0]\n",
    "key_cam"
   ]
  },
  {
   "cell_type": "markdown",
   "id": "2b6f80e0-7278-42a1-9c17-71695933285d",
   "metadata": {},
   "source": [
    "Get neighbours:"
   ]
  },
  {
   "cell_type": "code",
   "execution_count": 13,
   "id": "9f81a636-7e11-418c-9381-bac30e4ee56f",
   "metadata": {},
   "outputs": [
    {
     "ename": "NameError",
     "evalue": "name 'key_cam' is not defined",
     "output_type": "error",
     "traceback": [
      "\u001b[0;31m---------------------------------------------------------------------------\u001b[0m",
      "\u001b[0;31mNameError\u001b[0m                                 Traceback (most recent call last)",
      "Input \u001b[0;32mIn [13]\u001b[0m, in \u001b[0;36m<cell line: 1>\u001b[0;34m()\u001b[0m\n\u001b[0;32m----> 1\u001b[0m neighbours \u001b[38;5;241m=\u001b[39m harmonic_sibblings(\u001b[43mkey_cam\u001b[49m)\n\u001b[1;32m      2\u001b[0m neighbours\n",
      "\u001b[0;31mNameError\u001b[0m: name 'key_cam' is not defined"
     ]
    }
   ],
   "source": [
    "neighbours = harmonic_sibblings(key_cam)\n",
    "neighbours"
   ]
  },
  {
   "cell_type": "markdown",
   "id": "6b239977-d3c9-4cc3-97e0-90fac9cc896c",
   "metadata": {},
   "source": [
    "Translate back to key/mode pairs:"
   ]
  },
  {
   "cell_type": "code",
   "execution_count": null,
   "id": "300eb1da-1c5b-48cf-b514-2330e20ef778",
   "metadata": {},
   "outputs": [],
   "source": [
    "pos_key_modes = [translate_cam_pc(neighbour) for neighbour in neighbours]\n",
    "pos_key_modes"
   ]
  },
  {
   "cell_type": "markdown",
   "id": "57de9bf0-8fef-4acf-af6d-b5d25b0bcc54",
   "metadata": {},
   "source": [
    "Filter cluster for possible key/mode combination:"
   ]
  },
  {
   "cell_type": "code",
   "execution_count": 17,
   "id": "2a35ae10-595b-47f7-944b-08125435196c",
   "metadata": {},
   "outputs": [],
   "source": [
    "song_suggest_cluster = sp_library[sp_library['label']==song_df['label'][0]]"
   ]
  },
  {
   "cell_type": "code",
   "execution_count": 18,
   "id": "9fd11672-69e4-4850-81f5-125a67cdd951",
   "metadata": {},
   "outputs": [
    {
     "ename": "NameError",
     "evalue": "name 'pos_key_modes' is not defined",
     "output_type": "error",
     "traceback": [
      "\u001b[0;31m---------------------------------------------------------------------------\u001b[0m",
      "\u001b[0;31mNameError\u001b[0m                                 Traceback (most recent call last)",
      "Input \u001b[0;32mIn [18]\u001b[0m, in \u001b[0;36m<cell line: 2>\u001b[0;34m()\u001b[0m\n\u001b[1;32m      1\u001b[0m filtered_df \u001b[38;5;241m=\u001b[39m pd\u001b[38;5;241m.\u001b[39mDataFrame(columns\u001b[38;5;241m=\u001b[39msong_suggest_cluster\u001b[38;5;241m.\u001b[39mcolumns) \n\u001b[0;32m----> 2\u001b[0m \u001b[38;5;28;01mfor\u001b[39;00m i \u001b[38;5;129;01min\u001b[39;00m \u001b[43mpos_key_modes\u001b[49m:\n\u001b[1;32m      3\u001b[0m     filtered_df \u001b[38;5;241m=\u001b[39m pd\u001b[38;5;241m.\u001b[39mconcat([filtered_df, song_suggest_cluster\u001b[38;5;241m.\u001b[39mloc[(song_suggest_cluster[\u001b[38;5;124m'\u001b[39m\u001b[38;5;124mkey\u001b[39m\u001b[38;5;124m'\u001b[39m]\u001b[38;5;241m==\u001b[39mi[\u001b[38;5;241m0\u001b[39m][\u001b[38;5;241m0\u001b[39m]) \u001b[38;5;241m&\u001b[39m (song_suggest_cluster[\u001b[38;5;124m'\u001b[39m\u001b[38;5;124mmode\u001b[39m\u001b[38;5;124m'\u001b[39m]\u001b[38;5;241m==\u001b[39mi[\u001b[38;5;241m1\u001b[39m][\u001b[38;5;241m0\u001b[39m]), :]])\n\u001b[1;32m      4\u001b[0m song_suggest_cluster \u001b[38;5;241m=\u001b[39m filtered_df\n",
      "\u001b[0;31mNameError\u001b[0m: name 'pos_key_modes' is not defined"
     ]
    }
   ],
   "source": [
    "filtered_df = pd.DataFrame(columns=song_suggest_cluster.columns) \n",
    "for i in pos_key_modes:\n",
    "    filtered_df = pd.concat([filtered_df, song_suggest_cluster.loc[(song_suggest_cluster['key']==i[0][0]) & (song_suggest_cluster['mode']==i[1][0]), :]])\n",
    "song_suggest_cluster = filtered_df    "
   ]
  },
  {
   "cell_type": "markdown",
   "id": "9dca5e20-ae4e-49fc-8e2a-5c2b9102b923",
   "metadata": {},
   "source": [
    "### Filter for tempo:"
   ]
  },
  {
   "cell_type": "code",
   "execution_count": 15,
   "id": "552075b5-d275-4e40-be8b-693d09aab059",
   "metadata": {},
   "outputs": [
    {
     "data": {
      "text/plain": [
       "(116.95, 100.95)"
      ]
     },
     "execution_count": 15,
     "metadata": {},
     "output_type": "execute_result"
    }
   ],
   "source": [
    "song_df['tempo'][0]+8, song_df['tempo'][0] - 8 "
   ]
  },
  {
   "cell_type": "code",
   "execution_count": 19,
   "id": "e17f1c91-7bc7-456a-bba9-38f87bebe283",
   "metadata": {},
   "outputs": [],
   "source": [
    "song_suggest_cluster = song_suggest_cluster[(song_suggest_cluster['tempo']<(song_df['tempo'][0] + 8)) & (song_suggest_cluster['tempo']>(song_df['tempo'][0] - 8 ))]"
   ]
  },
  {
   "cell_type": "markdown",
   "id": "b90b0399-c277-4ce5-8c52-ecc33599af1b",
   "metadata": {},
   "source": [
    "## Select random song from filtered dataframe"
   ]
  },
  {
   "cell_type": "code",
   "execution_count": 20,
   "id": "25d4db8b-413a-4d9e-aa59-cfc5c967049d",
   "metadata": {},
   "outputs": [],
   "source": [
    "song_suggest =  song_suggest_cluster.sample()\n",
    "song_suggest_TrackID = song_suggest['TrackID'].iloc[0]"
   ]
  },
  {
   "cell_type": "code",
   "execution_count": 21,
   "id": "bbd79a1c-a6d2-4f77-836d-74c51c14482c",
   "metadata": {},
   "outputs": [
    {
     "data": {
      "text/plain": [
       "'2abfaXRfvXr9ErmI8oqz4g'"
      ]
     },
     "execution_count": 21,
     "metadata": {},
     "output_type": "execute_result"
    }
   ],
   "source": [
    "song_suggest_TrackID"
   ]
  },
  {
   "cell_type": "markdown",
   "id": "704864f2-b7be-4333-856c-bccdc2108cf4",
   "metadata": {},
   "source": [
    "## Comparing songs"
   ]
  },
  {
   "cell_type": "code",
   "execution_count": 22,
   "id": "8f29fe56-37b0-4599-b590-8baed41fe88d",
   "metadata": {},
   "outputs": [
    {
     "data": {
      "text/html": [
       "<div>\n",
       "<style scoped>\n",
       "    .dataframe tbody tr th:only-of-type {\n",
       "        vertical-align: middle;\n",
       "    }\n",
       "\n",
       "    .dataframe tbody tr th {\n",
       "        vertical-align: top;\n",
       "    }\n",
       "\n",
       "    .dataframe thead th {\n",
       "        text-align: right;\n",
       "    }\n",
       "</style>\n",
       "<table border=\"1\" class=\"dataframe\">\n",
       "  <thead>\n",
       "    <tr style=\"text-align: right;\">\n",
       "      <th></th>\n",
       "      <th>TrackName</th>\n",
       "      <th>TrackID</th>\n",
       "      <th>SampleURL</th>\n",
       "      <th>ReleaseYear</th>\n",
       "      <th>danceability</th>\n",
       "      <th>energy</th>\n",
       "      <th>loudness</th>\n",
       "      <th>speechiness</th>\n",
       "      <th>acousticness</th>\n",
       "    </tr>\n",
       "  </thead>\n",
       "  <tbody>\n",
       "    <tr>\n",
       "      <th>0</th>\n",
       "      <td>I Want To Break Free - Single Remix</td>\n",
       "      <td>2AkmdLbVKS1steeZdy8H1l</td>\n",
       "      <td>https://open.spotify.com/track/2AkmdLbVKS1stee...</td>\n",
       "      <td>1984-02-27</td>\n",
       "      <td>0.795</td>\n",
       "      <td>0.435</td>\n",
       "      <td>-8.927</td>\n",
       "      <td>0.0324</td>\n",
       "      <td>0.0841</td>\n",
       "    </tr>\n",
       "    <tr>\n",
       "      <th>76</th>\n",
       "      <td>It's The End Of The World As We Know It (And I...</td>\n",
       "      <td>2abfaXRfvXr9ErmI8oqz4g</td>\n",
       "      <td>https://p.scdn.co/mp3-preview/ed61197c727328c2...</td>\n",
       "      <td>1987-09-01</td>\n",
       "      <td>0.567</td>\n",
       "      <td>0.893</td>\n",
       "      <td>-8.88</td>\n",
       "      <td>0.0311</td>\n",
       "      <td>0.0242</td>\n",
       "    </tr>\n",
       "  </tbody>\n",
       "</table>\n",
       "</div>"
      ],
      "text/plain": [
       "                                            TrackName                 TrackID  \\\n",
       "0                 I Want To Break Free - Single Remix  2AkmdLbVKS1steeZdy8H1l   \n",
       "76  It's The End Of The World As We Know It (And I...  2abfaXRfvXr9ErmI8oqz4g   \n",
       "\n",
       "                                            SampleURL ReleaseYear  \\\n",
       "0   https://open.spotify.com/track/2AkmdLbVKS1stee...  1984-02-27   \n",
       "76  https://p.scdn.co/mp3-preview/ed61197c727328c2...  1987-09-01   \n",
       "\n",
       "   danceability energy loudness speechiness acousticness  \n",
       "0         0.795  0.435   -8.927      0.0324       0.0841  \n",
       "76        0.567  0.893    -8.88      0.0311       0.0242  "
      ]
     },
     "execution_count": 22,
     "metadata": {},
     "output_type": "execute_result"
    }
   ],
   "source": [
    "df_compair = pd.concat([song_df, song_suggest], axis=0)\n",
    "df_compair.iloc[:,0:9]"
   ]
  },
  {
   "cell_type": "code",
   "execution_count": 23,
   "id": "0ce6ae37-7656-4fb9-8cd6-f7588b7a47a0",
   "metadata": {},
   "outputs": [
    {
     "data": {
      "text/html": [
       "<div>\n",
       "<style scoped>\n",
       "    .dataframe tbody tr th:only-of-type {\n",
       "        vertical-align: middle;\n",
       "    }\n",
       "\n",
       "    .dataframe tbody tr th {\n",
       "        vertical-align: top;\n",
       "    }\n",
       "\n",
       "    .dataframe thead th {\n",
       "        text-align: right;\n",
       "    }\n",
       "</style>\n",
       "<table border=\"1\" class=\"dataframe\">\n",
       "  <thead>\n",
       "    <tr style=\"text-align: right;\">\n",
       "      <th></th>\n",
       "      <th>liveness</th>\n",
       "      <th>valence</th>\n",
       "      <th>tempo</th>\n",
       "      <th>key</th>\n",
       "      <th>mode</th>\n",
       "      <th>duration_ms</th>\n",
       "      <th>Popularity</th>\n",
       "      <th>Year</th>\n",
       "      <th>label</th>\n",
       "    </tr>\n",
       "  </thead>\n",
       "  <tbody>\n",
       "    <tr>\n",
       "      <th>0</th>\n",
       "      <td>0.0763</td>\n",
       "      <td>0.596</td>\n",
       "      <td>108.95</td>\n",
       "      <td>4</td>\n",
       "      <td>1</td>\n",
       "      <td>258013</td>\n",
       "      <td>72</td>\n",
       "      <td>1984.0</td>\n",
       "      <td>0</td>\n",
       "    </tr>\n",
       "    <tr>\n",
       "      <th>76</th>\n",
       "      <td>0.0343</td>\n",
       "      <td>0.774</td>\n",
       "      <td>102.708</td>\n",
       "      <td>7</td>\n",
       "      <td>1</td>\n",
       "      <td>246973</td>\n",
       "      <td>48.0</td>\n",
       "      <td>1987.0</td>\n",
       "      <td>0</td>\n",
       "    </tr>\n",
       "  </tbody>\n",
       "</table>\n",
       "</div>"
      ],
      "text/plain": [
       "   liveness valence    tempo key mode duration_ms Popularity    Year  label\n",
       "0    0.0763   0.596   108.95   4    1      258013         72  1984.0      0\n",
       "76   0.0343   0.774  102.708   7    1      246973       48.0  1987.0      0"
      ]
     },
     "execution_count": 23,
     "metadata": {},
     "output_type": "execute_result"
    }
   ],
   "source": [
    "df_compair.iloc[:,10:19]"
   ]
  },
  {
   "cell_type": "code",
   "execution_count": 24,
   "id": "038e3d56-53bc-44a3-bb14-2c0949b77936",
   "metadata": {},
   "outputs": [
    {
     "name": "stdout",
     "output_type": "stream",
     "text": [
      "This is your recommendation:\n"
     ]
    },
    {
     "data": {
      "text/html": [
       "\n",
       "        <iframe\n",
       "            width=\"320\"\n",
       "            height=\"80\"\n",
       "            src=\"https://open.spotify.com/embed/track/2AkmdLbVKS1steeZdy8H1l?frameborder=0&allowtransparency=true&allow=encrypted-media\"\n",
       "            frameborder=\"0\"\n",
       "            allowfullscreen\n",
       "            \n",
       "        ></iframe>\n",
       "        "
      ],
      "text/plain": [
       "<IPython.lib.display.IFrame at 0x7f88e9bc5180>"
      ]
     },
     "execution_count": 24,
     "metadata": {},
     "output_type": "execute_result"
    }
   ],
   "source": [
    "player_user_choice = showID_in_player(song_df.loc[0, 'TrackID'])\n",
    "print(f'This is your recommendation:')\n",
    "player_user_choice"
   ]
  },
  {
   "cell_type": "code",
   "execution_count": 25,
   "id": "5eb892ca-46c7-4240-b6b5-f2763209006a",
   "metadata": {},
   "outputs": [
    {
     "name": "stdout",
     "output_type": "stream",
     "text": [
      "This is your recommendation:\n"
     ]
    },
    {
     "data": {
      "text/html": [
       "\n",
       "        <iframe\n",
       "            width=\"320\"\n",
       "            height=\"80\"\n",
       "            src=\"https://open.spotify.com/embed/track/2abfaXRfvXr9ErmI8oqz4g?frameborder=0&allowtransparency=true&allow=encrypted-media\"\n",
       "            frameborder=\"0\"\n",
       "            allowfullscreen\n",
       "            \n",
       "        ></iframe>\n",
       "        "
      ],
      "text/plain": [
       "<IPython.lib.display.IFrame at 0x7f88e9bc41c0>"
      ]
     },
     "execution_count": 25,
     "metadata": {},
     "output_type": "execute_result"
    }
   ],
   "source": [
    "player_recommendation = showID_in_player(song_suggest_TrackID)\n",
    "print(f'This is your recommendation:')\n",
    "player_recommendation\n"
   ]
  },
  {
   "cell_type": "markdown",
   "id": "a1156619-2ba7-4b91-83cb-3329649dc480",
   "metadata": {},
   "source": [
    "## Further Steps to implement:\n",
    "### 1 Create playlist/put song into user playlist\n",
    "    - Did you like the song/did the song fit? \n",
    "        if yes -> select playlist and save it\n",
    "        else -> (remove song from cluster?)\n",
    "                recommend new song\n",
    "### 2 Audio analysis, graphical representation of songs/clusters\n",
    "### 3 Implement loops in order to not start from the beginning everytime\n",
    "### 4 Scrape billboard: Only scrape the weeklycharts that do not yet exist in the data base\n",
    "\n",
    "### 5 GUI\n",
    "\n",
    "### 6 Get audio features of the Top 100 (+10weeks) in order to be able to cluster them and give a simmilar song recommendation of songs that are currently in the charts"
   ]
  },
  {
   "cell_type": "code",
   "execution_count": null,
   "id": "8f3c7658-4020-4b16-b384-040bf0f5be40",
   "metadata": {},
   "outputs": [],
   "source": []
  }
 ],
 "metadata": {
  "kernelspec": {
   "display_name": "Python 3 (ipykernel)",
   "language": "python",
   "name": "python3"
  },
  "language_info": {
   "codemirror_mode": {
    "name": "ipython",
    "version": 3
   },
   "file_extension": ".py",
   "mimetype": "text/x-python",
   "name": "python",
   "nbconvert_exporter": "python",
   "pygments_lexer": "ipython3",
   "version": "3.9.7"
  }
 },
 "nbformat": 4,
 "nbformat_minor": 5
}
