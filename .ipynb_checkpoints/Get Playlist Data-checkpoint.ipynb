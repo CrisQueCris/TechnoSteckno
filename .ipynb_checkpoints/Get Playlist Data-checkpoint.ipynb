{
 "cells": [
  {
   "cell_type": "code",
   "execution_count": 15,
   "id": "da45c4ef-89a3-47f3-9cc4-3f2b73f7854b",
   "metadata": {},
   "outputs": [],
   "source": [
    "import GSA\n",
    "import pandas as pd"
   ]
  },
  {
   "cell_type": "code",
   "execution_count": 16,
   "id": "8037db97-a1d9-46a8-9c61-5ed01262bae1",
   "metadata": {},
   "outputs": [],
   "source": [
    "GSA.authenticate()"
   ]
  },
  {
   "cell_type": "code",
   "execution_count": 17,
   "id": "9696af03-d190-463a-81ef-fbc289ca821d",
   "metadata": {},
   "outputs": [],
   "source": [
    "playlist_collection = ('37i9dQZF1DX11pUHJdXMnN',\n",
    "    '37i9dQZF1DX2GKumqRIZ7g',\n",
    "    '37i9dQZF1DX3jWba5xiDhV',\n",
    "                       '37i9dQZF1DX6ApTpuYN5Gl',\n",
    "                      '37i9dQZF1DX0AZ24QB6TCx',\n",
    "                      '37i9dQZF1DX6J5NfMJS675',\n",
    "                      '37i9dQZF1DX0pH2SQMRXnC',\n",
    "                      '37i9dQZF1DX0BcQWzuB7ZO',\n",
    "                      '37i9dQZF1DX3d2wagqzwmM',\n",
    "                      '37i9dQZF1DX8AliSIsGeKd',\n",
    "                       '37i9dQZF1DX8ZMwsPgxIOs',\n",
    "                       '37i9dQZF1DX1GT5IIzDqMe',\n",
    "                       '37i9dQZF1DX5wDmLW735Yd',\n",
    "                       '37i9dQZF1DX0hvSv9Rf41p',\n",
    "                       '37i9dQZF1DX1OIMC8iDi74',\n",
    "                       '37i9dQZF1DX37cXruBmbRS',\n",
    "                       '37i9dQZF1DX3jWba5xiDhV',\n",
    "                       '37i9dQZF1DX11pUHJdXMnN',\n",
    "                       '37i9dQZF1DX1tW4VlEfDSS',\n",
    "                       '37i9dQZF1DX2pprEpa9URZ',\n",
    "                       '37i9dQZF1DWTvNyxOwkztu',\n",
    "                       '37i9dQZF1DX6VdMW310YC7',\n",
    "                       '37i9dQZF1DX0AZ24QB6TCx')"
   ]
  },
  {
   "cell_type": "code",
   "execution_count": 18,
   "id": "f2a8e5ed-bd72-467a-b317-fd5b0495b7bc",
   "metadata": {},
   "outputs": [
    {
     "name": "stdout",
     "output_type": "stream",
     "text": [
      "Getting audio features and information from playlist.\n",
      "Current track: Howling - Âme Remix\n"
     ]
    },
    {
     "name": "stderr",
     "output_type": "stream",
     "text": [
      "C:\\Users\\Lenovo\\Documents\\GitHub\\GeneralizedSpotifyAnalyser\\GSA.py:252: FutureWarning: The frame.append method is deprecated and will be removed from pandas in a future version. Use pandas.concat instead.\n",
      "  sampleDataFrame = sampleDataFrame.append(thisDf, ignore_index=True)\n",
      "C:\\Users\\Lenovo\\Documents\\GitHub\\GeneralizedSpotifyAnalyser\\GSA.py:252: FutureWarning: The frame.append method is deprecated and will be removed from pandas in a future version. Use pandas.concat instead.\n",
      "  sampleDataFrame = sampleDataFrame.append(thisDf, ignore_index=True)\n"
     ]
    },
    {
     "name": "stdout",
     "output_type": "stream",
     "text": [
      "Current track: Island feat. Caro - Nôze Remix\n",
      "Current track: Shadows\n"
     ]
    },
    {
     "name": "stderr",
     "output_type": "stream",
     "text": [
      "C:\\Users\\Lenovo\\Documents\\GitHub\\GeneralizedSpotifyAnalyser\\GSA.py:252: FutureWarning: The frame.append method is deprecated and will be removed from pandas in a future version. Use pandas.concat instead.\n",
      "  sampleDataFrame = sampleDataFrame.append(thisDf, ignore_index=True)\n"
     ]
    },
    {
     "name": "stdout",
     "output_type": "stream",
     "text": [
      "Current track: Love Will Tear Us Apart - Tensnake Remix\n"
     ]
    },
    {
     "name": "stderr",
     "output_type": "stream",
     "text": [
      "C:\\Users\\Lenovo\\Documents\\GitHub\\GeneralizedSpotifyAnalyser\\GSA.py:252: FutureWarning: The frame.append method is deprecated and will be removed from pandas in a future version. Use pandas.concat instead.\n",
      "  sampleDataFrame = sampleDataFrame.append(thisDf, ignore_index=True)\n"
     ]
    },
    {
     "name": "stdout",
     "output_type": "stream",
     "text": [
      "Current track: The Distance\n"
     ]
    },
    {
     "name": "stderr",
     "output_type": "stream",
     "text": [
      "C:\\Users\\Lenovo\\Documents\\GitHub\\GeneralizedSpotifyAnalyser\\GSA.py:252: FutureWarning: The frame.append method is deprecated and will be removed from pandas in a future version. Use pandas.concat instead.\n",
      "  sampleDataFrame = sampleDataFrame.append(thisDf, ignore_index=True)\n",
      "C:\\Users\\Lenovo\\Documents\\GitHub\\GeneralizedSpotifyAnalyser\\GSA.py:252: FutureWarning: The frame.append method is deprecated and will be removed from pandas in a future version. Use pandas.concat instead.\n",
      "  sampleDataFrame = sampleDataFrame.append(thisDf, ignore_index=True)\n"
     ]
    },
    {
     "name": "stdout",
     "output_type": "stream",
     "text": [
      "Current track: Goodbye\n",
      "Current track: Animal\n"
     ]
    },
    {
     "name": "stderr",
     "output_type": "stream",
     "text": [
      "C:\\Users\\Lenovo\\Documents\\GitHub\\GeneralizedSpotifyAnalyser\\GSA.py:252: FutureWarning: The frame.append method is deprecated and will be removed from pandas in a future version. Use pandas.concat instead.\n",
      "  sampleDataFrame = sampleDataFrame.append(thisDf, ignore_index=True)\n"
     ]
    },
    {
     "name": "stdout",
     "output_type": "stream",
     "text": [
      "Current track: Apricots\n"
     ]
    },
    {
     "name": "stderr",
     "output_type": "stream",
     "text": [
      "C:\\Users\\Lenovo\\Documents\\GitHub\\GeneralizedSpotifyAnalyser\\GSA.py:252: FutureWarning: The frame.append method is deprecated and will be removed from pandas in a future version. Use pandas.concat instead.\n",
      "  sampleDataFrame = sampleDataFrame.append(thisDf, ignore_index=True)\n"
     ]
    },
    {
     "name": "stdout",
     "output_type": "stream",
     "text": [
      "Current track: GLY\n"
     ]
    },
    {
     "name": "stderr",
     "output_type": "stream",
     "text": [
      "C:\\Users\\Lenovo\\Documents\\GitHub\\GeneralizedSpotifyAnalyser\\GSA.py:252: FutureWarning: The frame.append method is deprecated and will be removed from pandas in a future version. Use pandas.concat instead.\n",
      "  sampleDataFrame = sampleDataFrame.append(thisDf, ignore_index=True)\n",
      "C:\\Users\\Lenovo\\Documents\\GitHub\\GeneralizedSpotifyAnalyser\\GSA.py:252: FutureWarning: The frame.append method is deprecated and will be removed from pandas in a future version. Use pandas.concat instead.\n",
      "  sampleDataFrame = sampleDataFrame.append(thisDf, ignore_index=True)\n"
     ]
    },
    {
     "name": "stdout",
     "output_type": "stream",
     "text": [
      "Current track: Marea (We’ve Lost Dancing)\n",
      "Current track: Into the Glow\n"
     ]
    },
    {
     "name": "stderr",
     "output_type": "stream",
     "text": [
      "C:\\Users\\Lenovo\\Documents\\GitHub\\GeneralizedSpotifyAnalyser\\GSA.py:252: FutureWarning: The frame.append method is deprecated and will be removed from pandas in a future version. Use pandas.concat instead.\n",
      "  sampleDataFrame = sampleDataFrame.append(thisDf, ignore_index=True)\n"
     ]
    },
    {
     "name": "stdout",
     "output_type": "stream",
     "text": [
      "Current track: Oceans\n"
     ]
    },
    {
     "name": "stderr",
     "output_type": "stream",
     "text": [
      "C:\\Users\\Lenovo\\Documents\\GitHub\\GeneralizedSpotifyAnalyser\\GSA.py:252: FutureWarning: The frame.append method is deprecated and will be removed from pandas in a future version. Use pandas.concat instead.\n",
      "  sampleDataFrame = sampleDataFrame.append(thisDf, ignore_index=True)\n"
     ]
    },
    {
     "name": "stdout",
     "output_type": "stream",
     "text": [
      "Current track: Ghostkeeper\n"
     ]
    },
    {
     "name": "stderr",
     "output_type": "stream",
     "text": [
      "C:\\Users\\Lenovo\\Documents\\GitHub\\GeneralizedSpotifyAnalyser\\GSA.py:252: FutureWarning: The frame.append method is deprecated and will be removed from pandas in a future version. Use pandas.concat instead.\n",
      "  sampleDataFrame = sampleDataFrame.append(thisDf, ignore_index=True)\n"
     ]
    },
    {
     "name": "stdout",
     "output_type": "stream",
     "text": [
      "Current track: Sky and Sand\n"
     ]
    },
    {
     "name": "stderr",
     "output_type": "stream",
     "text": [
      "C:\\Users\\Lenovo\\Documents\\GitHub\\GeneralizedSpotifyAnalyser\\GSA.py:252: FutureWarning: The frame.append method is deprecated and will be removed from pandas in a future version. Use pandas.concat instead.\n",
      "  sampleDataFrame = sampleDataFrame.append(thisDf, ignore_index=True)\n"
     ]
    },
    {
     "name": "stdout",
     "output_type": "stream",
     "text": [
      "Current track: The Last Goodbye (feat. Bettye LaVette)\n"
     ]
    },
    {
     "name": "stderr",
     "output_type": "stream",
     "text": [
      "C:\\Users\\Lenovo\\Documents\\GitHub\\GeneralizedSpotifyAnalyser\\GSA.py:252: FutureWarning: The frame.append method is deprecated and will be removed from pandas in a future version. Use pandas.concat instead.\n",
      "  sampleDataFrame = sampleDataFrame.append(thisDf, ignore_index=True)\n"
     ]
    },
    {
     "name": "stdout",
     "output_type": "stream",
     "text": [
      "Current track: Girl You Got My Heart - Maya Jane Coles Remix\n"
     ]
    },
    {
     "name": "stderr",
     "output_type": "stream",
     "text": [
      "C:\\Users\\Lenovo\\Documents\\GitHub\\GeneralizedSpotifyAnalyser\\GSA.py:252: FutureWarning: The frame.append method is deprecated and will be removed from pandas in a future version. Use pandas.concat instead.\n",
      "  sampleDataFrame = sampleDataFrame.append(thisDf, ignore_index=True)\n"
     ]
    },
    {
     "name": "stdout",
     "output_type": "stream",
     "text": [
      "Current track: Natural Blues - Topic Remix\n"
     ]
    },
    {
     "name": "stderr",
     "output_type": "stream",
     "text": [
      "C:\\Users\\Lenovo\\Documents\\GitHub\\GeneralizedSpotifyAnalyser\\GSA.py:252: FutureWarning: The frame.append method is deprecated and will be removed from pandas in a future version. Use pandas.concat instead.\n",
      "  sampleDataFrame = sampleDataFrame.append(thisDf, ignore_index=True)\n"
     ]
    },
    {
     "name": "stdout",
     "output_type": "stream",
     "text": [
      "Current track: Kenger\n"
     ]
    },
    {
     "name": "stderr",
     "output_type": "stream",
     "text": [
      "C:\\Users\\Lenovo\\Documents\\GitHub\\GeneralizedSpotifyAnalyser\\GSA.py:252: FutureWarning: The frame.append method is deprecated and will be removed from pandas in a future version. Use pandas.concat instead.\n",
      "  sampleDataFrame = sampleDataFrame.append(thisDf, ignore_index=True)\n"
     ]
    },
    {
     "name": "stdout",
     "output_type": "stream",
     "text": [
      "Current track: NO SKIN\n"
     ]
    },
    {
     "name": "stderr",
     "output_type": "stream",
     "text": [
      "C:\\Users\\Lenovo\\Documents\\GitHub\\GeneralizedSpotifyAnalyser\\GSA.py:252: FutureWarning: The frame.append method is deprecated and will be removed from pandas in a future version. Use pandas.concat instead.\n",
      "  sampleDataFrame = sampleDataFrame.append(thisDf, ignore_index=True)\n"
     ]
    },
    {
     "name": "stdout",
     "output_type": "stream",
     "text": [
      "Current track: Angie (I’ve Been Lost)\n"
     ]
    },
    {
     "name": "stderr",
     "output_type": "stream",
     "text": [
      "C:\\Users\\Lenovo\\Documents\\GitHub\\GeneralizedSpotifyAnalyser\\GSA.py:252: FutureWarning: The frame.append method is deprecated and will be removed from pandas in a future version. Use pandas.concat instead.\n",
      "  sampleDataFrame = sampleDataFrame.append(thisDf, ignore_index=True)\n"
     ]
    },
    {
     "name": "stdout",
     "output_type": "stream",
     "text": [
      "Current track: Numb\n"
     ]
    },
    {
     "name": "stderr",
     "output_type": "stream",
     "text": [
      "C:\\Users\\Lenovo\\Documents\\GitHub\\GeneralizedSpotifyAnalyser\\GSA.py:252: FutureWarning: The frame.append method is deprecated and will be removed from pandas in a future version. Use pandas.concat instead.\n",
      "  sampleDataFrame = sampleDataFrame.append(thisDf, ignore_index=True)\n"
     ]
    },
    {
     "name": "stdout",
     "output_type": "stream",
     "text": [
      "Current track: Original Sin\n"
     ]
    },
    {
     "name": "stderr",
     "output_type": "stream",
     "text": [
      "C:\\Users\\Lenovo\\Documents\\GitHub\\GeneralizedSpotifyAnalyser\\GSA.py:252: FutureWarning: The frame.append method is deprecated and will be removed from pandas in a future version. Use pandas.concat instead.\n",
      "  sampleDataFrame = sampleDataFrame.append(thisDf, ignore_index=True)\n"
     ]
    },
    {
     "name": "stdout",
     "output_type": "stream",
     "text": [
      "Current track: Be Someone\n"
     ]
    },
    {
     "name": "stderr",
     "output_type": "stream",
     "text": [
      "C:\\Users\\Lenovo\\Documents\\GitHub\\GeneralizedSpotifyAnalyser\\GSA.py:252: FutureWarning: The frame.append method is deprecated and will be removed from pandas in a future version. Use pandas.concat instead.\n",
      "  sampleDataFrame = sampleDataFrame.append(thisDf, ignore_index=True)\n"
     ]
    },
    {
     "name": "stdout",
     "output_type": "stream",
     "text": [
      "Current track: Lose Your Head - CamelPhat Remix\n"
     ]
    },
    {
     "name": "stderr",
     "output_type": "stream",
     "text": [
      "C:\\Users\\Lenovo\\Documents\\GitHub\\GeneralizedSpotifyAnalyser\\GSA.py:252: FutureWarning: The frame.append method is deprecated and will be removed from pandas in a future version. Use pandas.concat instead.\n",
      "  sampleDataFrame = sampleDataFrame.append(thisDf, ignore_index=True)\n"
     ]
    },
    {
     "name": "stdout",
     "output_type": "stream",
     "text": [
      "Current track: Selbst\n"
     ]
    },
    {
     "name": "stderr",
     "output_type": "stream",
     "text": [
      "C:\\Users\\Lenovo\\Documents\\GitHub\\GeneralizedSpotifyAnalyser\\GSA.py:252: FutureWarning: The frame.append method is deprecated and will be removed from pandas in a future version. Use pandas.concat instead.\n",
      "  sampleDataFrame = sampleDataFrame.append(thisDf, ignore_index=True)\n"
     ]
    },
    {
     "name": "stdout",
     "output_type": "stream",
     "text": [
      "Current track: Inner Light\n"
     ]
    },
    {
     "name": "stderr",
     "output_type": "stream",
     "text": [
      "C:\\Users\\Lenovo\\Documents\\GitHub\\GeneralizedSpotifyAnalyser\\GSA.py:252: FutureWarning: The frame.append method is deprecated and will be removed from pandas in a future version. Use pandas.concat instead.\n",
      "  sampleDataFrame = sampleDataFrame.append(thisDf, ignore_index=True)\n"
     ]
    },
    {
     "name": "stdout",
     "output_type": "stream",
     "text": [
      "Current track: Hiraeth (feat. Kim Van Loo)\n"
     ]
    },
    {
     "name": "stderr",
     "output_type": "stream",
     "text": [
      "C:\\Users\\Lenovo\\Documents\\GitHub\\GeneralizedSpotifyAnalyser\\GSA.py:252: FutureWarning: The frame.append method is deprecated and will be removed from pandas in a future version. Use pandas.concat instead.\n",
      "  sampleDataFrame = sampleDataFrame.append(thisDf, ignore_index=True)\n"
     ]
    },
    {
     "name": "stdout",
     "output_type": "stream",
     "text": [
      "Current track: Killing Time\n"
     ]
    },
    {
     "name": "stderr",
     "output_type": "stream",
     "text": [
      "C:\\Users\\Lenovo\\Documents\\GitHub\\GeneralizedSpotifyAnalyser\\GSA.py:252: FutureWarning: The frame.append method is deprecated and will be removed from pandas in a future version. Use pandas.concat instead.\n",
      "  sampleDataFrame = sampleDataFrame.append(thisDf, ignore_index=True)\n"
     ]
    },
    {
     "name": "stdout",
     "output_type": "stream",
     "text": [
      "Current track: Eyes\n"
     ]
    },
    {
     "name": "stderr",
     "output_type": "stream",
     "text": [
      "C:\\Users\\Lenovo\\Documents\\GitHub\\GeneralizedSpotifyAnalyser\\GSA.py:252: FutureWarning: The frame.append method is deprecated and will be removed from pandas in a future version. Use pandas.concat instead.\n",
      "  sampleDataFrame = sampleDataFrame.append(thisDf, ignore_index=True)\n"
     ]
    },
    {
     "name": "stdout",
     "output_type": "stream",
     "text": [
      "Current track: Your Eyes\n"
     ]
    },
    {
     "name": "stderr",
     "output_type": "stream",
     "text": [
      "C:\\Users\\Lenovo\\Documents\\GitHub\\GeneralizedSpotifyAnalyser\\GSA.py:252: FutureWarning: The frame.append method is deprecated and will be removed from pandas in a future version. Use pandas.concat instead.\n",
      "  sampleDataFrame = sampleDataFrame.append(thisDf, ignore_index=True)\n"
     ]
    },
    {
     "name": "stdout",
     "output_type": "stream",
     "text": [
      "Current track: Building a Home\n"
     ]
    },
    {
     "name": "stderr",
     "output_type": "stream",
     "text": [
      "C:\\Users\\Lenovo\\Documents\\GitHub\\GeneralizedSpotifyAnalyser\\GSA.py:252: FutureWarning: The frame.append method is deprecated and will be removed from pandas in a future version. Use pandas.concat instead.\n",
      "  sampleDataFrame = sampleDataFrame.append(thisDf, ignore_index=True)\n"
     ]
    },
    {
     "name": "stdout",
     "output_type": "stream",
     "text": [
      "Current track: Because You Move Me\n"
     ]
    },
    {
     "name": "stderr",
     "output_type": "stream",
     "text": [
      "C:\\Users\\Lenovo\\Documents\\GitHub\\GeneralizedSpotifyAnalyser\\GSA.py:252: FutureWarning: The frame.append method is deprecated and will be removed from pandas in a future version. Use pandas.concat instead.\n",
      "  sampleDataFrame = sampleDataFrame.append(thisDf, ignore_index=True)\n"
     ]
    },
    {
     "name": "stdout",
     "output_type": "stream",
     "text": [
      "Current track: Lost\n"
     ]
    },
    {
     "name": "stderr",
     "output_type": "stream",
     "text": [
      "C:\\Users\\Lenovo\\Documents\\GitHub\\GeneralizedSpotifyAnalyser\\GSA.py:252: FutureWarning: The frame.append method is deprecated and will be removed from pandas in a future version. Use pandas.concat instead.\n",
      "  sampleDataFrame = sampleDataFrame.append(thisDf, ignore_index=True)\n"
     ]
    },
    {
     "name": "stdout",
     "output_type": "stream",
     "text": [
      "Current track: Desire - Single Edit\n"
     ]
    },
    {
     "name": "stderr",
     "output_type": "stream",
     "text": [
      "C:\\Users\\Lenovo\\Documents\\GitHub\\GeneralizedSpotifyAnalyser\\GSA.py:252: FutureWarning: The frame.append method is deprecated and will be removed from pandas in a future version. Use pandas.concat instead.\n",
      "  sampleDataFrame = sampleDataFrame.append(thisDf, ignore_index=True)\n"
     ]
    },
    {
     "name": "stdout",
     "output_type": "stream",
     "text": [
      "Current track: Moment\n"
     ]
    },
    {
     "name": "stderr",
     "output_type": "stream",
     "text": [
      "C:\\Users\\Lenovo\\Documents\\GitHub\\GeneralizedSpotifyAnalyser\\GSA.py:252: FutureWarning: The frame.append method is deprecated and will be removed from pandas in a future version. Use pandas.concat instead.\n",
      "  sampleDataFrame = sampleDataFrame.append(thisDf, ignore_index=True)\n"
     ]
    },
    {
     "name": "stdout",
     "output_type": "stream",
     "text": [
      "Current track: Running up That Hill\n"
     ]
    },
    {
     "name": "stderr",
     "output_type": "stream",
     "text": [
      "C:\\Users\\Lenovo\\Documents\\GitHub\\GeneralizedSpotifyAnalyser\\GSA.py:252: FutureWarning: The frame.append method is deprecated and will be removed from pandas in a future version. Use pandas.concat instead.\n",
      "  sampleDataFrame = sampleDataFrame.append(thisDf, ignore_index=True)\n"
     ]
    },
    {
     "name": "stdout",
     "output_type": "stream",
     "text": [
      "Current track: Villain\n"
     ]
    },
    {
     "name": "stderr",
     "output_type": "stream",
     "text": [
      "C:\\Users\\Lenovo\\Documents\\GitHub\\GeneralizedSpotifyAnalyser\\GSA.py:252: FutureWarning: The frame.append method is deprecated and will be removed from pandas in a future version. Use pandas.concat instead.\n",
      "  sampleDataFrame = sampleDataFrame.append(thisDf, ignore_index=True)\n"
     ]
    },
    {
     "name": "stdout",
     "output_type": "stream",
     "text": [
      "Current track: Moments - Ben Böhmer & Nils Hoffmann Remix\n"
     ]
    },
    {
     "name": "stderr",
     "output_type": "stream",
     "text": [
      "C:\\Users\\Lenovo\\Documents\\GitHub\\GeneralizedSpotifyAnalyser\\GSA.py:252: FutureWarning: The frame.append method is deprecated and will be removed from pandas in a future version. Use pandas.concat instead.\n",
      "  sampleDataFrame = sampleDataFrame.append(thisDf, ignore_index=True)\n"
     ]
    },
    {
     "name": "stdout",
     "output_type": "stream",
     "text": [
      "Current track: Breathing\n"
     ]
    },
    {
     "name": "stderr",
     "output_type": "stream",
     "text": [
      "C:\\Users\\Lenovo\\Documents\\GitHub\\GeneralizedSpotifyAnalyser\\GSA.py:252: FutureWarning: The frame.append method is deprecated and will be removed from pandas in a future version. Use pandas.concat instead.\n",
      "  sampleDataFrame = sampleDataFrame.append(thisDf, ignore_index=True)\n",
      "C:\\Users\\Lenovo\\Documents\\GitHub\\GeneralizedSpotifyAnalyser\\GSA.py:252: FutureWarning: The frame.append method is deprecated and will be removed from pandas in a future version. Use pandas.concat instead.\n",
      "  sampleDataFrame = sampleDataFrame.append(thisDf, ignore_index=True)\n"
     ]
    },
    {
     "name": "stdout",
     "output_type": "stream",
     "text": [
      "Current track: You've Done Enough\n",
      "Current track: Waterfall\n"
     ]
    },
    {
     "name": "stderr",
     "output_type": "stream",
     "text": [
      "C:\\Users\\Lenovo\\Documents\\GitHub\\GeneralizedSpotifyAnalyser\\GSA.py:252: FutureWarning: The frame.append method is deprecated and will be removed from pandas in a future version. Use pandas.concat instead.\n",
      "  sampleDataFrame = sampleDataFrame.append(thisDf, ignore_index=True)\n"
     ]
    },
    {
     "name": "stdout",
     "output_type": "stream",
     "text": [
      "Current track: Something About\n"
     ]
    },
    {
     "name": "stderr",
     "output_type": "stream",
     "text": [
      "C:\\Users\\Lenovo\\Documents\\GitHub\\GeneralizedSpotifyAnalyser\\GSA.py:252: FutureWarning: The frame.append method is deprecated and will be removed from pandas in a future version. Use pandas.concat instead.\n",
      "  sampleDataFrame = sampleDataFrame.append(thisDf, ignore_index=True)\n"
     ]
    },
    {
     "name": "stdout",
     "output_type": "stream",
     "text": [
      "Current track: Reflections - il:lo Remix\n"
     ]
    },
    {
     "name": "stderr",
     "output_type": "stream",
     "text": [
      "C:\\Users\\Lenovo\\Documents\\GitHub\\GeneralizedSpotifyAnalyser\\GSA.py:252: FutureWarning: The frame.append method is deprecated and will be removed from pandas in a future version. Use pandas.concat instead.\n",
      "  sampleDataFrame = sampleDataFrame.append(thisDf, ignore_index=True)\n"
     ]
    },
    {
     "name": "stdout",
     "output_type": "stream",
     "text": [
      "Current track: Fall\n"
     ]
    },
    {
     "name": "stderr",
     "output_type": "stream",
     "text": [
      "C:\\Users\\Lenovo\\Documents\\GitHub\\GeneralizedSpotifyAnalyser\\GSA.py:252: FutureWarning: The frame.append method is deprecated and will be removed from pandas in a future version. Use pandas.concat instead.\n",
      "  sampleDataFrame = sampleDataFrame.append(thisDf, ignore_index=True)\n"
     ]
    },
    {
     "name": "stdout",
     "output_type": "stream",
     "text": [
      "Current track: The Balance\n"
     ]
    },
    {
     "name": "stderr",
     "output_type": "stream",
     "text": [
      "C:\\Users\\Lenovo\\Documents\\GitHub\\GeneralizedSpotifyAnalyser\\GSA.py:252: FutureWarning: The frame.append method is deprecated and will be removed from pandas in a future version. Use pandas.concat instead.\n",
      "  sampleDataFrame = sampleDataFrame.append(thisDf, ignore_index=True)\n"
     ]
    },
    {
     "name": "stdout",
     "output_type": "stream",
     "text": [
      "Current track: Find a Way\n"
     ]
    },
    {
     "name": "stderr",
     "output_type": "stream",
     "text": [
      "C:\\Users\\Lenovo\\Documents\\GitHub\\GeneralizedSpotifyAnalyser\\GSA.py:252: FutureWarning: The frame.append method is deprecated and will be removed from pandas in a future version. Use pandas.concat instead.\n",
      "  sampleDataFrame = sampleDataFrame.append(thisDf, ignore_index=True)\n"
     ]
    },
    {
     "name": "stdout",
     "output_type": "stream",
     "text": [
      "Current track: When Everything's Right\n"
     ]
    },
    {
     "name": "stderr",
     "output_type": "stream",
     "text": [
      "C:\\Users\\Lenovo\\Documents\\GitHub\\GeneralizedSpotifyAnalyser\\GSA.py:252: FutureWarning: The frame.append method is deprecated and will be removed from pandas in a future version. Use pandas.concat instead.\n",
      "  sampleDataFrame = sampleDataFrame.append(thisDf, ignore_index=True)\n"
     ]
    },
    {
     "name": "stdout",
     "output_type": "stream",
     "text": [
      "Current track: On My Way\n"
     ]
    },
    {
     "name": "stderr",
     "output_type": "stream",
     "text": [
      "C:\\Users\\Lenovo\\Documents\\GitHub\\GeneralizedSpotifyAnalyser\\GSA.py:252: FutureWarning: The frame.append method is deprecated and will be removed from pandas in a future version. Use pandas.concat instead.\n",
      "  sampleDataFrame = sampleDataFrame.append(thisDf, ignore_index=True)\n"
     ]
    },
    {
     "name": "stdout",
     "output_type": "stream",
     "text": [
      "Current track: Fir\n"
     ]
    },
    {
     "name": "stderr",
     "output_type": "stream",
     "text": [
      "C:\\Users\\Lenovo\\Documents\\GitHub\\GeneralizedSpotifyAnalyser\\GSA.py:252: FutureWarning: The frame.append method is deprecated and will be removed from pandas in a future version. Use pandas.concat instead.\n",
      "  sampleDataFrame = sampleDataFrame.append(thisDf, ignore_index=True)\n"
     ]
    },
    {
     "name": "stdout",
     "output_type": "stream",
     "text": [
      "Current track: Blue Lights\n"
     ]
    },
    {
     "name": "stderr",
     "output_type": "stream",
     "text": [
      "C:\\Users\\Lenovo\\Documents\\GitHub\\GeneralizedSpotifyAnalyser\\GSA.py:252: FutureWarning: The frame.append method is deprecated and will be removed from pandas in a future version. Use pandas.concat instead.\n",
      "  sampleDataFrame = sampleDataFrame.append(thisDf, ignore_index=True)\n"
     ]
    }
   ],
   "source": [
    "for pl_id in playlist_collection:\n",
    "    pl_id = GSA.getInformation(pl_id, verbose=True)"
   ]
  }
 ],
 "metadata": {
  "kernelspec": {
   "display_name": "Python 3 (ipykernel)",
   "language": "python",
   "name": "python3"
  },
  "language_info": {
   "codemirror_mode": {
    "name": "ipython",
    "version": 3
   },
   "file_extension": ".py",
   "mimetype": "text/x-python",
   "name": "python",
   "nbconvert_exporter": "python",
   "pygments_lexer": "ipython3",
   "version": "3.10.4"
  }
 },
 "nbformat": 4,
 "nbformat_minor": 5
}
